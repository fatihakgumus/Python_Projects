{
  "nbformat": 4,
  "nbformat_minor": 0,
  "metadata": {
    "kernelspec": {
      "display_name": "Python 3",
      "language": "python",
      "name": "python3"
    },
    "language_info": {
      "codemirror_mode": {
        "name": "ipython",
        "version": 3
      },
      "file_extension": ".py",
      "mimetype": "text/x-python",
      "name": "python",
      "nbconvert_exporter": "python",
      "pygments_lexer": "ipython3",
      "version": "3.7.6"
    },
    "colab": {
      "name": "project1_police_weather .ipynb",
      "provenance": [],
      "include_colab_link": true
    }
  },
  "cells": [
    {
      "cell_type": "markdown",
      "metadata": {
        "id": "view-in-github",
        "colab_type": "text"
      },
      "source": [
        "<a href=\"https://colab.research.google.com/github/fatihakgumus/python_projects/blob/master/project1_police_weather_.ipynb\" target=\"_parent\"><img src=\"https://colab.research.google.com/assets/colab-badge.svg\" alt=\"Open In Colab\"/></a>"
      ]
    },
    {
      "cell_type": "code",
      "metadata": {
        "id": "5KN9TgaOY5nP"
      },
      "source": [
        "import pandas as pd"
      ],
      "execution_count": null,
      "outputs": []
    },
    {
      "cell_type": "code",
      "metadata": {
        "id": "9mq-vo3GY5nt",
        "outputId": "c23bf332-def7-43bc-af09-8b0a08e18f91"
      },
      "source": [
        "ri = pd.read_csv(\"RI_cleaned.csv\")"
      ],
      "execution_count": null,
      "outputs": [
        {
          "output_type": "stream",
          "text": [
            "C:\\Program Files\\anaconda\\lib\\site-packages\\IPython\\core\\interactiveshell.py:3063: DtypeWarning: Columns (8,16) have mixed types.Specify dtype option on import or set low_memory=False.\n",
            "  interactivity=interactivity, compiler=compiler, result=result)\n"
          ],
          "name": "stderr"
        }
      ]
    },
    {
      "cell_type": "code",
      "metadata": {
        "id": "-VzP-lS2Y5nw",
        "outputId": "889d5989-9a3f-4358-eb3c-da27a5e46bfc"
      },
      "source": [
        "ri.head()"
      ],
      "execution_count": null,
      "outputs": [
        {
          "output_type": "execute_result",
          "data": {
            "text/html": [
              "<div>\n",
              "<style scoped>\n",
              "    .dataframe tbody tr th:only-of-type {\n",
              "        vertical-align: middle;\n",
              "    }\n",
              "\n",
              "    .dataframe tbody tr th {\n",
              "        vertical-align: top;\n",
              "    }\n",
              "\n",
              "    .dataframe thead th {\n",
              "        text-align: right;\n",
              "    }\n",
              "</style>\n",
              "<table border=\"1\" class=\"dataframe\">\n",
              "  <thead>\n",
              "    <tr style=\"text-align: right;\">\n",
              "      <th></th>\n",
              "      <th>id</th>\n",
              "      <th>state</th>\n",
              "      <th>stop_date</th>\n",
              "      <th>stop_time</th>\n",
              "      <th>location_raw</th>\n",
              "      <th>county_name</th>\n",
              "      <th>county_fips</th>\n",
              "      <th>fine_grained_location</th>\n",
              "      <th>police_department</th>\n",
              "      <th>driver_gender</th>\n",
              "      <th>...</th>\n",
              "      <th>search_conducted</th>\n",
              "      <th>search_type_raw</th>\n",
              "      <th>search_type</th>\n",
              "      <th>contraband_found</th>\n",
              "      <th>stop_outcome</th>\n",
              "      <th>is_arrested</th>\n",
              "      <th>stop_duration</th>\n",
              "      <th>out_of_state</th>\n",
              "      <th>drugs_related_stop</th>\n",
              "      <th>district</th>\n",
              "    </tr>\n",
              "  </thead>\n",
              "  <tbody>\n",
              "    <tr>\n",
              "      <th>0</th>\n",
              "      <td>RI-2005-00001</td>\n",
              "      <td>RI</td>\n",
              "      <td>2005-01-02</td>\n",
              "      <td>01:55</td>\n",
              "      <td>Zone K1</td>\n",
              "      <td>NaN</td>\n",
              "      <td>NaN</td>\n",
              "      <td>NaN</td>\n",
              "      <td>600</td>\n",
              "      <td>M</td>\n",
              "      <td>...</td>\n",
              "      <td>False</td>\n",
              "      <td>NaN</td>\n",
              "      <td>NaN</td>\n",
              "      <td>False</td>\n",
              "      <td>Citation</td>\n",
              "      <td>False</td>\n",
              "      <td>0-15 Min</td>\n",
              "      <td>False</td>\n",
              "      <td>False</td>\n",
              "      <td>Zone K1</td>\n",
              "    </tr>\n",
              "    <tr>\n",
              "      <th>1</th>\n",
              "      <td>RI-2005-00002</td>\n",
              "      <td>RI</td>\n",
              "      <td>2005-01-02</td>\n",
              "      <td>20:30</td>\n",
              "      <td>Zone X4</td>\n",
              "      <td>NaN</td>\n",
              "      <td>NaN</td>\n",
              "      <td>NaN</td>\n",
              "      <td>500</td>\n",
              "      <td>M</td>\n",
              "      <td>...</td>\n",
              "      <td>False</td>\n",
              "      <td>NaN</td>\n",
              "      <td>NaN</td>\n",
              "      <td>False</td>\n",
              "      <td>Citation</td>\n",
              "      <td>False</td>\n",
              "      <td>16-30 Min</td>\n",
              "      <td>False</td>\n",
              "      <td>False</td>\n",
              "      <td>Zone X4</td>\n",
              "    </tr>\n",
              "    <tr>\n",
              "      <th>2</th>\n",
              "      <td>RI-2005-00003</td>\n",
              "      <td>RI</td>\n",
              "      <td>2005-01-04</td>\n",
              "      <td>11:30</td>\n",
              "      <td>Zone X1</td>\n",
              "      <td>NaN</td>\n",
              "      <td>NaN</td>\n",
              "      <td>NaN</td>\n",
              "      <td>0</td>\n",
              "      <td>NaN</td>\n",
              "      <td>...</td>\n",
              "      <td>False</td>\n",
              "      <td>NaN</td>\n",
              "      <td>NaN</td>\n",
              "      <td>False</td>\n",
              "      <td>NaN</td>\n",
              "      <td>NaN</td>\n",
              "      <td>NaN</td>\n",
              "      <td>NaN</td>\n",
              "      <td>False</td>\n",
              "      <td>Zone X1</td>\n",
              "    </tr>\n",
              "    <tr>\n",
              "      <th>3</th>\n",
              "      <td>RI-2005-00004</td>\n",
              "      <td>RI</td>\n",
              "      <td>2005-01-04</td>\n",
              "      <td>12:55</td>\n",
              "      <td>Zone X4</td>\n",
              "      <td>NaN</td>\n",
              "      <td>NaN</td>\n",
              "      <td>NaN</td>\n",
              "      <td>500</td>\n",
              "      <td>M</td>\n",
              "      <td>...</td>\n",
              "      <td>False</td>\n",
              "      <td>NaN</td>\n",
              "      <td>NaN</td>\n",
              "      <td>False</td>\n",
              "      <td>Citation</td>\n",
              "      <td>False</td>\n",
              "      <td>0-15 Min</td>\n",
              "      <td>False</td>\n",
              "      <td>False</td>\n",
              "      <td>Zone X4</td>\n",
              "    </tr>\n",
              "    <tr>\n",
              "      <th>4</th>\n",
              "      <td>RI-2005-00005</td>\n",
              "      <td>RI</td>\n",
              "      <td>2005-01-06</td>\n",
              "      <td>01:30</td>\n",
              "      <td>Zone X4</td>\n",
              "      <td>NaN</td>\n",
              "      <td>NaN</td>\n",
              "      <td>NaN</td>\n",
              "      <td>500</td>\n",
              "      <td>M</td>\n",
              "      <td>...</td>\n",
              "      <td>False</td>\n",
              "      <td>NaN</td>\n",
              "      <td>NaN</td>\n",
              "      <td>False</td>\n",
              "      <td>Citation</td>\n",
              "      <td>False</td>\n",
              "      <td>0-15 Min</td>\n",
              "      <td>False</td>\n",
              "      <td>False</td>\n",
              "      <td>Zone X4</td>\n",
              "    </tr>\n",
              "  </tbody>\n",
              "</table>\n",
              "<p>5 rows × 26 columns</p>\n",
              "</div>"
            ],
            "text/plain": [
              "              id state   stop_date stop_time location_raw  county_name  \\\n",
              "0  RI-2005-00001    RI  2005-01-02     01:55      Zone K1          NaN   \n",
              "1  RI-2005-00002    RI  2005-01-02     20:30      Zone X4          NaN   \n",
              "2  RI-2005-00003    RI  2005-01-04     11:30      Zone X1          NaN   \n",
              "3  RI-2005-00004    RI  2005-01-04     12:55      Zone X4          NaN   \n",
              "4  RI-2005-00005    RI  2005-01-06     01:30      Zone X4          NaN   \n",
              "\n",
              "   county_fips  fine_grained_location police_department driver_gender  ...  \\\n",
              "0          NaN                    NaN               600             M  ...   \n",
              "1          NaN                    NaN               500             M  ...   \n",
              "2          NaN                    NaN                 0           NaN  ...   \n",
              "3          NaN                    NaN               500             M  ...   \n",
              "4          NaN                    NaN               500             M  ...   \n",
              "\n",
              "   search_conducted  search_type_raw search_type contraband_found  \\\n",
              "0             False              NaN         NaN            False   \n",
              "1             False              NaN         NaN            False   \n",
              "2             False              NaN         NaN            False   \n",
              "3             False              NaN         NaN            False   \n",
              "4             False              NaN         NaN            False   \n",
              "\n",
              "  stop_outcome is_arrested stop_duration out_of_state drugs_related_stop  \\\n",
              "0     Citation       False      0-15 Min        False              False   \n",
              "1     Citation       False     16-30 Min        False              False   \n",
              "2          NaN         NaN           NaN          NaN              False   \n",
              "3     Citation       False      0-15 Min        False              False   \n",
              "4     Citation       False      0-15 Min        False              False   \n",
              "\n",
              "   district  \n",
              "0   Zone K1  \n",
              "1   Zone X4  \n",
              "2   Zone X1  \n",
              "3   Zone X4  \n",
              "4   Zone X4  \n",
              "\n",
              "[5 rows x 26 columns]"
            ]
          },
          "metadata": {
            "tags": []
          },
          "execution_count": 3
        }
      ]
    },
    {
      "cell_type": "code",
      "metadata": {
        "id": "rPuWfWKOY5ny",
        "outputId": "cd9f0fe5-77f0-4ecd-ecd0-0c349f90d21e"
      },
      "source": [
        "ri.isnull().sum()"
      ],
      "execution_count": null,
      "outputs": [
        {
          "output_type": "execute_result",
          "data": {
            "text/plain": [
              "id                            0\n",
              "state                         0\n",
              "stop_date                    10\n",
              "stop_time                    10\n",
              "location_raw                  0\n",
              "county_name              509681\n",
              "county_fips              509681\n",
              "fine_grained_location    509681\n",
              "police_department            10\n",
              "driver_gender             29097\n",
              "driver_age_raw            29049\n",
              "driver_age                30695\n",
              "driver_race_raw           29073\n",
              "driver_race               29073\n",
              "violation_raw             29073\n",
              "violation                 29073\n",
              "search_conducted             10\n",
              "search_type_raw          491919\n",
              "search_type              491919\n",
              "contraband_found              0\n",
              "stop_outcome              29073\n",
              "is_arrested               29073\n",
              "stop_duration             29073\n",
              "out_of_state              29881\n",
              "drugs_related_stop            0\n",
              "district                      0\n",
              "dtype: int64"
            ]
          },
          "metadata": {
            "tags": []
          },
          "execution_count": 4
        }
      ]
    },
    {
      "cell_type": "code",
      "metadata": {
        "id": "1C2mJ2U3Y5nz",
        "outputId": "c4e94c69-67a9-407b-dbad-c1dbcdad8148"
      },
      "source": [
        "ri.isnull().sum()/ri.isnull().shape[0]*100"
      ],
      "execution_count": null,
      "outputs": [
        {
          "output_type": "execute_result",
          "data": {
            "text/plain": [
              "id                         0.000000\n",
              "state                      0.000000\n",
              "stop_date                  0.001962\n",
              "stop_time                  0.001962\n",
              "location_raw               0.000000\n",
              "county_name              100.000000\n",
              "county_fips              100.000000\n",
              "fine_grained_location    100.000000\n",
              "police_department          0.001962\n",
              "driver_gender              5.708865\n",
              "driver_age_raw             5.699447\n",
              "driver_age                 6.022394\n",
              "driver_race_raw            5.704156\n",
              "driver_race                5.704156\n",
              "violation_raw              5.704156\n",
              "violation                  5.704156\n",
              "search_conducted           0.001962\n",
              "search_type_raw           96.515075\n",
              "search_type               96.515075\n",
              "contraband_found           0.000000\n",
              "stop_outcome               5.704156\n",
              "is_arrested                5.704156\n",
              "stop_duration              5.704156\n",
              "out_of_state               5.862687\n",
              "drugs_related_stop         0.000000\n",
              "district                   0.000000\n",
              "dtype: float64"
            ]
          },
          "metadata": {
            "tags": []
          },
          "execution_count": 5
        }
      ]
    },
    {
      "cell_type": "code",
      "metadata": {
        "id": "cpBX-3TOY5n0",
        "outputId": "a5552347-d369-4b04-f0f4-ca2beee6184d"
      },
      "source": [
        "ri.shape"
      ],
      "execution_count": null,
      "outputs": [
        {
          "output_type": "execute_result",
          "data": {
            "text/plain": [
              "(509681, 26)"
            ]
          },
          "metadata": {
            "tags": []
          },
          "execution_count": 6
        }
      ]
    },
    {
      "cell_type": "code",
      "metadata": {
        "id": "NNiuT9-hY5n2"
      },
      "source": [
        "drop_columns = [\"state\", \"county_name\", \"county_fips\", \"fine_grained_location\"]\n",
        "ri.drop(drop_columns, axis = \"columns\", inplace = True)"
      ],
      "execution_count": null,
      "outputs": []
    },
    {
      "cell_type": "code",
      "metadata": {
        "id": "yF7ox_ndY5n3",
        "outputId": "b1ab218b-0679-44e6-bd86-ee152d0f611a"
      },
      "source": [
        "ri.shape"
      ],
      "execution_count": null,
      "outputs": [
        {
          "output_type": "execute_result",
          "data": {
            "text/plain": [
              "(509681, 22)"
            ]
          },
          "metadata": {
            "tags": []
          },
          "execution_count": 8
        }
      ]
    },
    {
      "cell_type": "code",
      "metadata": {
        "id": "xPjtU_y8Y5n4",
        "outputId": "5e8b8341-901a-43ac-fcb7-aacf7fe5e20d"
      },
      "source": [
        "ri.isnull().sum()"
      ],
      "execution_count": null,
      "outputs": [
        {
          "output_type": "execute_result",
          "data": {
            "text/plain": [
              "id                         0\n",
              "stop_date                 10\n",
              "stop_time                 10\n",
              "location_raw               0\n",
              "police_department         10\n",
              "driver_gender          29097\n",
              "driver_age_raw         29049\n",
              "driver_age             30695\n",
              "driver_race_raw        29073\n",
              "driver_race            29073\n",
              "violation_raw          29073\n",
              "violation              29073\n",
              "search_conducted          10\n",
              "search_type_raw       491919\n",
              "search_type           491919\n",
              "contraband_found           0\n",
              "stop_outcome           29073\n",
              "is_arrested            29073\n",
              "stop_duration          29073\n",
              "out_of_state           29881\n",
              "drugs_related_stop         0\n",
              "district                   0\n",
              "dtype: int64"
            ]
          },
          "metadata": {
            "tags": []
          },
          "execution_count": 9
        }
      ]
    },
    {
      "cell_type": "code",
      "metadata": {
        "id": "IjYnP_3VY5n5"
      },
      "source": [
        "ri.dropna(subset = [\"driver_gender\"], inplace = True)"
      ],
      "execution_count": null,
      "outputs": []
    },
    {
      "cell_type": "code",
      "metadata": {
        "id": "cpUn4gWdY5n6",
        "outputId": "a51fa8bd-1a23-4ec2-89d5-f22b46710679"
      },
      "source": [
        "ri.isnull().sum()"
      ],
      "execution_count": null,
      "outputs": [
        {
          "output_type": "execute_result",
          "data": {
            "text/plain": [
              "id                         0\n",
              "stop_date                  0\n",
              "stop_time                  0\n",
              "location_raw               0\n",
              "police_department          0\n",
              "driver_gender              0\n",
              "driver_age_raw             1\n",
              "driver_age              1638\n",
              "driver_race_raw            0\n",
              "driver_race                0\n",
              "violation_raw              0\n",
              "violation                  0\n",
              "search_conducted           0\n",
              "search_type_raw       462822\n",
              "search_type           462822\n",
              "contraband_found           0\n",
              "stop_outcome               0\n",
              "is_arrested                0\n",
              "stop_duration              0\n",
              "out_of_state             808\n",
              "drugs_related_stop         0\n",
              "district                   0\n",
              "dtype: int64"
            ]
          },
          "metadata": {
            "tags": []
          },
          "execution_count": 11
        }
      ]
    },
    {
      "cell_type": "code",
      "metadata": {
        "id": "SVbAFTNzY5n7",
        "outputId": "08d63b30-50d0-4d72-d7be-d37e0df0dbfc"
      },
      "source": [
        "ri.shape"
      ],
      "execution_count": null,
      "outputs": [
        {
          "output_type": "execute_result",
          "data": {
            "text/plain": [
              "(480584, 22)"
            ]
          },
          "metadata": {
            "tags": []
          },
          "execution_count": 12
        }
      ]
    },
    {
      "cell_type": "code",
      "metadata": {
        "id": "TrsAFW73Y5n8",
        "outputId": "201c3f1e-5b09-40ec-fc0e-f14a5091aa74"
      },
      "source": [
        "ri.dtypes"
      ],
      "execution_count": null,
      "outputs": [
        {
          "output_type": "execute_result",
          "data": {
            "text/plain": [
              "id                     object\n",
              "stop_date              object\n",
              "stop_time              object\n",
              "location_raw           object\n",
              "police_department      object\n",
              "driver_gender          object\n",
              "driver_age_raw        float64\n",
              "driver_age            float64\n",
              "driver_race_raw        object\n",
              "driver_race            object\n",
              "violation_raw          object\n",
              "violation              object\n",
              "search_conducted       object\n",
              "search_type_raw        object\n",
              "search_type            object\n",
              "contraband_found         bool\n",
              "stop_outcome           object\n",
              "is_arrested            object\n",
              "stop_duration          object\n",
              "out_of_state           object\n",
              "drugs_related_stop       bool\n",
              "district               object\n",
              "dtype: object"
            ]
          },
          "metadata": {
            "tags": []
          },
          "execution_count": 13
        }
      ]
    },
    {
      "cell_type": "code",
      "metadata": {
        "id": "1YLGuEm_Y5n9",
        "outputId": "ddade4e9-3113-4ce3-8dfb-10029fa8551a"
      },
      "source": [
        "ri.is_arrested.head()"
      ],
      "execution_count": null,
      "outputs": [
        {
          "output_type": "execute_result",
          "data": {
            "text/plain": [
              "0    False\n",
              "1    False\n",
              "3    False\n",
              "4    False\n",
              "5    False\n",
              "Name: is_arrested, dtype: object"
            ]
          },
          "metadata": {
            "tags": []
          },
          "execution_count": 14
        }
      ]
    },
    {
      "cell_type": "code",
      "metadata": {
        "id": "P5_zKEB9Y5n9",
        "outputId": "c594545e-d95a-4de2-bbc7-b57abd196ed5"
      },
      "source": [
        "ri.is_arrested.value_counts(dropna = False)"
      ],
      "execution_count": null,
      "outputs": [
        {
          "output_type": "execute_result",
          "data": {
            "text/plain": [
              "False    463981\n",
              "True      16603\n",
              "Name: is_arrested, dtype: int64"
            ]
          },
          "metadata": {
            "tags": []
          },
          "execution_count": 15
        }
      ]
    },
    {
      "cell_type": "code",
      "metadata": {
        "id": "IQWkTZP0Y5oA",
        "outputId": "7bf6c83c-21ef-4f13-e6e3-accc721cc464"
      },
      "source": [
        "print(ri.is_arrested.dtype)"
      ],
      "execution_count": null,
      "outputs": [
        {
          "output_type": "stream",
          "text": [
            "object\n"
          ],
          "name": "stdout"
        }
      ]
    },
    {
      "cell_type": "code",
      "metadata": {
        "id": "8o8mfsEoY5oB"
      },
      "source": [
        "ri[\"is_arrested\"] = ri.is_arrested.astype(\"bool\")"
      ],
      "execution_count": null,
      "outputs": []
    },
    {
      "cell_type": "code",
      "metadata": {
        "id": "-0rMHnGOY5oD",
        "outputId": "ac80aa66-1837-433b-da47-638d724beb5b"
      },
      "source": [
        "print(ri.is_arrested.dtype)"
      ],
      "execution_count": null,
      "outputs": [
        {
          "output_type": "stream",
          "text": [
            "bool\n"
          ],
          "name": "stdout"
        }
      ]
    },
    {
      "cell_type": "code",
      "metadata": {
        "id": "R0BG5P8nY5oD"
      },
      "source": [
        "combined = ri.stop_date.str.cat(ri.stop_time, sep = \" \")"
      ],
      "execution_count": null,
      "outputs": []
    },
    {
      "cell_type": "code",
      "metadata": {
        "id": "u-fjeVO0Y5oE",
        "outputId": "be60c092-1529-460b-b91e-dacdd7aa41a6"
      },
      "source": [
        "type(ri.stop_date)"
      ],
      "execution_count": null,
      "outputs": [
        {
          "output_type": "execute_result",
          "data": {
            "text/plain": [
              "pandas.core.series.Series"
            ]
          },
          "metadata": {
            "tags": []
          },
          "execution_count": 20
        }
      ]
    },
    {
      "cell_type": "code",
      "metadata": {
        "id": "3bW_EJMnY5oF",
        "outputId": "a277edd9-159f-4896-8104-ded50a1b186e"
      },
      "source": [
        "type(ri.stop_date)"
      ],
      "execution_count": null,
      "outputs": [
        {
          "output_type": "execute_result",
          "data": {
            "text/plain": [
              "pandas.core.series.Series"
            ]
          },
          "metadata": {
            "tags": []
          },
          "execution_count": 21
        }
      ]
    },
    {
      "cell_type": "code",
      "metadata": {
        "id": "0qb96CSoY5oG"
      },
      "source": [
        "comb =  ri.stop_date + \" \" + ri.stop_time"
      ],
      "execution_count": null,
      "outputs": []
    },
    {
      "cell_type": "code",
      "metadata": {
        "id": "kQ_t7sISY5oH",
        "outputId": "d7f97a67-534d-4baa-d964-83267981f263"
      },
      "source": [
        "comb.head()"
      ],
      "execution_count": null,
      "outputs": [
        {
          "output_type": "execute_result",
          "data": {
            "text/plain": [
              "0    2005-01-02 01:55\n",
              "1    2005-01-02 20:30\n",
              "3    2005-01-04 12:55\n",
              "4    2005-01-06 01:30\n",
              "5    2005-01-12 08:05\n",
              "dtype: object"
            ]
          },
          "metadata": {
            "tags": []
          },
          "execution_count": 23
        }
      ]
    },
    {
      "cell_type": "code",
      "metadata": {
        "id": "0vunbSgDY5oH",
        "outputId": "6aa1673c-fd00-4ec7-d7f8-4cc8c0e09e75"
      },
      "source": [
        "combined.head()"
      ],
      "execution_count": null,
      "outputs": [
        {
          "output_type": "execute_result",
          "data": {
            "text/plain": [
              "0    2005-01-02 01:55\n",
              "1    2005-01-02 20:30\n",
              "3    2005-01-04 12:55\n",
              "4    2005-01-06 01:30\n",
              "5    2005-01-12 08:05\n",
              "Name: stop_date, dtype: object"
            ]
          },
          "metadata": {
            "tags": []
          },
          "execution_count": 24
        }
      ]
    },
    {
      "cell_type": "code",
      "metadata": {
        "id": "7Wlpcuw3Y5oI"
      },
      "source": [
        "ri[\"stop_datetime\"] = pd.to_datetime(combined)"
      ],
      "execution_count": null,
      "outputs": []
    },
    {
      "cell_type": "code",
      "metadata": {
        "id": "ymv0hwsHY5oJ"
      },
      "source": [
        "ri.drop([\"stop_date\", \"stop_time\"], axis = 1, inplace = True)"
      ],
      "execution_count": null,
      "outputs": []
    },
    {
      "cell_type": "code",
      "metadata": {
        "id": "wDY_UUZyY5oJ",
        "outputId": "198ff685-a8b4-475d-adfa-56e30b3fbdcf"
      },
      "source": [
        "ri.head()"
      ],
      "execution_count": null,
      "outputs": [
        {
          "output_type": "execute_result",
          "data": {
            "text/html": [
              "<div>\n",
              "<style scoped>\n",
              "    .dataframe tbody tr th:only-of-type {\n",
              "        vertical-align: middle;\n",
              "    }\n",
              "\n",
              "    .dataframe tbody tr th {\n",
              "        vertical-align: top;\n",
              "    }\n",
              "\n",
              "    .dataframe thead th {\n",
              "        text-align: right;\n",
              "    }\n",
              "</style>\n",
              "<table border=\"1\" class=\"dataframe\">\n",
              "  <thead>\n",
              "    <tr style=\"text-align: right;\">\n",
              "      <th></th>\n",
              "      <th>id</th>\n",
              "      <th>location_raw</th>\n",
              "      <th>police_department</th>\n",
              "      <th>driver_gender</th>\n",
              "      <th>driver_age_raw</th>\n",
              "      <th>driver_age</th>\n",
              "      <th>driver_race_raw</th>\n",
              "      <th>driver_race</th>\n",
              "      <th>violation_raw</th>\n",
              "      <th>violation</th>\n",
              "      <th>...</th>\n",
              "      <th>search_type_raw</th>\n",
              "      <th>search_type</th>\n",
              "      <th>contraband_found</th>\n",
              "      <th>stop_outcome</th>\n",
              "      <th>is_arrested</th>\n",
              "      <th>stop_duration</th>\n",
              "      <th>out_of_state</th>\n",
              "      <th>drugs_related_stop</th>\n",
              "      <th>district</th>\n",
              "      <th>stop_datetime</th>\n",
              "    </tr>\n",
              "  </thead>\n",
              "  <tbody>\n",
              "    <tr>\n",
              "      <th>0</th>\n",
              "      <td>RI-2005-00001</td>\n",
              "      <td>Zone K1</td>\n",
              "      <td>600</td>\n",
              "      <td>M</td>\n",
              "      <td>1985.0</td>\n",
              "      <td>20.0</td>\n",
              "      <td>W</td>\n",
              "      <td>White</td>\n",
              "      <td>Speeding</td>\n",
              "      <td>Speeding</td>\n",
              "      <td>...</td>\n",
              "      <td>NaN</td>\n",
              "      <td>NaN</td>\n",
              "      <td>False</td>\n",
              "      <td>Citation</td>\n",
              "      <td>False</td>\n",
              "      <td>0-15 Min</td>\n",
              "      <td>False</td>\n",
              "      <td>False</td>\n",
              "      <td>Zone K1</td>\n",
              "      <td>2005-01-02 01:55:00</td>\n",
              "    </tr>\n",
              "    <tr>\n",
              "      <th>1</th>\n",
              "      <td>RI-2005-00002</td>\n",
              "      <td>Zone X4</td>\n",
              "      <td>500</td>\n",
              "      <td>M</td>\n",
              "      <td>1987.0</td>\n",
              "      <td>18.0</td>\n",
              "      <td>W</td>\n",
              "      <td>White</td>\n",
              "      <td>Speeding</td>\n",
              "      <td>Speeding</td>\n",
              "      <td>...</td>\n",
              "      <td>NaN</td>\n",
              "      <td>NaN</td>\n",
              "      <td>False</td>\n",
              "      <td>Citation</td>\n",
              "      <td>False</td>\n",
              "      <td>16-30 Min</td>\n",
              "      <td>False</td>\n",
              "      <td>False</td>\n",
              "      <td>Zone X4</td>\n",
              "      <td>2005-01-02 20:30:00</td>\n",
              "    </tr>\n",
              "    <tr>\n",
              "      <th>3</th>\n",
              "      <td>RI-2005-00004</td>\n",
              "      <td>Zone X4</td>\n",
              "      <td>500</td>\n",
              "      <td>M</td>\n",
              "      <td>1986.0</td>\n",
              "      <td>19.0</td>\n",
              "      <td>W</td>\n",
              "      <td>White</td>\n",
              "      <td>Equipment/Inspection Violation</td>\n",
              "      <td>Equipment</td>\n",
              "      <td>...</td>\n",
              "      <td>NaN</td>\n",
              "      <td>NaN</td>\n",
              "      <td>False</td>\n",
              "      <td>Citation</td>\n",
              "      <td>False</td>\n",
              "      <td>0-15 Min</td>\n",
              "      <td>False</td>\n",
              "      <td>False</td>\n",
              "      <td>Zone X4</td>\n",
              "      <td>2005-01-04 12:55:00</td>\n",
              "    </tr>\n",
              "    <tr>\n",
              "      <th>4</th>\n",
              "      <td>RI-2005-00005</td>\n",
              "      <td>Zone X4</td>\n",
              "      <td>500</td>\n",
              "      <td>M</td>\n",
              "      <td>1978.0</td>\n",
              "      <td>27.0</td>\n",
              "      <td>B</td>\n",
              "      <td>Black</td>\n",
              "      <td>Equipment/Inspection Violation</td>\n",
              "      <td>Equipment</td>\n",
              "      <td>...</td>\n",
              "      <td>NaN</td>\n",
              "      <td>NaN</td>\n",
              "      <td>False</td>\n",
              "      <td>Citation</td>\n",
              "      <td>False</td>\n",
              "      <td>0-15 Min</td>\n",
              "      <td>False</td>\n",
              "      <td>False</td>\n",
              "      <td>Zone X4</td>\n",
              "      <td>2005-01-06 01:30:00</td>\n",
              "    </tr>\n",
              "    <tr>\n",
              "      <th>5</th>\n",
              "      <td>RI-2005-00006</td>\n",
              "      <td>Zone X1</td>\n",
              "      <td>0</td>\n",
              "      <td>M</td>\n",
              "      <td>1973.0</td>\n",
              "      <td>32.0</td>\n",
              "      <td>B</td>\n",
              "      <td>Black</td>\n",
              "      <td>Call for Service</td>\n",
              "      <td>Other</td>\n",
              "      <td>...</td>\n",
              "      <td>NaN</td>\n",
              "      <td>NaN</td>\n",
              "      <td>False</td>\n",
              "      <td>Citation</td>\n",
              "      <td>False</td>\n",
              "      <td>30+ Min</td>\n",
              "      <td>True</td>\n",
              "      <td>False</td>\n",
              "      <td>Zone X1</td>\n",
              "      <td>2005-01-12 08:05:00</td>\n",
              "    </tr>\n",
              "  </tbody>\n",
              "</table>\n",
              "<p>5 rows × 21 columns</p>\n",
              "</div>"
            ],
            "text/plain": [
              "              id location_raw police_department driver_gender  driver_age_raw  \\\n",
              "0  RI-2005-00001      Zone K1               600             M          1985.0   \n",
              "1  RI-2005-00002      Zone X4               500             M          1987.0   \n",
              "3  RI-2005-00004      Zone X4               500             M          1986.0   \n",
              "4  RI-2005-00005      Zone X4               500             M          1978.0   \n",
              "5  RI-2005-00006      Zone X1                 0             M          1973.0   \n",
              "\n",
              "   driver_age driver_race_raw driver_race                   violation_raw  \\\n",
              "0        20.0               W       White                        Speeding   \n",
              "1        18.0               W       White                        Speeding   \n",
              "3        19.0               W       White  Equipment/Inspection Violation   \n",
              "4        27.0               B       Black  Equipment/Inspection Violation   \n",
              "5        32.0               B       Black                Call for Service   \n",
              "\n",
              "   violation  ... search_type_raw search_type contraband_found  stop_outcome  \\\n",
              "0   Speeding  ...             NaN         NaN            False      Citation   \n",
              "1   Speeding  ...             NaN         NaN            False      Citation   \n",
              "3  Equipment  ...             NaN         NaN            False      Citation   \n",
              "4  Equipment  ...             NaN         NaN            False      Citation   \n",
              "5      Other  ...             NaN         NaN            False      Citation   \n",
              "\n",
              "  is_arrested  stop_duration out_of_state drugs_related_stop  district  \\\n",
              "0       False       0-15 Min        False              False   Zone K1   \n",
              "1       False      16-30 Min        False              False   Zone X4   \n",
              "3       False       0-15 Min        False              False   Zone X4   \n",
              "4       False       0-15 Min        False              False   Zone X4   \n",
              "5       False        30+ Min         True              False   Zone X1   \n",
              "\n",
              "        stop_datetime  \n",
              "0 2005-01-02 01:55:00  \n",
              "1 2005-01-02 20:30:00  \n",
              "3 2005-01-04 12:55:00  \n",
              "4 2005-01-06 01:30:00  \n",
              "5 2005-01-12 08:05:00  \n",
              "\n",
              "[5 rows x 21 columns]"
            ]
          },
          "metadata": {
            "tags": []
          },
          "execution_count": 27
        }
      ]
    },
    {
      "cell_type": "code",
      "metadata": {
        "id": "jeRl4q7CY5oK",
        "outputId": "96e7508e-0410-48fb-c641-9d5bd1e689dd"
      },
      "source": [
        "print(ri.dtypes)"
      ],
      "execution_count": null,
      "outputs": [
        {
          "output_type": "stream",
          "text": [
            "id                            object\n",
            "location_raw                  object\n",
            "police_department             object\n",
            "driver_gender                 object\n",
            "driver_age_raw               float64\n",
            "driver_age                   float64\n",
            "driver_race_raw               object\n",
            "driver_race                   object\n",
            "violation_raw                 object\n",
            "violation                     object\n",
            "search_conducted              object\n",
            "search_type_raw               object\n",
            "search_type                   object\n",
            "contraband_found                bool\n",
            "stop_outcome                  object\n",
            "is_arrested                     bool\n",
            "stop_duration                 object\n",
            "out_of_state                  object\n",
            "drugs_related_stop              bool\n",
            "district                      object\n",
            "stop_datetime         datetime64[ns]\n",
            "dtype: object\n"
          ],
          "name": "stdout"
        }
      ]
    },
    {
      "cell_type": "code",
      "metadata": {
        "id": "LaaVcL-zY5oL"
      },
      "source": [
        "ri.set_index(\"stop_datetime\", inplace = True)"
      ],
      "execution_count": null,
      "outputs": []
    },
    {
      "cell_type": "code",
      "metadata": {
        "id": "nNd95sLmY5oL",
        "outputId": "8fe76c26-8a73-4c90-f9bf-e8d343bc23ad"
      },
      "source": [
        "ri.head()"
      ],
      "execution_count": null,
      "outputs": [
        {
          "output_type": "execute_result",
          "data": {
            "text/html": [
              "<div>\n",
              "<style scoped>\n",
              "    .dataframe tbody tr th:only-of-type {\n",
              "        vertical-align: middle;\n",
              "    }\n",
              "\n",
              "    .dataframe tbody tr th {\n",
              "        vertical-align: top;\n",
              "    }\n",
              "\n",
              "    .dataframe thead th {\n",
              "        text-align: right;\n",
              "    }\n",
              "</style>\n",
              "<table border=\"1\" class=\"dataframe\">\n",
              "  <thead>\n",
              "    <tr style=\"text-align: right;\">\n",
              "      <th></th>\n",
              "      <th>id</th>\n",
              "      <th>location_raw</th>\n",
              "      <th>police_department</th>\n",
              "      <th>driver_gender</th>\n",
              "      <th>driver_age_raw</th>\n",
              "      <th>driver_age</th>\n",
              "      <th>driver_race_raw</th>\n",
              "      <th>driver_race</th>\n",
              "      <th>violation_raw</th>\n",
              "      <th>violation</th>\n",
              "      <th>search_conducted</th>\n",
              "      <th>search_type_raw</th>\n",
              "      <th>search_type</th>\n",
              "      <th>contraband_found</th>\n",
              "      <th>stop_outcome</th>\n",
              "      <th>is_arrested</th>\n",
              "      <th>stop_duration</th>\n",
              "      <th>out_of_state</th>\n",
              "      <th>drugs_related_stop</th>\n",
              "      <th>district</th>\n",
              "    </tr>\n",
              "    <tr>\n",
              "      <th>stop_datetime</th>\n",
              "      <th></th>\n",
              "      <th></th>\n",
              "      <th></th>\n",
              "      <th></th>\n",
              "      <th></th>\n",
              "      <th></th>\n",
              "      <th></th>\n",
              "      <th></th>\n",
              "      <th></th>\n",
              "      <th></th>\n",
              "      <th></th>\n",
              "      <th></th>\n",
              "      <th></th>\n",
              "      <th></th>\n",
              "      <th></th>\n",
              "      <th></th>\n",
              "      <th></th>\n",
              "      <th></th>\n",
              "      <th></th>\n",
              "      <th></th>\n",
              "    </tr>\n",
              "  </thead>\n",
              "  <tbody>\n",
              "    <tr>\n",
              "      <th>2005-01-02 01:55:00</th>\n",
              "      <td>RI-2005-00001</td>\n",
              "      <td>Zone K1</td>\n",
              "      <td>600</td>\n",
              "      <td>M</td>\n",
              "      <td>1985.0</td>\n",
              "      <td>20.0</td>\n",
              "      <td>W</td>\n",
              "      <td>White</td>\n",
              "      <td>Speeding</td>\n",
              "      <td>Speeding</td>\n",
              "      <td>False</td>\n",
              "      <td>NaN</td>\n",
              "      <td>NaN</td>\n",
              "      <td>False</td>\n",
              "      <td>Citation</td>\n",
              "      <td>False</td>\n",
              "      <td>0-15 Min</td>\n",
              "      <td>False</td>\n",
              "      <td>False</td>\n",
              "      <td>Zone K1</td>\n",
              "    </tr>\n",
              "    <tr>\n",
              "      <th>2005-01-02 20:30:00</th>\n",
              "      <td>RI-2005-00002</td>\n",
              "      <td>Zone X4</td>\n",
              "      <td>500</td>\n",
              "      <td>M</td>\n",
              "      <td>1987.0</td>\n",
              "      <td>18.0</td>\n",
              "      <td>W</td>\n",
              "      <td>White</td>\n",
              "      <td>Speeding</td>\n",
              "      <td>Speeding</td>\n",
              "      <td>False</td>\n",
              "      <td>NaN</td>\n",
              "      <td>NaN</td>\n",
              "      <td>False</td>\n",
              "      <td>Citation</td>\n",
              "      <td>False</td>\n",
              "      <td>16-30 Min</td>\n",
              "      <td>False</td>\n",
              "      <td>False</td>\n",
              "      <td>Zone X4</td>\n",
              "    </tr>\n",
              "    <tr>\n",
              "      <th>2005-01-04 12:55:00</th>\n",
              "      <td>RI-2005-00004</td>\n",
              "      <td>Zone X4</td>\n",
              "      <td>500</td>\n",
              "      <td>M</td>\n",
              "      <td>1986.0</td>\n",
              "      <td>19.0</td>\n",
              "      <td>W</td>\n",
              "      <td>White</td>\n",
              "      <td>Equipment/Inspection Violation</td>\n",
              "      <td>Equipment</td>\n",
              "      <td>False</td>\n",
              "      <td>NaN</td>\n",
              "      <td>NaN</td>\n",
              "      <td>False</td>\n",
              "      <td>Citation</td>\n",
              "      <td>False</td>\n",
              "      <td>0-15 Min</td>\n",
              "      <td>False</td>\n",
              "      <td>False</td>\n",
              "      <td>Zone X4</td>\n",
              "    </tr>\n",
              "    <tr>\n",
              "      <th>2005-01-06 01:30:00</th>\n",
              "      <td>RI-2005-00005</td>\n",
              "      <td>Zone X4</td>\n",
              "      <td>500</td>\n",
              "      <td>M</td>\n",
              "      <td>1978.0</td>\n",
              "      <td>27.0</td>\n",
              "      <td>B</td>\n",
              "      <td>Black</td>\n",
              "      <td>Equipment/Inspection Violation</td>\n",
              "      <td>Equipment</td>\n",
              "      <td>False</td>\n",
              "      <td>NaN</td>\n",
              "      <td>NaN</td>\n",
              "      <td>False</td>\n",
              "      <td>Citation</td>\n",
              "      <td>False</td>\n",
              "      <td>0-15 Min</td>\n",
              "      <td>False</td>\n",
              "      <td>False</td>\n",
              "      <td>Zone X4</td>\n",
              "    </tr>\n",
              "    <tr>\n",
              "      <th>2005-01-12 08:05:00</th>\n",
              "      <td>RI-2005-00006</td>\n",
              "      <td>Zone X1</td>\n",
              "      <td>0</td>\n",
              "      <td>M</td>\n",
              "      <td>1973.0</td>\n",
              "      <td>32.0</td>\n",
              "      <td>B</td>\n",
              "      <td>Black</td>\n",
              "      <td>Call for Service</td>\n",
              "      <td>Other</td>\n",
              "      <td>False</td>\n",
              "      <td>NaN</td>\n",
              "      <td>NaN</td>\n",
              "      <td>False</td>\n",
              "      <td>Citation</td>\n",
              "      <td>False</td>\n",
              "      <td>30+ Min</td>\n",
              "      <td>True</td>\n",
              "      <td>False</td>\n",
              "      <td>Zone X1</td>\n",
              "    </tr>\n",
              "  </tbody>\n",
              "</table>\n",
              "</div>"
            ],
            "text/plain": [
              "                                id location_raw police_department  \\\n",
              "stop_datetime                                                       \n",
              "2005-01-02 01:55:00  RI-2005-00001      Zone K1               600   \n",
              "2005-01-02 20:30:00  RI-2005-00002      Zone X4               500   \n",
              "2005-01-04 12:55:00  RI-2005-00004      Zone X4               500   \n",
              "2005-01-06 01:30:00  RI-2005-00005      Zone X4               500   \n",
              "2005-01-12 08:05:00  RI-2005-00006      Zone X1                 0   \n",
              "\n",
              "                    driver_gender  driver_age_raw  driver_age driver_race_raw  \\\n",
              "stop_datetime                                                                   \n",
              "2005-01-02 01:55:00             M          1985.0        20.0               W   \n",
              "2005-01-02 20:30:00             M          1987.0        18.0               W   \n",
              "2005-01-04 12:55:00             M          1986.0        19.0               W   \n",
              "2005-01-06 01:30:00             M          1978.0        27.0               B   \n",
              "2005-01-12 08:05:00             M          1973.0        32.0               B   \n",
              "\n",
              "                    driver_race                   violation_raw  violation  \\\n",
              "stop_datetime                                                                \n",
              "2005-01-02 01:55:00       White                        Speeding   Speeding   \n",
              "2005-01-02 20:30:00       White                        Speeding   Speeding   \n",
              "2005-01-04 12:55:00       White  Equipment/Inspection Violation  Equipment   \n",
              "2005-01-06 01:30:00       Black  Equipment/Inspection Violation  Equipment   \n",
              "2005-01-12 08:05:00       Black                Call for Service      Other   \n",
              "\n",
              "                    search_conducted search_type_raw search_type  \\\n",
              "stop_datetime                                                      \n",
              "2005-01-02 01:55:00            False             NaN         NaN   \n",
              "2005-01-02 20:30:00            False             NaN         NaN   \n",
              "2005-01-04 12:55:00            False             NaN         NaN   \n",
              "2005-01-06 01:30:00            False             NaN         NaN   \n",
              "2005-01-12 08:05:00            False             NaN         NaN   \n",
              "\n",
              "                     contraband_found stop_outcome  is_arrested stop_duration  \\\n",
              "stop_datetime                                                                   \n",
              "2005-01-02 01:55:00             False     Citation        False      0-15 Min   \n",
              "2005-01-02 20:30:00             False     Citation        False     16-30 Min   \n",
              "2005-01-04 12:55:00             False     Citation        False      0-15 Min   \n",
              "2005-01-06 01:30:00             False     Citation        False      0-15 Min   \n",
              "2005-01-12 08:05:00             False     Citation        False       30+ Min   \n",
              "\n",
              "                    out_of_state  drugs_related_stop district  \n",
              "stop_datetime                                                  \n",
              "2005-01-02 01:55:00        False               False  Zone K1  \n",
              "2005-01-02 20:30:00        False               False  Zone X4  \n",
              "2005-01-04 12:55:00        False               False  Zone X4  \n",
              "2005-01-06 01:30:00        False               False  Zone X4  \n",
              "2005-01-12 08:05:00         True               False  Zone X1  "
            ]
          },
          "metadata": {
            "tags": []
          },
          "execution_count": 30
        }
      ]
    },
    {
      "cell_type": "code",
      "metadata": {
        "id": "a3MzV9hlY5oN",
        "outputId": "5581bf9b-9d66-48eb-dc38-2783bba78d08"
      },
      "source": [
        "ri.violation.value_counts(dropna = False)"
      ],
      "execution_count": null,
      "outputs": [
        {
          "output_type": "execute_result",
          "data": {
            "text/plain": [
              "Speeding               268736\n",
              "Moving violation        90228\n",
              "Equipment               61250\n",
              "Other                   24216\n",
              "Registration/plates     19830\n",
              "Seat belt               16324\n",
              "Name: violation, dtype: int64"
            ]
          },
          "metadata": {
            "tags": []
          },
          "execution_count": 31
        }
      ]
    },
    {
      "cell_type": "code",
      "metadata": {
        "id": "Xst5ffPpY5oN",
        "outputId": "f6edc7f8-8a7e-42cf-da2f-005542d0d1fd"
      },
      "source": [
        "ri.violation.value_counts(normalize = True)"
      ],
      "execution_count": null,
      "outputs": [
        {
          "output_type": "execute_result",
          "data": {
            "text/plain": [
              "Speeding               0.559186\n",
              "Moving violation       0.187747\n",
              "Equipment              0.127449\n",
              "Other                  0.050389\n",
              "Registration/plates    0.041262\n",
              "Seat belt              0.033967\n",
              "Name: violation, dtype: float64"
            ]
          },
          "metadata": {
            "tags": []
          },
          "execution_count": 32
        }
      ]
    },
    {
      "cell_type": "code",
      "metadata": {
        "id": "qYC9_MQiY5oO",
        "outputId": "9e4fd563-fecc-4b05-958b-80fbaec047d1"
      },
      "source": [
        "ri[\"driver_gender\"].value_counts(dropna = False)"
      ],
      "execution_count": null,
      "outputs": [
        {
          "output_type": "execute_result",
          "data": {
            "text/plain": [
              "M    349446\n",
              "F    131138\n",
              "Name: driver_gender, dtype: int64"
            ]
          },
          "metadata": {
            "tags": []
          },
          "execution_count": 33
        }
      ]
    },
    {
      "cell_type": "code",
      "metadata": {
        "id": "Pdd5g0xiY5oP"
      },
      "source": [
        "female = ri[ri.driver_gender == \"F\"]\n",
        "\n",
        "male = ri[ri.driver_gender == \"M\"]"
      ],
      "execution_count": null,
      "outputs": []
    },
    {
      "cell_type": "code",
      "metadata": {
        "id": "ctUxCQvbY5oP",
        "outputId": "d49f160d-2cee-4b9c-f0e4-42fcea5f716f"
      },
      "source": [
        "female.head()"
      ],
      "execution_count": null,
      "outputs": [
        {
          "output_type": "execute_result",
          "data": {
            "text/html": [
              "<div>\n",
              "<style scoped>\n",
              "    .dataframe tbody tr th:only-of-type {\n",
              "        vertical-align: middle;\n",
              "    }\n",
              "\n",
              "    .dataframe tbody tr th {\n",
              "        vertical-align: top;\n",
              "    }\n",
              "\n",
              "    .dataframe thead th {\n",
              "        text-align: right;\n",
              "    }\n",
              "</style>\n",
              "<table border=\"1\" class=\"dataframe\">\n",
              "  <thead>\n",
              "    <tr style=\"text-align: right;\">\n",
              "      <th></th>\n",
              "      <th>id</th>\n",
              "      <th>location_raw</th>\n",
              "      <th>police_department</th>\n",
              "      <th>driver_gender</th>\n",
              "      <th>driver_age_raw</th>\n",
              "      <th>driver_age</th>\n",
              "      <th>driver_race_raw</th>\n",
              "      <th>driver_race</th>\n",
              "      <th>violation_raw</th>\n",
              "      <th>violation</th>\n",
              "      <th>search_conducted</th>\n",
              "      <th>search_type_raw</th>\n",
              "      <th>search_type</th>\n",
              "      <th>contraband_found</th>\n",
              "      <th>stop_outcome</th>\n",
              "      <th>is_arrested</th>\n",
              "      <th>stop_duration</th>\n",
              "      <th>out_of_state</th>\n",
              "      <th>drugs_related_stop</th>\n",
              "      <th>district</th>\n",
              "    </tr>\n",
              "    <tr>\n",
              "      <th>stop_datetime</th>\n",
              "      <th></th>\n",
              "      <th></th>\n",
              "      <th></th>\n",
              "      <th></th>\n",
              "      <th></th>\n",
              "      <th></th>\n",
              "      <th></th>\n",
              "      <th></th>\n",
              "      <th></th>\n",
              "      <th></th>\n",
              "      <th></th>\n",
              "      <th></th>\n",
              "      <th></th>\n",
              "      <th></th>\n",
              "      <th></th>\n",
              "      <th></th>\n",
              "      <th></th>\n",
              "      <th></th>\n",
              "      <th></th>\n",
              "      <th></th>\n",
              "    </tr>\n",
              "  </thead>\n",
              "  <tbody>\n",
              "    <tr>\n",
              "      <th>2005-02-24 01:20:00</th>\n",
              "      <td>RI-2005-00016</td>\n",
              "      <td>Zone X3</td>\n",
              "      <td>200</td>\n",
              "      <td>F</td>\n",
              "      <td>1983.0</td>\n",
              "      <td>22.0</td>\n",
              "      <td>W</td>\n",
              "      <td>White</td>\n",
              "      <td>Speeding</td>\n",
              "      <td>Speeding</td>\n",
              "      <td>False</td>\n",
              "      <td>NaN</td>\n",
              "      <td>NaN</td>\n",
              "      <td>False</td>\n",
              "      <td>Citation</td>\n",
              "      <td>False</td>\n",
              "      <td>0-15 Min</td>\n",
              "      <td>True</td>\n",
              "      <td>False</td>\n",
              "      <td>Zone X3</td>\n",
              "    </tr>\n",
              "    <tr>\n",
              "      <th>2005-03-14 10:00:00</th>\n",
              "      <td>RI-2005-00019</td>\n",
              "      <td>Zone K3</td>\n",
              "      <td>300</td>\n",
              "      <td>F</td>\n",
              "      <td>1984.0</td>\n",
              "      <td>21.0</td>\n",
              "      <td>W</td>\n",
              "      <td>White</td>\n",
              "      <td>Speeding</td>\n",
              "      <td>Speeding</td>\n",
              "      <td>False</td>\n",
              "      <td>NaN</td>\n",
              "      <td>NaN</td>\n",
              "      <td>False</td>\n",
              "      <td>Citation</td>\n",
              "      <td>False</td>\n",
              "      <td>0-15 Min</td>\n",
              "      <td>False</td>\n",
              "      <td>False</td>\n",
              "      <td>Zone K3</td>\n",
              "    </tr>\n",
              "    <tr>\n",
              "      <th>2005-03-29 23:20:00</th>\n",
              "      <td>RI-2005-00026</td>\n",
              "      <td>Zone K3</td>\n",
              "      <td>300</td>\n",
              "      <td>F</td>\n",
              "      <td>1971.0</td>\n",
              "      <td>34.0</td>\n",
              "      <td>W</td>\n",
              "      <td>White</td>\n",
              "      <td>Speeding</td>\n",
              "      <td>Speeding</td>\n",
              "      <td>False</td>\n",
              "      <td>NaN</td>\n",
              "      <td>NaN</td>\n",
              "      <td>False</td>\n",
              "      <td>Citation</td>\n",
              "      <td>False</td>\n",
              "      <td>0-15 Min</td>\n",
              "      <td>True</td>\n",
              "      <td>False</td>\n",
              "      <td>Zone K3</td>\n",
              "    </tr>\n",
              "    <tr>\n",
              "      <th>2005-06-06 13:20:00</th>\n",
              "      <td>RI-2005-00035</td>\n",
              "      <td>Zone X4</td>\n",
              "      <td>500</td>\n",
              "      <td>F</td>\n",
              "      <td>1986.0</td>\n",
              "      <td>19.0</td>\n",
              "      <td>W</td>\n",
              "      <td>White</td>\n",
              "      <td>Speeding</td>\n",
              "      <td>Speeding</td>\n",
              "      <td>False</td>\n",
              "      <td>NaN</td>\n",
              "      <td>NaN</td>\n",
              "      <td>False</td>\n",
              "      <td>Citation</td>\n",
              "      <td>False</td>\n",
              "      <td>0-15 Min</td>\n",
              "      <td>False</td>\n",
              "      <td>False</td>\n",
              "      <td>Zone X4</td>\n",
              "    </tr>\n",
              "    <tr>\n",
              "      <th>2005-06-18 16:30:00</th>\n",
              "      <td>RI-2005-00037</td>\n",
              "      <td>Zone X4</td>\n",
              "      <td>500</td>\n",
              "      <td>F</td>\n",
              "      <td>1964.0</td>\n",
              "      <td>41.0</td>\n",
              "      <td>W</td>\n",
              "      <td>White</td>\n",
              "      <td>Other Traffic Violation</td>\n",
              "      <td>Moving violation</td>\n",
              "      <td>False</td>\n",
              "      <td>NaN</td>\n",
              "      <td>NaN</td>\n",
              "      <td>False</td>\n",
              "      <td>Arrest Driver</td>\n",
              "      <td>True</td>\n",
              "      <td>30+ Min</td>\n",
              "      <td>False</td>\n",
              "      <td>False</td>\n",
              "      <td>Zone X4</td>\n",
              "    </tr>\n",
              "  </tbody>\n",
              "</table>\n",
              "</div>"
            ],
            "text/plain": [
              "                                id location_raw police_department  \\\n",
              "stop_datetime                                                       \n",
              "2005-02-24 01:20:00  RI-2005-00016      Zone X3               200   \n",
              "2005-03-14 10:00:00  RI-2005-00019      Zone K3               300   \n",
              "2005-03-29 23:20:00  RI-2005-00026      Zone K3               300   \n",
              "2005-06-06 13:20:00  RI-2005-00035      Zone X4               500   \n",
              "2005-06-18 16:30:00  RI-2005-00037      Zone X4               500   \n",
              "\n",
              "                    driver_gender  driver_age_raw  driver_age driver_race_raw  \\\n",
              "stop_datetime                                                                   \n",
              "2005-02-24 01:20:00             F          1983.0        22.0               W   \n",
              "2005-03-14 10:00:00             F          1984.0        21.0               W   \n",
              "2005-03-29 23:20:00             F          1971.0        34.0               W   \n",
              "2005-06-06 13:20:00             F          1986.0        19.0               W   \n",
              "2005-06-18 16:30:00             F          1964.0        41.0               W   \n",
              "\n",
              "                    driver_race            violation_raw         violation  \\\n",
              "stop_datetime                                                                \n",
              "2005-02-24 01:20:00       White                 Speeding          Speeding   \n",
              "2005-03-14 10:00:00       White                 Speeding          Speeding   \n",
              "2005-03-29 23:20:00       White                 Speeding          Speeding   \n",
              "2005-06-06 13:20:00       White                 Speeding          Speeding   \n",
              "2005-06-18 16:30:00       White  Other Traffic Violation  Moving violation   \n",
              "\n",
              "                    search_conducted search_type_raw search_type  \\\n",
              "stop_datetime                                                      \n",
              "2005-02-24 01:20:00            False             NaN         NaN   \n",
              "2005-03-14 10:00:00            False             NaN         NaN   \n",
              "2005-03-29 23:20:00            False             NaN         NaN   \n",
              "2005-06-06 13:20:00            False             NaN         NaN   \n",
              "2005-06-18 16:30:00            False             NaN         NaN   \n",
              "\n",
              "                     contraband_found   stop_outcome  is_arrested  \\\n",
              "stop_datetime                                                       \n",
              "2005-02-24 01:20:00             False       Citation        False   \n",
              "2005-03-14 10:00:00             False       Citation        False   \n",
              "2005-03-29 23:20:00             False       Citation        False   \n",
              "2005-06-06 13:20:00             False       Citation        False   \n",
              "2005-06-18 16:30:00             False  Arrest Driver         True   \n",
              "\n",
              "                    stop_duration out_of_state  drugs_related_stop district  \n",
              "stop_datetime                                                                \n",
              "2005-02-24 01:20:00      0-15 Min         True               False  Zone X3  \n",
              "2005-03-14 10:00:00      0-15 Min        False               False  Zone K3  \n",
              "2005-03-29 23:20:00      0-15 Min         True               False  Zone K3  \n",
              "2005-06-06 13:20:00      0-15 Min        False               False  Zone X4  \n",
              "2005-06-18 16:30:00       30+ Min        False               False  Zone X4  "
            ]
          },
          "metadata": {
            "tags": []
          },
          "execution_count": 35
        }
      ]
    },
    {
      "cell_type": "code",
      "metadata": {
        "id": "qaY-NY0pY5oQ",
        "outputId": "5f757da8-4c9d-43fc-8e21-16f51e9eb6f0"
      },
      "source": [
        "male.head()"
      ],
      "execution_count": null,
      "outputs": [
        {
          "output_type": "execute_result",
          "data": {
            "text/html": [
              "<div>\n",
              "<style scoped>\n",
              "    .dataframe tbody tr th:only-of-type {\n",
              "        vertical-align: middle;\n",
              "    }\n",
              "\n",
              "    .dataframe tbody tr th {\n",
              "        vertical-align: top;\n",
              "    }\n",
              "\n",
              "    .dataframe thead th {\n",
              "        text-align: right;\n",
              "    }\n",
              "</style>\n",
              "<table border=\"1\" class=\"dataframe\">\n",
              "  <thead>\n",
              "    <tr style=\"text-align: right;\">\n",
              "      <th></th>\n",
              "      <th>id</th>\n",
              "      <th>location_raw</th>\n",
              "      <th>police_department</th>\n",
              "      <th>driver_gender</th>\n",
              "      <th>driver_age_raw</th>\n",
              "      <th>driver_age</th>\n",
              "      <th>driver_race_raw</th>\n",
              "      <th>driver_race</th>\n",
              "      <th>violation_raw</th>\n",
              "      <th>violation</th>\n",
              "      <th>search_conducted</th>\n",
              "      <th>search_type_raw</th>\n",
              "      <th>search_type</th>\n",
              "      <th>contraband_found</th>\n",
              "      <th>stop_outcome</th>\n",
              "      <th>is_arrested</th>\n",
              "      <th>stop_duration</th>\n",
              "      <th>out_of_state</th>\n",
              "      <th>drugs_related_stop</th>\n",
              "      <th>district</th>\n",
              "    </tr>\n",
              "    <tr>\n",
              "      <th>stop_datetime</th>\n",
              "      <th></th>\n",
              "      <th></th>\n",
              "      <th></th>\n",
              "      <th></th>\n",
              "      <th></th>\n",
              "      <th></th>\n",
              "      <th></th>\n",
              "      <th></th>\n",
              "      <th></th>\n",
              "      <th></th>\n",
              "      <th></th>\n",
              "      <th></th>\n",
              "      <th></th>\n",
              "      <th></th>\n",
              "      <th></th>\n",
              "      <th></th>\n",
              "      <th></th>\n",
              "      <th></th>\n",
              "      <th></th>\n",
              "      <th></th>\n",
              "    </tr>\n",
              "  </thead>\n",
              "  <tbody>\n",
              "    <tr>\n",
              "      <th>2005-01-02 01:55:00</th>\n",
              "      <td>RI-2005-00001</td>\n",
              "      <td>Zone K1</td>\n",
              "      <td>600</td>\n",
              "      <td>M</td>\n",
              "      <td>1985.0</td>\n",
              "      <td>20.0</td>\n",
              "      <td>W</td>\n",
              "      <td>White</td>\n",
              "      <td>Speeding</td>\n",
              "      <td>Speeding</td>\n",
              "      <td>False</td>\n",
              "      <td>NaN</td>\n",
              "      <td>NaN</td>\n",
              "      <td>False</td>\n",
              "      <td>Citation</td>\n",
              "      <td>False</td>\n",
              "      <td>0-15 Min</td>\n",
              "      <td>False</td>\n",
              "      <td>False</td>\n",
              "      <td>Zone K1</td>\n",
              "    </tr>\n",
              "    <tr>\n",
              "      <th>2005-01-02 20:30:00</th>\n",
              "      <td>RI-2005-00002</td>\n",
              "      <td>Zone X4</td>\n",
              "      <td>500</td>\n",
              "      <td>M</td>\n",
              "      <td>1987.0</td>\n",
              "      <td>18.0</td>\n",
              "      <td>W</td>\n",
              "      <td>White</td>\n",
              "      <td>Speeding</td>\n",
              "      <td>Speeding</td>\n",
              "      <td>False</td>\n",
              "      <td>NaN</td>\n",
              "      <td>NaN</td>\n",
              "      <td>False</td>\n",
              "      <td>Citation</td>\n",
              "      <td>False</td>\n",
              "      <td>16-30 Min</td>\n",
              "      <td>False</td>\n",
              "      <td>False</td>\n",
              "      <td>Zone X4</td>\n",
              "    </tr>\n",
              "    <tr>\n",
              "      <th>2005-01-04 12:55:00</th>\n",
              "      <td>RI-2005-00004</td>\n",
              "      <td>Zone X4</td>\n",
              "      <td>500</td>\n",
              "      <td>M</td>\n",
              "      <td>1986.0</td>\n",
              "      <td>19.0</td>\n",
              "      <td>W</td>\n",
              "      <td>White</td>\n",
              "      <td>Equipment/Inspection Violation</td>\n",
              "      <td>Equipment</td>\n",
              "      <td>False</td>\n",
              "      <td>NaN</td>\n",
              "      <td>NaN</td>\n",
              "      <td>False</td>\n",
              "      <td>Citation</td>\n",
              "      <td>False</td>\n",
              "      <td>0-15 Min</td>\n",
              "      <td>False</td>\n",
              "      <td>False</td>\n",
              "      <td>Zone X4</td>\n",
              "    </tr>\n",
              "    <tr>\n",
              "      <th>2005-01-06 01:30:00</th>\n",
              "      <td>RI-2005-00005</td>\n",
              "      <td>Zone X4</td>\n",
              "      <td>500</td>\n",
              "      <td>M</td>\n",
              "      <td>1978.0</td>\n",
              "      <td>27.0</td>\n",
              "      <td>B</td>\n",
              "      <td>Black</td>\n",
              "      <td>Equipment/Inspection Violation</td>\n",
              "      <td>Equipment</td>\n",
              "      <td>False</td>\n",
              "      <td>NaN</td>\n",
              "      <td>NaN</td>\n",
              "      <td>False</td>\n",
              "      <td>Citation</td>\n",
              "      <td>False</td>\n",
              "      <td>0-15 Min</td>\n",
              "      <td>False</td>\n",
              "      <td>False</td>\n",
              "      <td>Zone X4</td>\n",
              "    </tr>\n",
              "    <tr>\n",
              "      <th>2005-01-12 08:05:00</th>\n",
              "      <td>RI-2005-00006</td>\n",
              "      <td>Zone X1</td>\n",
              "      <td>0</td>\n",
              "      <td>M</td>\n",
              "      <td>1973.0</td>\n",
              "      <td>32.0</td>\n",
              "      <td>B</td>\n",
              "      <td>Black</td>\n",
              "      <td>Call for Service</td>\n",
              "      <td>Other</td>\n",
              "      <td>False</td>\n",
              "      <td>NaN</td>\n",
              "      <td>NaN</td>\n",
              "      <td>False</td>\n",
              "      <td>Citation</td>\n",
              "      <td>False</td>\n",
              "      <td>30+ Min</td>\n",
              "      <td>True</td>\n",
              "      <td>False</td>\n",
              "      <td>Zone X1</td>\n",
              "    </tr>\n",
              "  </tbody>\n",
              "</table>\n",
              "</div>"
            ],
            "text/plain": [
              "                                id location_raw police_department  \\\n",
              "stop_datetime                                                       \n",
              "2005-01-02 01:55:00  RI-2005-00001      Zone K1               600   \n",
              "2005-01-02 20:30:00  RI-2005-00002      Zone X4               500   \n",
              "2005-01-04 12:55:00  RI-2005-00004      Zone X4               500   \n",
              "2005-01-06 01:30:00  RI-2005-00005      Zone X4               500   \n",
              "2005-01-12 08:05:00  RI-2005-00006      Zone X1                 0   \n",
              "\n",
              "                    driver_gender  driver_age_raw  driver_age driver_race_raw  \\\n",
              "stop_datetime                                                                   \n",
              "2005-01-02 01:55:00             M          1985.0        20.0               W   \n",
              "2005-01-02 20:30:00             M          1987.0        18.0               W   \n",
              "2005-01-04 12:55:00             M          1986.0        19.0               W   \n",
              "2005-01-06 01:30:00             M          1978.0        27.0               B   \n",
              "2005-01-12 08:05:00             M          1973.0        32.0               B   \n",
              "\n",
              "                    driver_race                   violation_raw  violation  \\\n",
              "stop_datetime                                                                \n",
              "2005-01-02 01:55:00       White                        Speeding   Speeding   \n",
              "2005-01-02 20:30:00       White                        Speeding   Speeding   \n",
              "2005-01-04 12:55:00       White  Equipment/Inspection Violation  Equipment   \n",
              "2005-01-06 01:30:00       Black  Equipment/Inspection Violation  Equipment   \n",
              "2005-01-12 08:05:00       Black                Call for Service      Other   \n",
              "\n",
              "                    search_conducted search_type_raw search_type  \\\n",
              "stop_datetime                                                      \n",
              "2005-01-02 01:55:00            False             NaN         NaN   \n",
              "2005-01-02 20:30:00            False             NaN         NaN   \n",
              "2005-01-04 12:55:00            False             NaN         NaN   \n",
              "2005-01-06 01:30:00            False             NaN         NaN   \n",
              "2005-01-12 08:05:00            False             NaN         NaN   \n",
              "\n",
              "                     contraband_found stop_outcome  is_arrested stop_duration  \\\n",
              "stop_datetime                                                                   \n",
              "2005-01-02 01:55:00             False     Citation        False      0-15 Min   \n",
              "2005-01-02 20:30:00             False     Citation        False     16-30 Min   \n",
              "2005-01-04 12:55:00             False     Citation        False      0-15 Min   \n",
              "2005-01-06 01:30:00             False     Citation        False      0-15 Min   \n",
              "2005-01-12 08:05:00             False     Citation        False       30+ Min   \n",
              "\n",
              "                    out_of_state  drugs_related_stop district  \n",
              "stop_datetime                                                  \n",
              "2005-01-02 01:55:00        False               False  Zone K1  \n",
              "2005-01-02 20:30:00        False               False  Zone X4  \n",
              "2005-01-04 12:55:00        False               False  Zone X4  \n",
              "2005-01-06 01:30:00        False               False  Zone X4  \n",
              "2005-01-12 08:05:00         True               False  Zone X1  "
            ]
          },
          "metadata": {
            "tags": []
          },
          "execution_count": 36
        }
      ]
    },
    {
      "cell_type": "code",
      "metadata": {
        "id": "L7T2KSgaY5oR",
        "outputId": "b7fecbe8-af51-4d1d-b15e-29d90b2c40aa"
      },
      "source": [
        "female.violation.value_counts(normalize = True)"
      ],
      "execution_count": null,
      "outputs": [
        {
          "output_type": "execute_result",
          "data": {
            "text/plain": [
              "Speeding               0.657308\n",
              "Moving violation       0.136581\n",
              "Equipment              0.107055\n",
              "Registration/plates    0.043077\n",
              "Other                  0.028908\n",
              "Seat belt              0.027071\n",
              "Name: violation, dtype: float64"
            ]
          },
          "metadata": {
            "tags": []
          },
          "execution_count": 37
        }
      ]
    },
    {
      "cell_type": "code",
      "metadata": {
        "id": "yiXFIGGaY5oR",
        "outputId": "04994519-cff1-4e4e-c62c-f6aa1d977c0b"
      },
      "source": [
        "male.violation.value_counts(normalize = True)"
      ],
      "execution_count": null,
      "outputs": [
        {
          "output_type": "execute_result",
          "data": {
            "text/plain": [
              "Speeding               0.522364\n",
              "Moving violation       0.206948\n",
              "Equipment              0.135102\n",
              "Other                  0.058450\n",
              "Registration/plates    0.040581\n",
              "Seat belt              0.036555\n",
              "Name: violation, dtype: float64"
            ]
          },
          "metadata": {
            "tags": []
          },
          "execution_count": 38
        }
      ]
    },
    {
      "cell_type": "code",
      "metadata": {
        "id": "0aJ0ZqrtY5oS",
        "outputId": "40fa710b-746c-4477-ff45-3953606aa10e"
      },
      "source": [
        "ri.groupby([\"driver_gender\"])[\"violation\"].value_counts(normalize = True, dropna = False)"
      ],
      "execution_count": null,
      "outputs": [
        {
          "output_type": "execute_result",
          "data": {
            "text/plain": [
              "driver_gender  violation          \n",
              "F              Speeding               0.657308\n",
              "               Moving violation       0.136581\n",
              "               Equipment              0.107055\n",
              "               Registration/plates    0.043077\n",
              "               Other                  0.028908\n",
              "               Seat belt              0.027071\n",
              "M              Speeding               0.522364\n",
              "               Moving violation       0.206948\n",
              "               Equipment              0.135102\n",
              "               Other                  0.058450\n",
              "               Registration/plates    0.040581\n",
              "               Seat belt              0.036555\n",
              "Name: violation, dtype: float64"
            ]
          },
          "metadata": {
            "tags": []
          },
          "execution_count": 39
        }
      ]
    },
    {
      "cell_type": "code",
      "metadata": {
        "id": "U7SdgpTPY5oT"
      },
      "source": [
        "female_and_speeding = ri[(ri.driver_gender == \"F\") & (ri.violation == \"Speeding\")]\n",
        "\n",
        "male_and_speeding = ri[(ri.driver_gender == \"M\") & (ri.violation == \"Speeding\")]"
      ],
      "execution_count": null,
      "outputs": []
    },
    {
      "cell_type": "code",
      "metadata": {
        "id": "DweB9GP1Y5oT",
        "outputId": "e9893354-c5bb-4403-b2f9-336b1b40e575"
      },
      "source": [
        "female_and_speeding.head()"
      ],
      "execution_count": null,
      "outputs": [
        {
          "output_type": "execute_result",
          "data": {
            "text/html": [
              "<div>\n",
              "<style scoped>\n",
              "    .dataframe tbody tr th:only-of-type {\n",
              "        vertical-align: middle;\n",
              "    }\n",
              "\n",
              "    .dataframe tbody tr th {\n",
              "        vertical-align: top;\n",
              "    }\n",
              "\n",
              "    .dataframe thead th {\n",
              "        text-align: right;\n",
              "    }\n",
              "</style>\n",
              "<table border=\"1\" class=\"dataframe\">\n",
              "  <thead>\n",
              "    <tr style=\"text-align: right;\">\n",
              "      <th></th>\n",
              "      <th>id</th>\n",
              "      <th>location_raw</th>\n",
              "      <th>police_department</th>\n",
              "      <th>driver_gender</th>\n",
              "      <th>driver_age_raw</th>\n",
              "      <th>driver_age</th>\n",
              "      <th>driver_race_raw</th>\n",
              "      <th>driver_race</th>\n",
              "      <th>violation_raw</th>\n",
              "      <th>violation</th>\n",
              "      <th>search_conducted</th>\n",
              "      <th>search_type_raw</th>\n",
              "      <th>search_type</th>\n",
              "      <th>contraband_found</th>\n",
              "      <th>stop_outcome</th>\n",
              "      <th>is_arrested</th>\n",
              "      <th>stop_duration</th>\n",
              "      <th>out_of_state</th>\n",
              "      <th>drugs_related_stop</th>\n",
              "      <th>district</th>\n",
              "    </tr>\n",
              "    <tr>\n",
              "      <th>stop_datetime</th>\n",
              "      <th></th>\n",
              "      <th></th>\n",
              "      <th></th>\n",
              "      <th></th>\n",
              "      <th></th>\n",
              "      <th></th>\n",
              "      <th></th>\n",
              "      <th></th>\n",
              "      <th></th>\n",
              "      <th></th>\n",
              "      <th></th>\n",
              "      <th></th>\n",
              "      <th></th>\n",
              "      <th></th>\n",
              "      <th></th>\n",
              "      <th></th>\n",
              "      <th></th>\n",
              "      <th></th>\n",
              "      <th></th>\n",
              "      <th></th>\n",
              "    </tr>\n",
              "  </thead>\n",
              "  <tbody>\n",
              "    <tr>\n",
              "      <th>2005-02-24 01:20:00</th>\n",
              "      <td>RI-2005-00016</td>\n",
              "      <td>Zone X3</td>\n",
              "      <td>200</td>\n",
              "      <td>F</td>\n",
              "      <td>1983.0</td>\n",
              "      <td>22.0</td>\n",
              "      <td>W</td>\n",
              "      <td>White</td>\n",
              "      <td>Speeding</td>\n",
              "      <td>Speeding</td>\n",
              "      <td>False</td>\n",
              "      <td>NaN</td>\n",
              "      <td>NaN</td>\n",
              "      <td>False</td>\n",
              "      <td>Citation</td>\n",
              "      <td>False</td>\n",
              "      <td>0-15 Min</td>\n",
              "      <td>True</td>\n",
              "      <td>False</td>\n",
              "      <td>Zone X3</td>\n",
              "    </tr>\n",
              "    <tr>\n",
              "      <th>2005-03-14 10:00:00</th>\n",
              "      <td>RI-2005-00019</td>\n",
              "      <td>Zone K3</td>\n",
              "      <td>300</td>\n",
              "      <td>F</td>\n",
              "      <td>1984.0</td>\n",
              "      <td>21.0</td>\n",
              "      <td>W</td>\n",
              "      <td>White</td>\n",
              "      <td>Speeding</td>\n",
              "      <td>Speeding</td>\n",
              "      <td>False</td>\n",
              "      <td>NaN</td>\n",
              "      <td>NaN</td>\n",
              "      <td>False</td>\n",
              "      <td>Citation</td>\n",
              "      <td>False</td>\n",
              "      <td>0-15 Min</td>\n",
              "      <td>False</td>\n",
              "      <td>False</td>\n",
              "      <td>Zone K3</td>\n",
              "    </tr>\n",
              "    <tr>\n",
              "      <th>2005-03-29 23:20:00</th>\n",
              "      <td>RI-2005-00026</td>\n",
              "      <td>Zone K3</td>\n",
              "      <td>300</td>\n",
              "      <td>F</td>\n",
              "      <td>1971.0</td>\n",
              "      <td>34.0</td>\n",
              "      <td>W</td>\n",
              "      <td>White</td>\n",
              "      <td>Speeding</td>\n",
              "      <td>Speeding</td>\n",
              "      <td>False</td>\n",
              "      <td>NaN</td>\n",
              "      <td>NaN</td>\n",
              "      <td>False</td>\n",
              "      <td>Citation</td>\n",
              "      <td>False</td>\n",
              "      <td>0-15 Min</td>\n",
              "      <td>True</td>\n",
              "      <td>False</td>\n",
              "      <td>Zone K3</td>\n",
              "    </tr>\n",
              "    <tr>\n",
              "      <th>2005-06-06 13:20:00</th>\n",
              "      <td>RI-2005-00035</td>\n",
              "      <td>Zone X4</td>\n",
              "      <td>500</td>\n",
              "      <td>F</td>\n",
              "      <td>1986.0</td>\n",
              "      <td>19.0</td>\n",
              "      <td>W</td>\n",
              "      <td>White</td>\n",
              "      <td>Speeding</td>\n",
              "      <td>Speeding</td>\n",
              "      <td>False</td>\n",
              "      <td>NaN</td>\n",
              "      <td>NaN</td>\n",
              "      <td>False</td>\n",
              "      <td>Citation</td>\n",
              "      <td>False</td>\n",
              "      <td>0-15 Min</td>\n",
              "      <td>False</td>\n",
              "      <td>False</td>\n",
              "      <td>Zone X4</td>\n",
              "    </tr>\n",
              "    <tr>\n",
              "      <th>2005-07-06 11:22:00</th>\n",
              "      <td>RI-2005-00038</td>\n",
              "      <td>Zone X1</td>\n",
              "      <td>0</td>\n",
              "      <td>F</td>\n",
              "      <td>1973.0</td>\n",
              "      <td>32.0</td>\n",
              "      <td>W</td>\n",
              "      <td>White</td>\n",
              "      <td>Speeding</td>\n",
              "      <td>Speeding</td>\n",
              "      <td>False</td>\n",
              "      <td>NaN</td>\n",
              "      <td>NaN</td>\n",
              "      <td>False</td>\n",
              "      <td>Citation</td>\n",
              "      <td>False</td>\n",
              "      <td>0-15 Min</td>\n",
              "      <td>False</td>\n",
              "      <td>False</td>\n",
              "      <td>Zone X1</td>\n",
              "    </tr>\n",
              "  </tbody>\n",
              "</table>\n",
              "</div>"
            ],
            "text/plain": [
              "                                id location_raw police_department  \\\n",
              "stop_datetime                                                       \n",
              "2005-02-24 01:20:00  RI-2005-00016      Zone X3               200   \n",
              "2005-03-14 10:00:00  RI-2005-00019      Zone K3               300   \n",
              "2005-03-29 23:20:00  RI-2005-00026      Zone K3               300   \n",
              "2005-06-06 13:20:00  RI-2005-00035      Zone X4               500   \n",
              "2005-07-06 11:22:00  RI-2005-00038      Zone X1                 0   \n",
              "\n",
              "                    driver_gender  driver_age_raw  driver_age driver_race_raw  \\\n",
              "stop_datetime                                                                   \n",
              "2005-02-24 01:20:00             F          1983.0        22.0               W   \n",
              "2005-03-14 10:00:00             F          1984.0        21.0               W   \n",
              "2005-03-29 23:20:00             F          1971.0        34.0               W   \n",
              "2005-06-06 13:20:00             F          1986.0        19.0               W   \n",
              "2005-07-06 11:22:00             F          1973.0        32.0               W   \n",
              "\n",
              "                    driver_race violation_raw violation search_conducted  \\\n",
              "stop_datetime                                                              \n",
              "2005-02-24 01:20:00       White      Speeding  Speeding            False   \n",
              "2005-03-14 10:00:00       White      Speeding  Speeding            False   \n",
              "2005-03-29 23:20:00       White      Speeding  Speeding            False   \n",
              "2005-06-06 13:20:00       White      Speeding  Speeding            False   \n",
              "2005-07-06 11:22:00       White      Speeding  Speeding            False   \n",
              "\n",
              "                    search_type_raw search_type  contraband_found  \\\n",
              "stop_datetime                                                       \n",
              "2005-02-24 01:20:00             NaN         NaN             False   \n",
              "2005-03-14 10:00:00             NaN         NaN             False   \n",
              "2005-03-29 23:20:00             NaN         NaN             False   \n",
              "2005-06-06 13:20:00             NaN         NaN             False   \n",
              "2005-07-06 11:22:00             NaN         NaN             False   \n",
              "\n",
              "                    stop_outcome  is_arrested stop_duration out_of_state  \\\n",
              "stop_datetime                                                              \n",
              "2005-02-24 01:20:00     Citation        False      0-15 Min         True   \n",
              "2005-03-14 10:00:00     Citation        False      0-15 Min        False   \n",
              "2005-03-29 23:20:00     Citation        False      0-15 Min         True   \n",
              "2005-06-06 13:20:00     Citation        False      0-15 Min        False   \n",
              "2005-07-06 11:22:00     Citation        False      0-15 Min        False   \n",
              "\n",
              "                     drugs_related_stop district  \n",
              "stop_datetime                                     \n",
              "2005-02-24 01:20:00               False  Zone X3  \n",
              "2005-03-14 10:00:00               False  Zone K3  \n",
              "2005-03-29 23:20:00               False  Zone K3  \n",
              "2005-06-06 13:20:00               False  Zone X4  \n",
              "2005-07-06 11:22:00               False  Zone X1  "
            ]
          },
          "metadata": {
            "tags": []
          },
          "execution_count": 41
        }
      ]
    },
    {
      "cell_type": "code",
      "metadata": {
        "id": "Q4rOrurBY5oU",
        "outputId": "826575ad-e978-41fe-cdc3-1de5b9da5720"
      },
      "source": [
        "ri.stop_outcome.value_counts(dropna = False)"
      ],
      "execution_count": null,
      "outputs": [
        {
          "output_type": "execute_result",
          "data": {
            "text/plain": [
              "Citation            428378\n",
              "Warning              28840\n",
              "Arrest Driver        14630\n",
              "N/D                   3431\n",
              "No Action             3332\n",
              "Arrest Passenger      1973\n",
              "Name: stop_outcome, dtype: int64"
            ]
          },
          "metadata": {
            "tags": []
          },
          "execution_count": 42
        }
      ]
    },
    {
      "cell_type": "code",
      "metadata": {
        "id": "G1uyhDZyY5oU",
        "outputId": "b4d262a1-4aa4-4bed-d723-e9d4ffc99e51"
      },
      "source": [
        "print(female_and_speeding.stop_outcome.value_counts(normalize = True))\n",
        "print(\"--------------------\")\n",
        "print(male_and_speeding.stop_outcome.value_counts(normalize = True))"
      ],
      "execution_count": null,
      "outputs": [
        {
          "output_type": "stream",
          "text": [
            "Citation            0.953247\n",
            "Warning             0.039003\n",
            "Arrest Driver       0.005290\n",
            "Arrest Passenger    0.001033\n",
            "N/D                 0.000905\n",
            "No Action           0.000522\n",
            "Name: stop_outcome, dtype: float64\n",
            "--------------------\n",
            "Citation            0.944636\n",
            "Warning             0.036086\n",
            "Arrest Driver       0.015767\n",
            "Arrest Passenger    0.001265\n",
            "N/D                 0.001183\n",
            "No Action           0.001063\n",
            "Name: stop_outcome, dtype: float64\n"
          ],
          "name": "stdout"
        }
      ]
    },
    {
      "cell_type": "code",
      "metadata": {
        "id": "N_aQkxsTY5oV",
        "outputId": "06a907f9-ba81-400f-a568-8635b5b56ce2"
      },
      "source": [
        "ri.groupby([\"violation\", \"driver_gender\"])[\"stop_outcome\"].value_counts(normalize = True)"
      ],
      "execution_count": null,
      "outputs": [
        {
          "output_type": "execute_result",
          "data": {
            "text/plain": [
              "violation  driver_gender  stop_outcome    \n",
              "Equipment  F              Citation            0.727830\n",
              "                          Warning             0.157490\n",
              "                          N/D                 0.047938\n",
              "                          Arrest Driver       0.040387\n",
              "                          Arrest Passenger    0.021227\n",
              "                                                ...   \n",
              "Speeding   M              Warning             0.036086\n",
              "                          Arrest Driver       0.015767\n",
              "                          Arrest Passenger    0.001265\n",
              "                          N/D                 0.001183\n",
              "                          No Action           0.001063\n",
              "Name: stop_outcome, Length: 71, dtype: float64"
            ]
          },
          "metadata": {
            "tags": []
          },
          "execution_count": 44
        }
      ]
    },
    {
      "cell_type": "code",
      "metadata": {
        "id": "O3-G1bPqY5oW",
        "outputId": "02a3a945-6802-472a-88a1-29da184d7cb6"
      },
      "source": [
        "print(ri.search_conducted.dtype)"
      ],
      "execution_count": null,
      "outputs": [
        {
          "output_type": "stream",
          "text": [
            "object\n"
          ],
          "name": "stdout"
        }
      ]
    },
    {
      "cell_type": "code",
      "metadata": {
        "id": "6qn7itUXY5oX",
        "outputId": "25907c06-9b0b-48fd-b348-53f48a1facbb"
      },
      "source": [
        "ri.search_conducted.value_counts(normalize = True)"
      ],
      "execution_count": null,
      "outputs": [
        {
          "output_type": "execute_result",
          "data": {
            "text/plain": [
              "False    0.963041\n",
              "True     0.036959\n",
              "Name: search_conducted, dtype: float64"
            ]
          },
          "metadata": {
            "tags": []
          },
          "execution_count": 46
        }
      ]
    },
    {
      "cell_type": "code",
      "metadata": {
        "id": "xeoa1KY2Y5oX",
        "outputId": "f2102e80-5660-4c34-ab15-b2926d9a7570"
      },
      "source": [
        "ri.search_conducted.mean()"
      ],
      "execution_count": null,
      "outputs": [
        {
          "output_type": "execute_result",
          "data": {
            "text/plain": [
              "0.036959199640437465"
            ]
          },
          "metadata": {
            "tags": []
          },
          "execution_count": 47
        }
      ]
    },
    {
      "cell_type": "code",
      "metadata": {
        "id": "h20hkw1TY5oY",
        "outputId": "41726972-4725-4139-f777-3d76fe165a96"
      },
      "source": [
        "ri[ri.driver_gender == \"F\"].search_conducted.mean()"
      ],
      "execution_count": null,
      "outputs": [
        {
          "output_type": "execute_result",
          "data": {
            "text/plain": [
              "0.018751239152648355"
            ]
          },
          "metadata": {
            "tags": []
          },
          "execution_count": 48
        }
      ]
    },
    {
      "cell_type": "code",
      "metadata": {
        "id": "canL12IfY5oZ",
        "outputId": "50e93061-b6b8-4450-dd05-516850888f91"
      },
      "source": [
        "ri[ri.driver_gender == \"M\"].search_conducted.mean()"
      ],
      "execution_count": null,
      "outputs": [
        {
          "output_type": "execute_result",
          "data": {
            "text/plain": [
              "0.04379217389811301"
            ]
          },
          "metadata": {
            "tags": []
          },
          "execution_count": 49
        }
      ]
    },
    {
      "cell_type": "code",
      "metadata": {
        "id": "RmoVX10DY5oa",
        "outputId": "60abe168-1408-4f07-f328-db0ce7e7a620"
      },
      "source": [
        "ri.search_conducted.astype(\"bool\")"
      ],
      "execution_count": null,
      "outputs": [
        {
          "output_type": "execute_result",
          "data": {
            "text/plain": [
              "stop_datetime\n",
              "2005-01-02 01:55:00    False\n",
              "2005-01-02 20:30:00    False\n",
              "2005-01-04 12:55:00    False\n",
              "2005-01-06 01:30:00    False\n",
              "2005-01-12 08:05:00    False\n",
              "                       ...  \n",
              "2015-12-31 22:46:00    False\n",
              "2015-12-31 22:47:00    False\n",
              "2015-12-31 23:08:00    False\n",
              "2015-12-31 23:44:00    False\n",
              "2015-12-31 23:48:00    False\n",
              "Name: search_conducted, Length: 480584, dtype: bool"
            ]
          },
          "metadata": {
            "tags": []
          },
          "execution_count": 59
        }
      ]
    },
    {
      "cell_type": "code",
      "metadata": {
        "id": "YzPToZVZY5ob",
        "outputId": "2c2f3b68-5a72-4d94-c451-c9016000e621"
      },
      "source": [
        "ri.info()"
      ],
      "execution_count": null,
      "outputs": [
        {
          "output_type": "stream",
          "text": [
            "<class 'pandas.core.frame.DataFrame'>\n",
            "DatetimeIndex: 480584 entries, 2005-01-02 01:55:00 to 2015-12-31 23:48:00\n",
            "Data columns (total 20 columns):\n",
            " #   Column              Non-Null Count   Dtype  \n",
            "---  ------              --------------   -----  \n",
            " 0   id                  480584 non-null  object \n",
            " 1   location_raw        480584 non-null  object \n",
            " 2   police_department   480584 non-null  object \n",
            " 3   driver_gender       480584 non-null  object \n",
            " 4   driver_age_raw      480583 non-null  float64\n",
            " 5   driver_age          478946 non-null  float64\n",
            " 6   driver_race_raw     480584 non-null  object \n",
            " 7   driver_race         480584 non-null  object \n",
            " 8   violation_raw       480584 non-null  object \n",
            " 9   violation           480584 non-null  object \n",
            " 10  search_conducted    480584 non-null  object \n",
            " 11  search_type_raw     17762 non-null   object \n",
            " 12  search_type         17762 non-null   object \n",
            " 13  contraband_found    480584 non-null  bool   \n",
            " 14  stop_outcome        480584 non-null  object \n",
            " 15  is_arrested         480584 non-null  bool   \n",
            " 16  stop_duration       480584 non-null  object \n",
            " 17  out_of_state        479776 non-null  object \n",
            " 18  drugs_related_stop  480584 non-null  bool   \n",
            " 19  district            480584 non-null  object \n",
            "dtypes: bool(3), float64(2), object(15)\n",
            "memory usage: 67.4+ MB\n"
          ],
          "name": "stdout"
        }
      ]
    },
    {
      "cell_type": "code",
      "metadata": {
        "id": "VZjwq6qXY5ob"
      },
      "source": [
        "# ri.groupby(\"driver_gender\")[\"search_conducted\"].mean()"
      ],
      "execution_count": null,
      "outputs": []
    },
    {
      "cell_type": "code",
      "metadata": {
        "id": "7KoRuug8Y5oc"
      },
      "source": [
        "# ri.groupby([\"driver_gender\", \"violation\"]).search_conducted.mean()"
      ],
      "execution_count": null,
      "outputs": []
    },
    {
      "cell_type": "code",
      "metadata": {
        "id": "sb_0Ou8cY5oc"
      },
      "source": [
        "# ri.groupby([\"violation\", \"driver_gender\"]).search_conducted.mean()"
      ],
      "execution_count": null,
      "outputs": []
    },
    {
      "cell_type": "code",
      "metadata": {
        "id": "45lejVJSY5od",
        "outputId": "41953199-4f4f-4053-fbe5-b982254bb218"
      },
      "source": [
        "ri.search_type.value_counts()"
      ],
      "execution_count": null,
      "outputs": [
        {
          "output_type": "execute_result",
          "data": {
            "text/plain": [
              "Incident to Arrest                                          6998\n",
              "Probable Cause                                              4989\n",
              "Reasonable Suspicion                                        1141\n",
              "Inventory                                                   1101\n",
              "Protective Frisk                                             879\n",
              "Incident to Arrest,Inventory                                 649\n",
              "Incident to Arrest,Probable Cause                            552\n",
              "Probable Cause,Reasonable Suspicion                          334\n",
              "Probable Cause,Protective Frisk                              221\n",
              "Incident to Arrest,Protective Frisk                          158\n",
              "Incident to Arrest,Inventory,Probable Cause                  151\n",
              "Inventory,Probable Cause                                     132\n",
              "Protective Frisk,Reasonable Suspicion                         83\n",
              "Incident to Arrest,Inventory,Protective Frisk                 77\n",
              "Incident to Arrest,Probable Cause,Protective Frisk            74\n",
              "Inventory,Protective Frisk                                    52\n",
              "Incident to Arrest,Reasonable Suspicion                       49\n",
              "Incident to Arrest,Probable Cause,Reasonable Suspicion        31\n",
              "Probable Cause,Protective Frisk,Reasonable Suspicion          31\n",
              "Inventory,Reasonable Suspicion                                17\n",
              "Inventory,Probable Cause,Protective Frisk                     14\n",
              "Incident to Arrest,Inventory,Reasonable Suspicion             12\n",
              "Inventory,Probable Cause,Reasonable Suspicion                  8\n",
              "Incident to Arrest,Protective Frisk,Reasonable Suspicion       8\n",
              "Inventory,Protective Frisk,Reasonable Suspicion                1\n",
              "Name: search_type, dtype: int64"
            ]
          },
          "metadata": {
            "tags": []
          },
          "execution_count": 69
        }
      ]
    },
    {
      "cell_type": "code",
      "metadata": {
        "id": "sOCbCLiVY5of"
      },
      "source": [
        "ri[\"frisk\"] = ri.search_type.str.contains(\"Protective Frisk\", na = False)"
      ],
      "execution_count": null,
      "outputs": []
    },
    {
      "cell_type": "code",
      "metadata": {
        "id": "32bGNKxNY5og",
        "outputId": "5511b5f3-2cd1-4377-cfd3-cfeb4e883721"
      },
      "source": [
        "print(ri.frisk.dtype)"
      ],
      "execution_count": null,
      "outputs": [
        {
          "output_type": "stream",
          "text": [
            "bool\n"
          ],
          "name": "stdout"
        }
      ]
    },
    {
      "cell_type": "code",
      "metadata": {
        "id": "x0LJMuzQY5oh",
        "outputId": "9080d14b-cd17-4ce1-89d2-e47ab83640c2"
      },
      "source": [
        "ri.frisk.sum()"
      ],
      "execution_count": null,
      "outputs": [
        {
          "output_type": "execute_result",
          "data": {
            "text/plain": [
              "1598"
            ]
          },
          "metadata": {
            "tags": []
          },
          "execution_count": 72
        }
      ]
    },
    {
      "cell_type": "code",
      "metadata": {
        "id": "izujYHxzY5oi",
        "outputId": "95010702-7973-4fb7-c5a9-e1a5d25597f3"
      },
      "source": [
        "ri[ri.frisk]"
      ],
      "execution_count": null,
      "outputs": [
        {
          "output_type": "execute_result",
          "data": {
            "text/html": [
              "<div>\n",
              "<style scoped>\n",
              "    .dataframe tbody tr th:only-of-type {\n",
              "        vertical-align: middle;\n",
              "    }\n",
              "\n",
              "    .dataframe tbody tr th {\n",
              "        vertical-align: top;\n",
              "    }\n",
              "\n",
              "    .dataframe thead th {\n",
              "        text-align: right;\n",
              "    }\n",
              "</style>\n",
              "<table border=\"1\" class=\"dataframe\">\n",
              "  <thead>\n",
              "    <tr style=\"text-align: right;\">\n",
              "      <th></th>\n",
              "      <th>id</th>\n",
              "      <th>location_raw</th>\n",
              "      <th>police_department</th>\n",
              "      <th>driver_gender</th>\n",
              "      <th>driver_age_raw</th>\n",
              "      <th>driver_age</th>\n",
              "      <th>driver_race_raw</th>\n",
              "      <th>driver_race</th>\n",
              "      <th>violation_raw</th>\n",
              "      <th>violation</th>\n",
              "      <th>...</th>\n",
              "      <th>search_type_raw</th>\n",
              "      <th>search_type</th>\n",
              "      <th>contraband_found</th>\n",
              "      <th>stop_outcome</th>\n",
              "      <th>is_arrested</th>\n",
              "      <th>stop_duration</th>\n",
              "      <th>out_of_state</th>\n",
              "      <th>drugs_related_stop</th>\n",
              "      <th>district</th>\n",
              "      <th>frisk</th>\n",
              "    </tr>\n",
              "    <tr>\n",
              "      <th>stop_datetime</th>\n",
              "      <th></th>\n",
              "      <th></th>\n",
              "      <th></th>\n",
              "      <th></th>\n",
              "      <th></th>\n",
              "      <th></th>\n",
              "      <th></th>\n",
              "      <th></th>\n",
              "      <th></th>\n",
              "      <th></th>\n",
              "      <th></th>\n",
              "      <th></th>\n",
              "      <th></th>\n",
              "      <th></th>\n",
              "      <th></th>\n",
              "      <th></th>\n",
              "      <th></th>\n",
              "      <th></th>\n",
              "      <th></th>\n",
              "      <th></th>\n",
              "      <th></th>\n",
              "    </tr>\n",
              "  </thead>\n",
              "  <tbody>\n",
              "    <tr>\n",
              "      <th>2005-02-09 03:05:00</th>\n",
              "      <td>RI-2005-00011</td>\n",
              "      <td>Zone X4</td>\n",
              "      <td>500</td>\n",
              "      <td>M</td>\n",
              "      <td>1976.0</td>\n",
              "      <td>29.0</td>\n",
              "      <td>W</td>\n",
              "      <td>White</td>\n",
              "      <td>Registration Violation</td>\n",
              "      <td>Registration/plates</td>\n",
              "      <td>...</td>\n",
              "      <td>Probable Cause,Terry Frisk</td>\n",
              "      <td>Probable Cause,Protective Frisk</td>\n",
              "      <td>False</td>\n",
              "      <td>Citation</td>\n",
              "      <td>False</td>\n",
              "      <td>0-15 Min</td>\n",
              "      <td>False</td>\n",
              "      <td>False</td>\n",
              "      <td>Zone X4</td>\n",
              "      <td>True</td>\n",
              "    </tr>\n",
              "    <tr>\n",
              "      <th>2005-08-28 01:00:00</th>\n",
              "      <td>RI-2005-00084</td>\n",
              "      <td>Zone X1</td>\n",
              "      <td>0</td>\n",
              "      <td>M</td>\n",
              "      <td>1979.0</td>\n",
              "      <td>26.0</td>\n",
              "      <td>W</td>\n",
              "      <td>White</td>\n",
              "      <td>Other Traffic Violation</td>\n",
              "      <td>Moving violation</td>\n",
              "      <td>...</td>\n",
              "      <td>Incident to Arrest,Terry Frisk</td>\n",
              "      <td>Incident to Arrest,Protective Frisk</td>\n",
              "      <td>False</td>\n",
              "      <td>Arrest Driver</td>\n",
              "      <td>True</td>\n",
              "      <td>16-30 Min</td>\n",
              "      <td>True</td>\n",
              "      <td>False</td>\n",
              "      <td>Zone X1</td>\n",
              "      <td>True</td>\n",
              "    </tr>\n",
              "    <tr>\n",
              "      <th>2005-10-01 16:20:00</th>\n",
              "      <td>RI-2005-00253</td>\n",
              "      <td>Zone K1</td>\n",
              "      <td>600</td>\n",
              "      <td>M</td>\n",
              "      <td>1958.0</td>\n",
              "      <td>47.0</td>\n",
              "      <td>W</td>\n",
              "      <td>White</td>\n",
              "      <td>Speeding</td>\n",
              "      <td>Speeding</td>\n",
              "      <td>...</td>\n",
              "      <td>Reasonable Suspicion,Terry Frisk</td>\n",
              "      <td>Protective Frisk,Reasonable Suspicion</td>\n",
              "      <td>True</td>\n",
              "      <td>Citation</td>\n",
              "      <td>False</td>\n",
              "      <td>16-30 Min</td>\n",
              "      <td>False</td>\n",
              "      <td>False</td>\n",
              "      <td>Zone K1</td>\n",
              "      <td>True</td>\n",
              "    </tr>\n",
              "    <tr>\n",
              "      <th>2005-10-06 21:35:00</th>\n",
              "      <td>RI-2005-01027</td>\n",
              "      <td>Zone X4</td>\n",
              "      <td>500</td>\n",
              "      <td>M</td>\n",
              "      <td>1966.0</td>\n",
              "      <td>39.0</td>\n",
              "      <td>W</td>\n",
              "      <td>White</td>\n",
              "      <td>Speeding</td>\n",
              "      <td>Speeding</td>\n",
              "      <td>...</td>\n",
              "      <td>Terry Frisk</td>\n",
              "      <td>Protective Frisk</td>\n",
              "      <td>False</td>\n",
              "      <td>Citation</td>\n",
              "      <td>False</td>\n",
              "      <td>0-15 Min</td>\n",
              "      <td>False</td>\n",
              "      <td>False</td>\n",
              "      <td>Zone X4</td>\n",
              "      <td>True</td>\n",
              "    </tr>\n",
              "    <tr>\n",
              "      <th>2005-10-07 11:33:00</th>\n",
              "      <td>RI-2005-01121</td>\n",
              "      <td>Zone X4</td>\n",
              "      <td>900</td>\n",
              "      <td>M</td>\n",
              "      <td>1980.0</td>\n",
              "      <td>25.0</td>\n",
              "      <td>W</td>\n",
              "      <td>White</td>\n",
              "      <td>Equipment/Inspection Violation</td>\n",
              "      <td>Equipment</td>\n",
              "      <td>...</td>\n",
              "      <td>Terry Frisk</td>\n",
              "      <td>Protective Frisk</td>\n",
              "      <td>False</td>\n",
              "      <td>Arrest Driver</td>\n",
              "      <td>True</td>\n",
              "      <td>16-30 Min</td>\n",
              "      <td>False</td>\n",
              "      <td>False</td>\n",
              "      <td>Zone X4</td>\n",
              "      <td>True</td>\n",
              "    </tr>\n",
              "    <tr>\n",
              "      <th>...</th>\n",
              "      <td>...</td>\n",
              "      <td>...</td>\n",
              "      <td>...</td>\n",
              "      <td>...</td>\n",
              "      <td>...</td>\n",
              "      <td>...</td>\n",
              "      <td>...</td>\n",
              "      <td>...</td>\n",
              "      <td>...</td>\n",
              "      <td>...</td>\n",
              "      <td>...</td>\n",
              "      <td>...</td>\n",
              "      <td>...</td>\n",
              "      <td>...</td>\n",
              "      <td>...</td>\n",
              "      <td>...</td>\n",
              "      <td>...</td>\n",
              "      <td>...</td>\n",
              "      <td>...</td>\n",
              "      <td>...</td>\n",
              "      <td>...</td>\n",
              "    </tr>\n",
              "    <tr>\n",
              "      <th>2015-11-27 19:49:00</th>\n",
              "      <td>RI-2015-43442</td>\n",
              "      <td>Zone X3</td>\n",
              "      <td>200</td>\n",
              "      <td>M</td>\n",
              "      <td>1986.0</td>\n",
              "      <td>29.0</td>\n",
              "      <td>W</td>\n",
              "      <td>White</td>\n",
              "      <td>Speeding</td>\n",
              "      <td>Speeding</td>\n",
              "      <td>...</td>\n",
              "      <td>Terry Frisk</td>\n",
              "      <td>Protective Frisk</td>\n",
              "      <td>False</td>\n",
              "      <td>Warning</td>\n",
              "      <td>False</td>\n",
              "      <td>0-15 Min</td>\n",
              "      <td>True</td>\n",
              "      <td>False</td>\n",
              "      <td>Zone X3</td>\n",
              "      <td>True</td>\n",
              "    </tr>\n",
              "    <tr>\n",
              "      <th>2015-12-06 10:33:00</th>\n",
              "      <td>RI-2015-44434</td>\n",
              "      <td>Zone K3</td>\n",
              "      <td>300</td>\n",
              "      <td>M</td>\n",
              "      <td>1993.0</td>\n",
              "      <td>22.0</td>\n",
              "      <td>L</td>\n",
              "      <td>Hispanic</td>\n",
              "      <td>Speeding</td>\n",
              "      <td>Speeding</td>\n",
              "      <td>...</td>\n",
              "      <td>Terry Frisk</td>\n",
              "      <td>Protective Frisk</td>\n",
              "      <td>True</td>\n",
              "      <td>Citation</td>\n",
              "      <td>False</td>\n",
              "      <td>16-30 Min</td>\n",
              "      <td>True</td>\n",
              "      <td>True</td>\n",
              "      <td>Zone K3</td>\n",
              "      <td>True</td>\n",
              "    </tr>\n",
              "    <tr>\n",
              "      <th>2015-12-12 09:02:00</th>\n",
              "      <td>RI-2015-45103</td>\n",
              "      <td>Zone X4</td>\n",
              "      <td>500</td>\n",
              "      <td>M</td>\n",
              "      <td>1982.0</td>\n",
              "      <td>33.0</td>\n",
              "      <td>W</td>\n",
              "      <td>White</td>\n",
              "      <td>Other Traffic Violation</td>\n",
              "      <td>Moving violation</td>\n",
              "      <td>...</td>\n",
              "      <td>Terry Frisk</td>\n",
              "      <td>Protective Frisk</td>\n",
              "      <td>False</td>\n",
              "      <td>Citation</td>\n",
              "      <td>False</td>\n",
              "      <td>16-30 Min</td>\n",
              "      <td>True</td>\n",
              "      <td>False</td>\n",
              "      <td>Zone X4</td>\n",
              "      <td>True</td>\n",
              "    </tr>\n",
              "    <tr>\n",
              "      <th>2015-12-16 02:38:00</th>\n",
              "      <td>RI-2015-45507</td>\n",
              "      <td>Zone K3</td>\n",
              "      <td>200</td>\n",
              "      <td>M</td>\n",
              "      <td>1988.0</td>\n",
              "      <td>27.0</td>\n",
              "      <td>L</td>\n",
              "      <td>Hispanic</td>\n",
              "      <td>Speeding</td>\n",
              "      <td>Speeding</td>\n",
              "      <td>...</td>\n",
              "      <td>Incident to Arrest,Odor of Drugs/Alcohol,Terry...</td>\n",
              "      <td>Incident to Arrest,Probable Cause,Protective F...</td>\n",
              "      <td>True</td>\n",
              "      <td>Arrest Driver</td>\n",
              "      <td>True</td>\n",
              "      <td>30+ Min</td>\n",
              "      <td>False</td>\n",
              "      <td>True</td>\n",
              "      <td>Zone K3</td>\n",
              "      <td>True</td>\n",
              "    </tr>\n",
              "    <tr>\n",
              "      <th>2015-12-30 01:37:00</th>\n",
              "      <td>RI-2015-46870</td>\n",
              "      <td>Zone X4</td>\n",
              "      <td>500</td>\n",
              "      <td>M</td>\n",
              "      <td>1979.0</td>\n",
              "      <td>36.0</td>\n",
              "      <td>W</td>\n",
              "      <td>White</td>\n",
              "      <td>Registration Violation</td>\n",
              "      <td>Registration/plates</td>\n",
              "      <td>...</td>\n",
              "      <td>Terry Frisk</td>\n",
              "      <td>Protective Frisk</td>\n",
              "      <td>False</td>\n",
              "      <td>Citation</td>\n",
              "      <td>False</td>\n",
              "      <td>0-15 Min</td>\n",
              "      <td>False</td>\n",
              "      <td>False</td>\n",
              "      <td>Zone X4</td>\n",
              "      <td>True</td>\n",
              "    </tr>\n",
              "  </tbody>\n",
              "</table>\n",
              "<p>1598 rows × 21 columns</p>\n",
              "</div>"
            ],
            "text/plain": [
              "                                id location_raw police_department  \\\n",
              "stop_datetime                                                       \n",
              "2005-02-09 03:05:00  RI-2005-00011      Zone X4               500   \n",
              "2005-08-28 01:00:00  RI-2005-00084      Zone X1                 0   \n",
              "2005-10-01 16:20:00  RI-2005-00253      Zone K1               600   \n",
              "2005-10-06 21:35:00  RI-2005-01027      Zone X4               500   \n",
              "2005-10-07 11:33:00  RI-2005-01121      Zone X4               900   \n",
              "...                            ...          ...               ...   \n",
              "2015-11-27 19:49:00  RI-2015-43442      Zone X3               200   \n",
              "2015-12-06 10:33:00  RI-2015-44434      Zone K3               300   \n",
              "2015-12-12 09:02:00  RI-2015-45103      Zone X4               500   \n",
              "2015-12-16 02:38:00  RI-2015-45507      Zone K3               200   \n",
              "2015-12-30 01:37:00  RI-2015-46870      Zone X4               500   \n",
              "\n",
              "                    driver_gender  driver_age_raw  driver_age driver_race_raw  \\\n",
              "stop_datetime                                                                   \n",
              "2005-02-09 03:05:00             M          1976.0        29.0               W   \n",
              "2005-08-28 01:00:00             M          1979.0        26.0               W   \n",
              "2005-10-01 16:20:00             M          1958.0        47.0               W   \n",
              "2005-10-06 21:35:00             M          1966.0        39.0               W   \n",
              "2005-10-07 11:33:00             M          1980.0        25.0               W   \n",
              "...                           ...             ...         ...             ...   \n",
              "2015-11-27 19:49:00             M          1986.0        29.0               W   \n",
              "2015-12-06 10:33:00             M          1993.0        22.0               L   \n",
              "2015-12-12 09:02:00             M          1982.0        33.0               W   \n",
              "2015-12-16 02:38:00             M          1988.0        27.0               L   \n",
              "2015-12-30 01:37:00             M          1979.0        36.0               W   \n",
              "\n",
              "                    driver_race                   violation_raw  \\\n",
              "stop_datetime                                                     \n",
              "2005-02-09 03:05:00       White          Registration Violation   \n",
              "2005-08-28 01:00:00       White         Other Traffic Violation   \n",
              "2005-10-01 16:20:00       White                        Speeding   \n",
              "2005-10-06 21:35:00       White                        Speeding   \n",
              "2005-10-07 11:33:00       White  Equipment/Inspection Violation   \n",
              "...                         ...                             ...   \n",
              "2015-11-27 19:49:00       White                        Speeding   \n",
              "2015-12-06 10:33:00    Hispanic                        Speeding   \n",
              "2015-12-12 09:02:00       White         Other Traffic Violation   \n",
              "2015-12-16 02:38:00    Hispanic                        Speeding   \n",
              "2015-12-30 01:37:00       White          Registration Violation   \n",
              "\n",
              "                               violation  ...  \\\n",
              "stop_datetime                             ...   \n",
              "2005-02-09 03:05:00  Registration/plates  ...   \n",
              "2005-08-28 01:00:00     Moving violation  ...   \n",
              "2005-10-01 16:20:00             Speeding  ...   \n",
              "2005-10-06 21:35:00             Speeding  ...   \n",
              "2005-10-07 11:33:00            Equipment  ...   \n",
              "...                                  ...  ...   \n",
              "2015-11-27 19:49:00             Speeding  ...   \n",
              "2015-12-06 10:33:00             Speeding  ...   \n",
              "2015-12-12 09:02:00     Moving violation  ...   \n",
              "2015-12-16 02:38:00             Speeding  ...   \n",
              "2015-12-30 01:37:00  Registration/plates  ...   \n",
              "\n",
              "                                                       search_type_raw  \\\n",
              "stop_datetime                                                            \n",
              "2005-02-09 03:05:00                         Probable Cause,Terry Frisk   \n",
              "2005-08-28 01:00:00                     Incident to Arrest,Terry Frisk   \n",
              "2005-10-01 16:20:00                   Reasonable Suspicion,Terry Frisk   \n",
              "2005-10-06 21:35:00                                        Terry Frisk   \n",
              "2005-10-07 11:33:00                                        Terry Frisk   \n",
              "...                                                                ...   \n",
              "2015-11-27 19:49:00                                        Terry Frisk   \n",
              "2015-12-06 10:33:00                                        Terry Frisk   \n",
              "2015-12-12 09:02:00                                        Terry Frisk   \n",
              "2015-12-16 02:38:00  Incident to Arrest,Odor of Drugs/Alcohol,Terry...   \n",
              "2015-12-30 01:37:00                                        Terry Frisk   \n",
              "\n",
              "                                                           search_type  \\\n",
              "stop_datetime                                                            \n",
              "2005-02-09 03:05:00                    Probable Cause,Protective Frisk   \n",
              "2005-08-28 01:00:00                Incident to Arrest,Protective Frisk   \n",
              "2005-10-01 16:20:00              Protective Frisk,Reasonable Suspicion   \n",
              "2005-10-06 21:35:00                                   Protective Frisk   \n",
              "2005-10-07 11:33:00                                   Protective Frisk   \n",
              "...                                                                ...   \n",
              "2015-11-27 19:49:00                                   Protective Frisk   \n",
              "2015-12-06 10:33:00                                   Protective Frisk   \n",
              "2015-12-12 09:02:00                                   Protective Frisk   \n",
              "2015-12-16 02:38:00  Incident to Arrest,Probable Cause,Protective F...   \n",
              "2015-12-30 01:37:00                                   Protective Frisk   \n",
              "\n",
              "                    contraband_found   stop_outcome is_arrested  \\\n",
              "stop_datetime                                                     \n",
              "2005-02-09 03:05:00            False       Citation       False   \n",
              "2005-08-28 01:00:00            False  Arrest Driver        True   \n",
              "2005-10-01 16:20:00             True       Citation       False   \n",
              "2005-10-06 21:35:00            False       Citation       False   \n",
              "2005-10-07 11:33:00            False  Arrest Driver        True   \n",
              "...                              ...            ...         ...   \n",
              "2015-11-27 19:49:00            False        Warning       False   \n",
              "2015-12-06 10:33:00             True       Citation       False   \n",
              "2015-12-12 09:02:00            False       Citation       False   \n",
              "2015-12-16 02:38:00             True  Arrest Driver        True   \n",
              "2015-12-30 01:37:00            False       Citation       False   \n",
              "\n",
              "                     stop_duration out_of_state drugs_related_stop  district  \\\n",
              "stop_datetime                                                                  \n",
              "2005-02-09 03:05:00       0-15 Min        False              False   Zone X4   \n",
              "2005-08-28 01:00:00      16-30 Min         True              False   Zone X1   \n",
              "2005-10-01 16:20:00      16-30 Min        False              False   Zone K1   \n",
              "2005-10-06 21:35:00       0-15 Min        False              False   Zone X4   \n",
              "2005-10-07 11:33:00      16-30 Min        False              False   Zone X4   \n",
              "...                            ...          ...                ...       ...   \n",
              "2015-11-27 19:49:00       0-15 Min         True              False   Zone X3   \n",
              "2015-12-06 10:33:00      16-30 Min         True               True   Zone K3   \n",
              "2015-12-12 09:02:00      16-30 Min         True              False   Zone X4   \n",
              "2015-12-16 02:38:00        30+ Min        False               True   Zone K3   \n",
              "2015-12-30 01:37:00       0-15 Min        False              False   Zone X4   \n",
              "\n",
              "                    frisk  \n",
              "stop_datetime              \n",
              "2005-02-09 03:05:00  True  \n",
              "2005-08-28 01:00:00  True  \n",
              "2005-10-01 16:20:00  True  \n",
              "2005-10-06 21:35:00  True  \n",
              "2005-10-07 11:33:00  True  \n",
              "...                   ...  \n",
              "2015-11-27 19:49:00  True  \n",
              "2015-12-06 10:33:00  True  \n",
              "2015-12-12 09:02:00  True  \n",
              "2015-12-16 02:38:00  True  \n",
              "2015-12-30 01:37:00  True  \n",
              "\n",
              "[1598 rows x 21 columns]"
            ]
          },
          "metadata": {
            "tags": []
          },
          "execution_count": 73
        }
      ]
    },
    {
      "cell_type": "code",
      "metadata": {
        "id": "NbEEbuobY5oj"
      },
      "source": [
        "searched = ri[ri.search_conducted]"
      ],
      "execution_count": null,
      "outputs": []
    },
    {
      "cell_type": "code",
      "metadata": {
        "id": "delxCjzFY5oj",
        "outputId": "4150af96-8828-407c-c58f-6db28697939d"
      },
      "source": [
        "searched"
      ],
      "execution_count": null,
      "outputs": [
        {
          "output_type": "execute_result",
          "data": {
            "text/html": [
              "<div>\n",
              "<style scoped>\n",
              "    .dataframe tbody tr th:only-of-type {\n",
              "        vertical-align: middle;\n",
              "    }\n",
              "\n",
              "    .dataframe tbody tr th {\n",
              "        vertical-align: top;\n",
              "    }\n",
              "\n",
              "    .dataframe thead th {\n",
              "        text-align: right;\n",
              "    }\n",
              "</style>\n",
              "<table border=\"1\" class=\"dataframe\">\n",
              "  <thead>\n",
              "    <tr style=\"text-align: right;\">\n",
              "      <th></th>\n",
              "      <th>id</th>\n",
              "      <th>location_raw</th>\n",
              "      <th>police_department</th>\n",
              "      <th>driver_gender</th>\n",
              "      <th>driver_age_raw</th>\n",
              "      <th>driver_age</th>\n",
              "      <th>driver_race_raw</th>\n",
              "      <th>driver_race</th>\n",
              "      <th>violation_raw</th>\n",
              "      <th>violation</th>\n",
              "      <th>...</th>\n",
              "      <th>search_type_raw</th>\n",
              "      <th>search_type</th>\n",
              "      <th>contraband_found</th>\n",
              "      <th>stop_outcome</th>\n",
              "      <th>is_arrested</th>\n",
              "      <th>stop_duration</th>\n",
              "      <th>out_of_state</th>\n",
              "      <th>drugs_related_stop</th>\n",
              "      <th>district</th>\n",
              "      <th>frisk</th>\n",
              "    </tr>\n",
              "    <tr>\n",
              "      <th>stop_datetime</th>\n",
              "      <th></th>\n",
              "      <th></th>\n",
              "      <th></th>\n",
              "      <th></th>\n",
              "      <th></th>\n",
              "      <th></th>\n",
              "      <th></th>\n",
              "      <th></th>\n",
              "      <th></th>\n",
              "      <th></th>\n",
              "      <th></th>\n",
              "      <th></th>\n",
              "      <th></th>\n",
              "      <th></th>\n",
              "      <th></th>\n",
              "      <th></th>\n",
              "      <th></th>\n",
              "      <th></th>\n",
              "      <th></th>\n",
              "      <th></th>\n",
              "      <th></th>\n",
              "    </tr>\n",
              "  </thead>\n",
              "  <tbody>\n",
              "    <tr>\n",
              "      <th>2005-01-24 20:32:00</th>\n",
              "      <td>RI-2005-00010</td>\n",
              "      <td>Zone K1</td>\n",
              "      <td>600</td>\n",
              "      <td>M</td>\n",
              "      <td>1987.0</td>\n",
              "      <td>18.0</td>\n",
              "      <td>W</td>\n",
              "      <td>White</td>\n",
              "      <td>Speeding</td>\n",
              "      <td>Speeding</td>\n",
              "      <td>...</td>\n",
              "      <td>Probable Cause</td>\n",
              "      <td>Probable Cause</td>\n",
              "      <td>True</td>\n",
              "      <td>Citation</td>\n",
              "      <td>False</td>\n",
              "      <td>0-15 Min</td>\n",
              "      <td>True</td>\n",
              "      <td>True</td>\n",
              "      <td>Zone K1</td>\n",
              "      <td>False</td>\n",
              "    </tr>\n",
              "    <tr>\n",
              "      <th>2005-02-09 03:05:00</th>\n",
              "      <td>RI-2005-00011</td>\n",
              "      <td>Zone X4</td>\n",
              "      <td>500</td>\n",
              "      <td>M</td>\n",
              "      <td>1976.0</td>\n",
              "      <td>29.0</td>\n",
              "      <td>W</td>\n",
              "      <td>White</td>\n",
              "      <td>Registration Violation</td>\n",
              "      <td>Registration/plates</td>\n",
              "      <td>...</td>\n",
              "      <td>Probable Cause,Terry Frisk</td>\n",
              "      <td>Probable Cause,Protective Frisk</td>\n",
              "      <td>False</td>\n",
              "      <td>Citation</td>\n",
              "      <td>False</td>\n",
              "      <td>0-15 Min</td>\n",
              "      <td>False</td>\n",
              "      <td>False</td>\n",
              "      <td>Zone X4</td>\n",
              "      <td>True</td>\n",
              "    </tr>\n",
              "    <tr>\n",
              "      <th>2005-08-28 01:00:00</th>\n",
              "      <td>RI-2005-00084</td>\n",
              "      <td>Zone X1</td>\n",
              "      <td>0</td>\n",
              "      <td>M</td>\n",
              "      <td>1979.0</td>\n",
              "      <td>26.0</td>\n",
              "      <td>W</td>\n",
              "      <td>White</td>\n",
              "      <td>Other Traffic Violation</td>\n",
              "      <td>Moving violation</td>\n",
              "      <td>...</td>\n",
              "      <td>Incident to Arrest,Terry Frisk</td>\n",
              "      <td>Incident to Arrest,Protective Frisk</td>\n",
              "      <td>False</td>\n",
              "      <td>Arrest Driver</td>\n",
              "      <td>True</td>\n",
              "      <td>16-30 Min</td>\n",
              "      <td>True</td>\n",
              "      <td>False</td>\n",
              "      <td>Zone X1</td>\n",
              "      <td>True</td>\n",
              "    </tr>\n",
              "    <tr>\n",
              "      <th>2005-09-15 02:20:00</th>\n",
              "      <td>RI-2005-00094</td>\n",
              "      <td>Zone X4</td>\n",
              "      <td>500</td>\n",
              "      <td>M</td>\n",
              "      <td>1988.0</td>\n",
              "      <td>17.0</td>\n",
              "      <td>W</td>\n",
              "      <td>White</td>\n",
              "      <td>Other Traffic Violation</td>\n",
              "      <td>Moving violation</td>\n",
              "      <td>...</td>\n",
              "      <td>Incident to Arrest</td>\n",
              "      <td>Incident to Arrest</td>\n",
              "      <td>False</td>\n",
              "      <td>Arrest Driver</td>\n",
              "      <td>True</td>\n",
              "      <td>16-30 Min</td>\n",
              "      <td>False</td>\n",
              "      <td>False</td>\n",
              "      <td>Zone X4</td>\n",
              "      <td>False</td>\n",
              "    </tr>\n",
              "    <tr>\n",
              "      <th>2005-09-24 02:20:00</th>\n",
              "      <td>RI-2005-00115</td>\n",
              "      <td>Zone K3</td>\n",
              "      <td>300</td>\n",
              "      <td>M</td>\n",
              "      <td>1987.0</td>\n",
              "      <td>18.0</td>\n",
              "      <td>W</td>\n",
              "      <td>White</td>\n",
              "      <td>Other Traffic Violation</td>\n",
              "      <td>Moving violation</td>\n",
              "      <td>...</td>\n",
              "      <td>Incident to Arrest</td>\n",
              "      <td>Incident to Arrest</td>\n",
              "      <td>False</td>\n",
              "      <td>Arrest Driver</td>\n",
              "      <td>True</td>\n",
              "      <td>16-30 Min</td>\n",
              "      <td>False</td>\n",
              "      <td>False</td>\n",
              "      <td>Zone K3</td>\n",
              "      <td>False</td>\n",
              "    </tr>\n",
              "    <tr>\n",
              "      <th>...</th>\n",
              "      <td>...</td>\n",
              "      <td>...</td>\n",
              "      <td>...</td>\n",
              "      <td>...</td>\n",
              "      <td>...</td>\n",
              "      <td>...</td>\n",
              "      <td>...</td>\n",
              "      <td>...</td>\n",
              "      <td>...</td>\n",
              "      <td>...</td>\n",
              "      <td>...</td>\n",
              "      <td>...</td>\n",
              "      <td>...</td>\n",
              "      <td>...</td>\n",
              "      <td>...</td>\n",
              "      <td>...</td>\n",
              "      <td>...</td>\n",
              "      <td>...</td>\n",
              "      <td>...</td>\n",
              "      <td>...</td>\n",
              "      <td>...</td>\n",
              "    </tr>\n",
              "    <tr>\n",
              "      <th>2015-12-28 11:05:00</th>\n",
              "      <td>RI-2015-46706</td>\n",
              "      <td>Zone K3</td>\n",
              "      <td>300</td>\n",
              "      <td>F</td>\n",
              "      <td>1996.0</td>\n",
              "      <td>19.0</td>\n",
              "      <td>W</td>\n",
              "      <td>White</td>\n",
              "      <td>APB</td>\n",
              "      <td>Other</td>\n",
              "      <td>...</td>\n",
              "      <td>Incident to Arrest</td>\n",
              "      <td>Incident to Arrest</td>\n",
              "      <td>True</td>\n",
              "      <td>Citation</td>\n",
              "      <td>False</td>\n",
              "      <td>16-30 Min</td>\n",
              "      <td>True</td>\n",
              "      <td>True</td>\n",
              "      <td>Zone K3</td>\n",
              "      <td>False</td>\n",
              "    </tr>\n",
              "    <tr>\n",
              "      <th>2015-12-30 01:37:00</th>\n",
              "      <td>RI-2015-46870</td>\n",
              "      <td>Zone X4</td>\n",
              "      <td>500</td>\n",
              "      <td>M</td>\n",
              "      <td>1979.0</td>\n",
              "      <td>36.0</td>\n",
              "      <td>W</td>\n",
              "      <td>White</td>\n",
              "      <td>Registration Violation</td>\n",
              "      <td>Registration/plates</td>\n",
              "      <td>...</td>\n",
              "      <td>Terry Frisk</td>\n",
              "      <td>Protective Frisk</td>\n",
              "      <td>False</td>\n",
              "      <td>Citation</td>\n",
              "      <td>False</td>\n",
              "      <td>0-15 Min</td>\n",
              "      <td>False</td>\n",
              "      <td>False</td>\n",
              "      <td>Zone X4</td>\n",
              "      <td>True</td>\n",
              "    </tr>\n",
              "    <tr>\n",
              "      <th>2015-12-30 08:51:00</th>\n",
              "      <td>RI-2015-46903</td>\n",
              "      <td>Zone K3</td>\n",
              "      <td>300</td>\n",
              "      <td>F</td>\n",
              "      <td>1987.0</td>\n",
              "      <td>28.0</td>\n",
              "      <td>H</td>\n",
              "      <td>Hispanic</td>\n",
              "      <td>Speeding</td>\n",
              "      <td>Speeding</td>\n",
              "      <td>...</td>\n",
              "      <td>Probable Cause,Reasonable Suspicion</td>\n",
              "      <td>Probable Cause,Reasonable Suspicion</td>\n",
              "      <td>True</td>\n",
              "      <td>Citation</td>\n",
              "      <td>False</td>\n",
              "      <td>30+ Min</td>\n",
              "      <td>True</td>\n",
              "      <td>True</td>\n",
              "      <td>Zone K3</td>\n",
              "      <td>False</td>\n",
              "    </tr>\n",
              "    <tr>\n",
              "      <th>2015-12-30 13:15:00</th>\n",
              "      <td>RI-2015-46934</td>\n",
              "      <td>Zone X3</td>\n",
              "      <td>200</td>\n",
              "      <td>M</td>\n",
              "      <td>1992.0</td>\n",
              "      <td>23.0</td>\n",
              "      <td>W</td>\n",
              "      <td>White</td>\n",
              "      <td>Seatbelt Violation</td>\n",
              "      <td>Seat belt</td>\n",
              "      <td>...</td>\n",
              "      <td>Incident to Arrest</td>\n",
              "      <td>Incident to Arrest</td>\n",
              "      <td>False</td>\n",
              "      <td>Arrest Passenger</td>\n",
              "      <td>True</td>\n",
              "      <td>16-30 Min</td>\n",
              "      <td>True</td>\n",
              "      <td>False</td>\n",
              "      <td>Zone X3</td>\n",
              "      <td>False</td>\n",
              "    </tr>\n",
              "    <tr>\n",
              "      <th>2015-12-30 15:58:00</th>\n",
              "      <td>RI-2015-46950</td>\n",
              "      <td>Zone K2</td>\n",
              "      <td>900</td>\n",
              "      <td>M</td>\n",
              "      <td>1976.0</td>\n",
              "      <td>39.0</td>\n",
              "      <td>W</td>\n",
              "      <td>White</td>\n",
              "      <td>Other Traffic Violation</td>\n",
              "      <td>Moving violation</td>\n",
              "      <td>...</td>\n",
              "      <td>Odor of Drugs/Alcohol,Probable Cause,Reasonabl...</td>\n",
              "      <td>Probable Cause,Reasonable Suspicion</td>\n",
              "      <td>False</td>\n",
              "      <td>Citation</td>\n",
              "      <td>False</td>\n",
              "      <td>30+ Min</td>\n",
              "      <td>True</td>\n",
              "      <td>False</td>\n",
              "      <td>Zone K2</td>\n",
              "      <td>False</td>\n",
              "    </tr>\n",
              "  </tbody>\n",
              "</table>\n",
              "<p>17762 rows × 21 columns</p>\n",
              "</div>"
            ],
            "text/plain": [
              "                                id location_raw police_department  \\\n",
              "stop_datetime                                                       \n",
              "2005-01-24 20:32:00  RI-2005-00010      Zone K1               600   \n",
              "2005-02-09 03:05:00  RI-2005-00011      Zone X4               500   \n",
              "2005-08-28 01:00:00  RI-2005-00084      Zone X1                 0   \n",
              "2005-09-15 02:20:00  RI-2005-00094      Zone X4               500   \n",
              "2005-09-24 02:20:00  RI-2005-00115      Zone K3               300   \n",
              "...                            ...          ...               ...   \n",
              "2015-12-28 11:05:00  RI-2015-46706      Zone K3               300   \n",
              "2015-12-30 01:37:00  RI-2015-46870      Zone X4               500   \n",
              "2015-12-30 08:51:00  RI-2015-46903      Zone K3               300   \n",
              "2015-12-30 13:15:00  RI-2015-46934      Zone X3               200   \n",
              "2015-12-30 15:58:00  RI-2015-46950      Zone K2               900   \n",
              "\n",
              "                    driver_gender  driver_age_raw  driver_age driver_race_raw  \\\n",
              "stop_datetime                                                                   \n",
              "2005-01-24 20:32:00             M          1987.0        18.0               W   \n",
              "2005-02-09 03:05:00             M          1976.0        29.0               W   \n",
              "2005-08-28 01:00:00             M          1979.0        26.0               W   \n",
              "2005-09-15 02:20:00             M          1988.0        17.0               W   \n",
              "2005-09-24 02:20:00             M          1987.0        18.0               W   \n",
              "...                           ...             ...         ...             ...   \n",
              "2015-12-28 11:05:00             F          1996.0        19.0               W   \n",
              "2015-12-30 01:37:00             M          1979.0        36.0               W   \n",
              "2015-12-30 08:51:00             F          1987.0        28.0               H   \n",
              "2015-12-30 13:15:00             M          1992.0        23.0               W   \n",
              "2015-12-30 15:58:00             M          1976.0        39.0               W   \n",
              "\n",
              "                    driver_race            violation_raw            violation  \\\n",
              "stop_datetime                                                                   \n",
              "2005-01-24 20:32:00       White                 Speeding             Speeding   \n",
              "2005-02-09 03:05:00       White   Registration Violation  Registration/plates   \n",
              "2005-08-28 01:00:00       White  Other Traffic Violation     Moving violation   \n",
              "2005-09-15 02:20:00       White  Other Traffic Violation     Moving violation   \n",
              "2005-09-24 02:20:00       White  Other Traffic Violation     Moving violation   \n",
              "...                         ...                      ...                  ...   \n",
              "2015-12-28 11:05:00       White                      APB                Other   \n",
              "2015-12-30 01:37:00       White   Registration Violation  Registration/plates   \n",
              "2015-12-30 08:51:00    Hispanic                 Speeding             Speeding   \n",
              "2015-12-30 13:15:00       White       Seatbelt Violation            Seat belt   \n",
              "2015-12-30 15:58:00       White  Other Traffic Violation     Moving violation   \n",
              "\n",
              "                     ...                                    search_type_raw  \\\n",
              "stop_datetime        ...                                                      \n",
              "2005-01-24 20:32:00  ...                                     Probable Cause   \n",
              "2005-02-09 03:05:00  ...                         Probable Cause,Terry Frisk   \n",
              "2005-08-28 01:00:00  ...                     Incident to Arrest,Terry Frisk   \n",
              "2005-09-15 02:20:00  ...                                 Incident to Arrest   \n",
              "2005-09-24 02:20:00  ...                                 Incident to Arrest   \n",
              "...                  ...                                                ...   \n",
              "2015-12-28 11:05:00  ...                                 Incident to Arrest   \n",
              "2015-12-30 01:37:00  ...                                        Terry Frisk   \n",
              "2015-12-30 08:51:00  ...                Probable Cause,Reasonable Suspicion   \n",
              "2015-12-30 13:15:00  ...                                 Incident to Arrest   \n",
              "2015-12-30 15:58:00  ...  Odor of Drugs/Alcohol,Probable Cause,Reasonabl...   \n",
              "\n",
              "                                             search_type contraband_found  \\\n",
              "stop_datetime                                                               \n",
              "2005-01-24 20:32:00                       Probable Cause             True   \n",
              "2005-02-09 03:05:00      Probable Cause,Protective Frisk            False   \n",
              "2005-08-28 01:00:00  Incident to Arrest,Protective Frisk            False   \n",
              "2005-09-15 02:20:00                   Incident to Arrest            False   \n",
              "2005-09-24 02:20:00                   Incident to Arrest            False   \n",
              "...                                                  ...              ...   \n",
              "2015-12-28 11:05:00                   Incident to Arrest             True   \n",
              "2015-12-30 01:37:00                     Protective Frisk            False   \n",
              "2015-12-30 08:51:00  Probable Cause,Reasonable Suspicion             True   \n",
              "2015-12-30 13:15:00                   Incident to Arrest            False   \n",
              "2015-12-30 15:58:00  Probable Cause,Reasonable Suspicion            False   \n",
              "\n",
              "                         stop_outcome is_arrested  stop_duration out_of_state  \\\n",
              "stop_datetime                                                                   \n",
              "2005-01-24 20:32:00          Citation       False       0-15 Min         True   \n",
              "2005-02-09 03:05:00          Citation       False       0-15 Min        False   \n",
              "2005-08-28 01:00:00     Arrest Driver        True      16-30 Min         True   \n",
              "2005-09-15 02:20:00     Arrest Driver        True      16-30 Min        False   \n",
              "2005-09-24 02:20:00     Arrest Driver        True      16-30 Min        False   \n",
              "...                               ...         ...            ...          ...   \n",
              "2015-12-28 11:05:00          Citation       False      16-30 Min         True   \n",
              "2015-12-30 01:37:00          Citation       False       0-15 Min        False   \n",
              "2015-12-30 08:51:00          Citation       False        30+ Min         True   \n",
              "2015-12-30 13:15:00  Arrest Passenger        True      16-30 Min         True   \n",
              "2015-12-30 15:58:00          Citation       False        30+ Min         True   \n",
              "\n",
              "                    drugs_related_stop  district  frisk  \n",
              "stop_datetime                                            \n",
              "2005-01-24 20:32:00               True   Zone K1  False  \n",
              "2005-02-09 03:05:00              False   Zone X4   True  \n",
              "2005-08-28 01:00:00              False   Zone X1   True  \n",
              "2005-09-15 02:20:00              False   Zone X4  False  \n",
              "2005-09-24 02:20:00              False   Zone K3  False  \n",
              "...                                ...       ...    ...  \n",
              "2015-12-28 11:05:00               True   Zone K3  False  \n",
              "2015-12-30 01:37:00              False   Zone X4   True  \n",
              "2015-12-30 08:51:00               True   Zone K3  False  \n",
              "2015-12-30 13:15:00              False   Zone X3  False  \n",
              "2015-12-30 15:58:00              False   Zone K2  False  \n",
              "\n",
              "[17762 rows x 21 columns]"
            ]
          },
          "metadata": {
            "tags": []
          },
          "execution_count": 75
        }
      ]
    },
    {
      "cell_type": "code",
      "metadata": {
        "id": "L4zVVHpzY5ok",
        "outputId": "89720452-e97e-4a89-8fc5-f396861d3764"
      },
      "source": [
        "searched.frisk.mean()"
      ],
      "execution_count": null,
      "outputs": [
        {
          "output_type": "execute_result",
          "data": {
            "text/plain": [
              "0.08996734601959239"
            ]
          },
          "metadata": {
            "tags": []
          },
          "execution_count": 76
        }
      ]
    },
    {
      "cell_type": "code",
      "metadata": {
        "id": "RrUjPjDMY5ol",
        "outputId": "6d89c590-4f09-43c5-f670-d95178fd61f3"
      },
      "source": [
        "searched.groupby(\"driver_gender\").frisk.mean()"
      ],
      "execution_count": null,
      "outputs": [
        {
          "output_type": "execute_result",
          "data": {
            "text/plain": [
              "driver_gender\n",
              "F    0.066694\n",
              "M    0.093707\n",
              "Name: frisk, dtype: float64"
            ]
          },
          "metadata": {
            "tags": []
          },
          "execution_count": 77
        }
      ]
    },
    {
      "cell_type": "code",
      "metadata": {
        "id": "myiMSS4oY5ol",
        "outputId": "37af12b8-be73-43a9-a124-37ab9e2451db"
      },
      "source": [
        "ri.is_arrested.mean()"
      ],
      "execution_count": null,
      "outputs": [
        {
          "output_type": "execute_result",
          "data": {
            "text/plain": [
              "0.03454755048024903"
            ]
          },
          "metadata": {
            "tags": []
          },
          "execution_count": 78
        }
      ]
    },
    {
      "cell_type": "code",
      "metadata": {
        "id": "KF6a2UzHY5om",
        "outputId": "a6c08607-9209-43ec-90d3-5993ee4ae1fa"
      },
      "source": [
        "ri.index.hour"
      ],
      "execution_count": null,
      "outputs": [
        {
          "output_type": "execute_result",
          "data": {
            "text/plain": [
              "Int64Index([ 1, 20, 12,  1,  8,  8, 17, 23, 20,  3,\n",
              "            ...\n",
              "            22, 22, 22, 22, 22, 22, 22, 23, 23, 23],\n",
              "           dtype='int64', name='stop_datetime', length=480584)"
            ]
          },
          "metadata": {
            "tags": []
          },
          "execution_count": 79
        }
      ]
    },
    {
      "cell_type": "code",
      "metadata": {
        "id": "DWknr4JmY5on",
        "outputId": "cf9146e6-1a78-434a-ad04-18b4f272e443"
      },
      "source": [
        "ri.index"
      ],
      "execution_count": null,
      "outputs": [
        {
          "output_type": "execute_result",
          "data": {
            "text/plain": [
              "DatetimeIndex(['2005-01-02 01:55:00', '2005-01-02 20:30:00',\n",
              "               '2005-01-04 12:55:00', '2005-01-06 01:30:00',\n",
              "               '2005-01-12 08:05:00', '2005-01-18 08:15:00',\n",
              "               '2005-01-18 17:13:00', '2005-01-23 23:15:00',\n",
              "               '2005-01-24 20:32:00', '2005-02-09 03:05:00',\n",
              "               ...\n",
              "               '2015-12-31 22:10:00', '2015-12-31 22:14:00',\n",
              "               '2015-12-31 22:26:00', '2015-12-31 22:38:00',\n",
              "               '2015-12-31 22:39:00', '2015-12-31 22:46:00',\n",
              "               '2015-12-31 22:47:00', '2015-12-31 23:08:00',\n",
              "               '2015-12-31 23:44:00', '2015-12-31 23:48:00'],\n",
              "              dtype='datetime64[ns]', name='stop_datetime', length=480584, freq=None)"
            ]
          },
          "metadata": {
            "tags": []
          },
          "execution_count": 80
        }
      ]
    },
    {
      "cell_type": "code",
      "metadata": {
        "id": "ucV829IbY5oo",
        "outputId": "0c50df7f-859d-4955-87bf-36a64be38a42"
      },
      "source": [
        "ri.groupby(ri.index.hour).is_arrested.mean()"
      ],
      "execution_count": null,
      "outputs": [
        {
          "output_type": "execute_result",
          "data": {
            "text/plain": [
              "stop_datetime\n",
              "0     0.052151\n",
              "1     0.067127\n",
              "2     0.061067\n",
              "3     0.052613\n",
              "4     0.053897\n",
              "5     0.032657\n",
              "6     0.012949\n",
              "7     0.013829\n",
              "8     0.019717\n",
              "9     0.024699\n",
              "10    0.025583\n",
              "11    0.027078\n",
              "12    0.031361\n",
              "13    0.030250\n",
              "14    0.031531\n",
              "15    0.032125\n",
              "16    0.033519\n",
              "17    0.038989\n",
              "18    0.039902\n",
              "19    0.031366\n",
              "20    0.039292\n",
              "21    0.059956\n",
              "22    0.043980\n",
              "23    0.045087\n",
              "Name: is_arrested, dtype: float64"
            ]
          },
          "metadata": {
            "tags": []
          },
          "execution_count": 81
        }
      ]
    },
    {
      "cell_type": "code",
      "metadata": {
        "id": "_r_8QmF4Y5op"
      },
      "source": [
        "hourly_arrest_rate = ri.groupby(ri.index.hour).is_arrested.mean()"
      ],
      "execution_count": null,
      "outputs": []
    },
    {
      "cell_type": "code",
      "metadata": {
        "id": "rvRaphItY5op"
      },
      "source": [
        "ri.date_time.head()"
      ],
      "execution_count": null,
      "outputs": []
    },
    {
      "cell_type": "code",
      "metadata": {
        "id": "Vg9EMFPDY5op"
      },
      "source": [
        "import datetime as dt"
      ],
      "execution_count": null,
      "outputs": []
    },
    {
      "cell_type": "code",
      "metadata": {
        "id": "hK-VWXUxY5o1"
      },
      "source": [
        "#  ri.date_time.dt.hour.values"
      ],
      "execution_count": null,
      "outputs": []
    },
    {
      "cell_type": "code",
      "metadata": {
        "id": "beHLl0rvY5o2"
      },
      "source": [
        "# ri.date_time.dt.weekday"
      ],
      "execution_count": null,
      "outputs": []
    },
    {
      "cell_type": "code",
      "metadata": {
        "id": "ZwnYUYAZY5o2"
      },
      "source": [
        "# ri.groupby(ri.date_time.dt.hour).is_arrested.mean()"
      ],
      "execution_count": null,
      "outputs": []
    },
    {
      "cell_type": "code",
      "metadata": {
        "id": "c0exe3xAY5o3"
      },
      "source": [
        "import matplotlib.pyplot as plt"
      ],
      "execution_count": null,
      "outputs": []
    },
    {
      "cell_type": "code",
      "metadata": {
        "id": "VVoXFsLsY5o3",
        "outputId": "ca319522-64be-400e-98d6-ba0e993fc71d"
      },
      "source": [
        "hourly_arrest_rate.plot()\n",
        "\n",
        "plt.xlabel(\"Hour\")\n",
        "plt.ylabel(\"Arrest Rate\")\n",
        "plt.title(\"Arrest Rate by Time of Day\")\n",
        "\n",
        "plt.show()"
      ],
      "execution_count": null,
      "outputs": [
        {
          "output_type": "display_data",
          "data": {
            "image/png": "[encoded data removed]",
            "text/plain": [
              "<Figure size 432x288 with 1 Axes>"
            ]
          },
          "metadata": {
            "tags": [],
            "needs_background": "light"
          }
        }
      ]
    },
    {
      "cell_type": "code",
      "metadata": {
        "id": "itkK1X7NY5o4",
        "outputId": "4f827653-793e-4b41-a6e1-8a64fcf497dd"
      },
      "source": [
        "ri.drugs_related_stop.value_counts(dropna = False)"
      ],
      "execution_count": null,
      "outputs": [
        {
          "output_type": "execute_result",
          "data": {
            "text/plain": [
              "False    475819\n",
              "True       4765\n",
              "Name: drugs_related_stop, dtype: int64"
            ]
          },
          "metadata": {
            "tags": []
          },
          "execution_count": 95
        }
      ]
    },
    {
      "cell_type": "code",
      "metadata": {
        "id": "o0miQfWLY5o5",
        "outputId": "2cfe9056-843c-44ef-dbea-56bcf473a70d"
      },
      "source": [
        "ri.drugs_related_stop.dtypes"
      ],
      "execution_count": null,
      "outputs": [
        {
          "output_type": "execute_result",
          "data": {
            "text/plain": [
              "dtype('bool')"
            ]
          },
          "metadata": {
            "tags": []
          },
          "execution_count": 96
        }
      ]
    },
    {
      "cell_type": "code",
      "metadata": {
        "id": "bXHJYK0iY5o6",
        "outputId": "c319aeae-62b1-45e6-e8ab-b9625074cd6d"
      },
      "source": [
        "ri.groupby(ri.index.year).drugs_related_stop.mean()"
      ],
      "execution_count": null,
      "outputs": [
        {
          "output_type": "execute_result",
          "data": {
            "text/plain": [
              "stop_datetime\n",
              "2005    0.008038\n",
              "2006    0.006624\n",
              "2007    0.008437\n",
              "2008    0.007549\n",
              "2009    0.010447\n",
              "2010    0.010142\n",
              "2011    0.011400\n",
              "2012    0.010343\n",
              "2013    0.011879\n",
              "2014    0.013176\n",
              "2015    0.010598\n",
              "Name: drugs_related_stop, dtype: float64"
            ]
          },
          "metadata": {
            "tags": []
          },
          "execution_count": 97
        }
      ]
    },
    {
      "cell_type": "code",
      "metadata": {
        "id": "Kg5fpTdpY5o7",
        "outputId": "d7c3abfd-0192-4e64-ea3c-cf8702bd3df0"
      },
      "source": [
        "ri.drugs_related_stop.resample(\"A\").mean()"
      ],
      "execution_count": null,
      "outputs": [
        {
          "output_type": "execute_result",
          "data": {
            "text/plain": [
              "stop_datetime\n",
              "2005-12-31    0.008038\n",
              "2006-12-31    0.006624\n",
              "2007-12-31    0.008437\n",
              "2008-12-31    0.007549\n",
              "2009-12-31    0.010447\n",
              "2010-12-31    0.010142\n",
              "2011-12-31    0.011400\n",
              "2012-12-31    0.010343\n",
              "2013-12-31    0.011879\n",
              "2014-12-31    0.013176\n",
              "2015-12-31    0.010598\n",
              "Freq: A-DEC, Name: drugs_related_stop, dtype: float64"
            ]
          },
          "metadata": {
            "tags": []
          },
          "execution_count": 98
        }
      ]
    },
    {
      "cell_type": "code",
      "metadata": {
        "id": "BwneEPTRY5o8",
        "outputId": "3bd72b52-0ba5-48fa-9eb7-1ec7e6bcabf6"
      },
      "source": [
        "ri.drugs_related_stop.resample(\"Q\").mean()"
      ],
      "execution_count": null,
      "outputs": [
        {
          "output_type": "execute_result",
          "data": {
            "text/plain": [
              "stop_datetime\n",
              "2005-03-31    0.038462\n",
              "2005-06-30    0.000000\n",
              "2005-09-30    0.000000\n",
              "2005-12-31    0.008054\n",
              "2006-03-31    0.006718\n",
              "2006-06-30    0.004827\n",
              "2006-09-30    0.007578\n",
              "2006-12-31    0.007396\n",
              "2007-03-31    0.005633\n",
              "2007-06-30    0.008159\n",
              "2007-09-30    0.011103\n",
              "2007-12-31    0.009431\n",
              "2008-03-31    0.008689\n",
              "2008-06-30    0.007828\n",
              "2008-09-30    0.006388\n",
              "2008-12-31    0.007391\n",
              "2009-03-31    0.009120\n",
              "2009-06-30    0.010512\n",
              "2009-09-30    0.009478\n",
              "2009-12-31    0.013257\n",
              "2010-03-31    0.011422\n",
              "2010-06-30    0.009872\n",
              "2010-09-30    0.010294\n",
              "2010-12-31    0.008719\n",
              "2011-03-31    0.013235\n",
              "2011-06-30    0.013576\n",
              "2011-09-30    0.009950\n",
              "2011-12-31    0.009483\n",
              "2012-03-31    0.010989\n",
              "2012-06-30    0.011053\n",
              "2012-09-30    0.008115\n",
              "2012-12-31    0.011127\n",
              "2013-03-31    0.013310\n",
              "2013-06-30    0.011984\n",
              "2013-09-30    0.011308\n",
              "2013-12-31    0.010915\n",
              "2014-03-31    0.013768\n",
              "2014-06-30    0.013892\n",
              "2014-09-30    0.013819\n",
              "2014-12-31    0.010830\n",
              "2015-03-31    0.013201\n",
              "2015-06-30    0.011628\n",
              "2015-09-30    0.010497\n",
              "2015-12-31    0.007403\n",
              "Freq: Q-DEC, Name: drugs_related_stop, dtype: float64"
            ]
          },
          "metadata": {
            "tags": []
          },
          "execution_count": 99
        }
      ]
    },
    {
      "cell_type": "code",
      "metadata": {
        "id": "jXN9DKrfY5o8",
        "outputId": "80b42271-17ed-4d54-a050-22d2fadc04ce"
      },
      "source": [
        "ri.drugs_related_stop.resample(\"M\").mean()"
      ],
      "execution_count": null,
      "outputs": [
        {
          "output_type": "execute_result",
          "data": {
            "text/plain": [
              "stop_datetime\n",
              "2005-01-31    0.111111\n",
              "2005-02-28    0.000000\n",
              "2005-03-31    0.000000\n",
              "2005-04-30    0.000000\n",
              "2005-05-31    0.000000\n",
              "                ...   \n",
              "2015-08-31    0.009389\n",
              "2015-09-30    0.008172\n",
              "2015-10-31    0.006429\n",
              "2015-11-30    0.007361\n",
              "2015-12-31    0.008844\n",
              "Freq: M, Name: drugs_related_stop, Length: 132, dtype: float64"
            ]
          },
          "metadata": {
            "tags": []
          },
          "execution_count": 100
        }
      ]
    },
    {
      "cell_type": "code",
      "metadata": {
        "id": "ak2uEd20Y5o9"
      },
      "source": [
        "annual_drug_rate = ri.drugs_related_stop.resample(\"A\").mean()"
      ],
      "execution_count": null,
      "outputs": []
    },
    {
      "cell_type": "code",
      "metadata": {
        "id": "D2ue8lG8Y5o9",
        "outputId": "c2340608-3896-4d58-ab63-5309be9efd62"
      },
      "source": [
        "annual_drug_rate.plot()\n",
        "\n",
        "plt.show()"
      ],
      "execution_count": null,
      "outputs": [
        {
          "output_type": "display_data",
          "data": {
            "image/png": "[encoded data removed]",
            "text/plain": [
              "<Figure size 432x288 with 1 Axes>"
            ]
          },
          "metadata": {
            "tags": [],
            "needs_background": "light"
          }
        }
      ]
    },
    {
      "cell_type": "code",
      "metadata": {
        "id": "Vh3MOrElY5o-",
        "outputId": "f1c98972-34fa-4daa-a268-6e067339445e"
      },
      "source": [
        "ri.columns"
      ],
      "execution_count": null,
      "outputs": [
        {
          "output_type": "execute_result",
          "data": {
            "text/plain": [
              "Index(['id', 'location_raw', 'police_department', 'driver_gender',\n",
              "       'driver_age_raw', 'driver_age', 'driver_race_raw', 'driver_race',\n",
              "       'violation_raw', 'violation', 'search_conducted', 'search_type_raw',\n",
              "       'search_type', 'contraband_found', 'stop_outcome', 'is_arrested',\n",
              "       'stop_duration', 'out_of_state', 'drugs_related_stop', 'district',\n",
              "       'frisk'],\n",
              "      dtype='object')"
            ]
          },
          "metadata": {
            "tags": []
          },
          "execution_count": 103
        }
      ]
    },
    {
      "cell_type": "code",
      "metadata": {
        "id": "_MdoCUJ-Y5pA",
        "outputId": "4ab8bba8-08da-4c9e-8240-cf45e85b8838"
      },
      "source": [
        "ri.search_conducted.head()"
      ],
      "execution_count": null,
      "outputs": [
        {
          "output_type": "execute_result",
          "data": {
            "text/plain": [
              "stop_datetime\n",
              "2005-01-02 01:55:00    False\n",
              "2005-01-02 20:30:00    False\n",
              "2005-01-04 12:55:00    False\n",
              "2005-01-06 01:30:00    False\n",
              "2005-01-12 08:05:00    False\n",
              "Name: search_conducted, dtype: object"
            ]
          },
          "metadata": {
            "tags": []
          },
          "execution_count": 104
        }
      ]
    },
    {
      "cell_type": "code",
      "metadata": {
        "id": "Y2e_un5NY5pC",
        "outputId": "08cb1c20-d288-4697-e5e0-447179d779d5"
      },
      "source": [
        "ri.search_conducted.value_counts(dropna = False)"
      ],
      "execution_count": null,
      "outputs": [
        {
          "output_type": "execute_result",
          "data": {
            "text/plain": [
              "False    462822\n",
              "True      17762\n",
              "Name: search_conducted, dtype: int64"
            ]
          },
          "metadata": {
            "tags": []
          },
          "execution_count": 105
        }
      ]
    },
    {
      "cell_type": "code",
      "metadata": {
        "id": "2hPo30ZPY5pC",
        "outputId": "8c1593eb-3346-4079-9f0e-6316671dfe8e"
      },
      "source": [
        "ri.search_conducted.dtypes"
      ],
      "execution_count": null,
      "outputs": [
        {
          "output_type": "execute_result",
          "data": {
            "text/plain": [
              "dtype('O')"
            ]
          },
          "metadata": {
            "tags": []
          },
          "execution_count": 106
        }
      ]
    },
    {
      "cell_type": "code",
      "metadata": {
        "id": "xwrBxzQpY5pD"
      },
      "source": [
        "ri[\"search_conducted\"] = ri.search_conducted.astype(\"bool\")"
      ],
      "execution_count": null,
      "outputs": []
    },
    {
      "cell_type": "code",
      "metadata": {
        "id": "eKSn5bY9Y5pE",
        "outputId": "25f656d3-b110-457e-be79-b8e3f326133e"
      },
      "source": [
        "ri.groupby(ri.index.year).search_conducted.mean()"
      ],
      "execution_count": null,
      "outputs": [
        {
          "output_type": "execute_result",
          "data": {
            "text/plain": [
              "stop_datetime\n",
              "2005    0.050692\n",
              "2006    0.037748\n",
              "2007    0.041844\n",
              "2008    0.039544\n",
              "2009    0.049849\n",
              "2010    0.042089\n",
              "2011    0.037767\n",
              "2012    0.032278\n",
              "2013    0.029054\n",
              "2014    0.030157\n",
              "2015    0.027832\n",
              "Name: search_conducted, dtype: float64"
            ]
          },
          "metadata": {
            "tags": []
          },
          "execution_count": 108
        }
      ]
    },
    {
      "cell_type": "code",
      "metadata": {
        "id": "kudOJ73sY5pE"
      },
      "source": [
        "annual_search_rate = ri.search_conducted.resample(\"A\").mean()"
      ],
      "execution_count": null,
      "outputs": []
    },
    {
      "cell_type": "code",
      "metadata": {
        "id": "G7fJ6FeTY5pF",
        "outputId": "1665a5bf-8393-47ba-eca2-00900402d2ee"
      },
      "source": [
        "annual_search_rate"
      ],
      "execution_count": null,
      "outputs": [
        {
          "output_type": "execute_result",
          "data": {
            "text/plain": [
              "stop_datetime\n",
              "2005-12-31    0.050692\n",
              "2006-12-31    0.037748\n",
              "2007-12-31    0.041844\n",
              "2008-12-31    0.039544\n",
              "2009-12-31    0.049849\n",
              "2010-12-31    0.042089\n",
              "2011-12-31    0.037767\n",
              "2012-12-31    0.032278\n",
              "2013-12-31    0.029054\n",
              "2014-12-31    0.030157\n",
              "2015-12-31    0.027832\n",
              "Freq: A-DEC, Name: search_conducted, dtype: float64"
            ]
          },
          "metadata": {
            "tags": []
          },
          "execution_count": 110
        }
      ]
    },
    {
      "cell_type": "code",
      "metadata": {
        "id": "lDFlqU7pY5pF"
      },
      "source": [
        "annual = pd.concat([annual_drug_rate, annual_search_rate], axis = \"columns\")"
      ],
      "execution_count": null,
      "outputs": []
    },
    {
      "cell_type": "code",
      "metadata": {
        "id": "Eu5S9YIKY5pG",
        "outputId": "c47a4fe7-3995-4d52-f01a-2b9f9044b92f"
      },
      "source": [
        "annual"
      ],
      "execution_count": null,
      "outputs": [
        {
          "output_type": "execute_result",
          "data": {
            "text/html": [
              "<div>\n",
              "<style scoped>\n",
              "    .dataframe tbody tr th:only-of-type {\n",
              "        vertical-align: middle;\n",
              "    }\n",
              "\n",
              "    .dataframe tbody tr th {\n",
              "        vertical-align: top;\n",
              "    }\n",
              "\n",
              "    .dataframe thead th {\n",
              "        text-align: right;\n",
              "    }\n",
              "</style>\n",
              "<table border=\"1\" class=\"dataframe\">\n",
              "  <thead>\n",
              "    <tr style=\"text-align: right;\">\n",
              "      <th></th>\n",
              "      <th>drugs_related_stop</th>\n",
              "      <th>search_conducted</th>\n",
              "    </tr>\n",
              "    <tr>\n",
              "      <th>stop_datetime</th>\n",
              "      <th></th>\n",
              "      <th></th>\n",
              "    </tr>\n",
              "  </thead>\n",
              "  <tbody>\n",
              "    <tr>\n",
              "      <th>2005-12-31</th>\n",
              "      <td>0.008038</td>\n",
              "      <td>0.050692</td>\n",
              "    </tr>\n",
              "    <tr>\n",
              "      <th>2006-12-31</th>\n",
              "      <td>0.006624</td>\n",
              "      <td>0.037748</td>\n",
              "    </tr>\n",
              "    <tr>\n",
              "      <th>2007-12-31</th>\n",
              "      <td>0.008437</td>\n",
              "      <td>0.041844</td>\n",
              "    </tr>\n",
              "    <tr>\n",
              "      <th>2008-12-31</th>\n",
              "      <td>0.007549</td>\n",
              "      <td>0.039544</td>\n",
              "    </tr>\n",
              "    <tr>\n",
              "      <th>2009-12-31</th>\n",
              "      <td>0.010447</td>\n",
              "      <td>0.049849</td>\n",
              "    </tr>\n",
              "    <tr>\n",
              "      <th>2010-12-31</th>\n",
              "      <td>0.010142</td>\n",
              "      <td>0.042089</td>\n",
              "    </tr>\n",
              "    <tr>\n",
              "      <th>2011-12-31</th>\n",
              "      <td>0.011400</td>\n",
              "      <td>0.037767</td>\n",
              "    </tr>\n",
              "    <tr>\n",
              "      <th>2012-12-31</th>\n",
              "      <td>0.010343</td>\n",
              "      <td>0.032278</td>\n",
              "    </tr>\n",
              "    <tr>\n",
              "      <th>2013-12-31</th>\n",
              "      <td>0.011879</td>\n",
              "      <td>0.029054</td>\n",
              "    </tr>\n",
              "    <tr>\n",
              "      <th>2014-12-31</th>\n",
              "      <td>0.013176</td>\n",
              "      <td>0.030157</td>\n",
              "    </tr>\n",
              "    <tr>\n",
              "      <th>2015-12-31</th>\n",
              "      <td>0.010598</td>\n",
              "      <td>0.027832</td>\n",
              "    </tr>\n",
              "  </tbody>\n",
              "</table>\n",
              "</div>"
            ],
            "text/plain": [
              "               drugs_related_stop  search_conducted\n",
              "stop_datetime                                      \n",
              "2005-12-31               0.008038          0.050692\n",
              "2006-12-31               0.006624          0.037748\n",
              "2007-12-31               0.008437          0.041844\n",
              "2008-12-31               0.007549          0.039544\n",
              "2009-12-31               0.010447          0.049849\n",
              "2010-12-31               0.010142          0.042089\n",
              "2011-12-31               0.011400          0.037767\n",
              "2012-12-31               0.010343          0.032278\n",
              "2013-12-31               0.011879          0.029054\n",
              "2014-12-31               0.013176          0.030157\n",
              "2015-12-31               0.010598          0.027832"
            ]
          },
          "metadata": {
            "tags": []
          },
          "execution_count": 112
        }
      ]
    },
    {
      "cell_type": "code",
      "metadata": {
        "id": "F-Tgy22HY5pG",
        "outputId": "4f2c22d6-69be-4406-8665-1455e353bd78"
      },
      "source": [
        "annual.plot(subplots = True)\n",
        "\n",
        "plt.show()"
      ],
      "execution_count": null,
      "outputs": [
        {
          "output_type": "display_data",
          "data": {
            "image/png": "[encoded data removed]",
            "text/plain": [
              "<Figure size 432x288 with 2 Axes>"
            ]
          },
          "metadata": {
            "tags": [],
            "needs_background": "light"
          }
        }
      ]
    },
    {
      "cell_type": "code",
      "metadata": {
        "id": "esQISrdOY5pH",
        "outputId": "956080cb-4d3b-470f-e760-69cd26d298b8"
      },
      "source": [
        "ri.district.unique()"
      ],
      "execution_count": null,
      "outputs": [
        {
          "output_type": "execute_result",
          "data": {
            "text/plain": [
              "array(['Zone K1', 'Zone X4', 'Zone X1', 'Zone K3', 'Zone X3', 'Zone K2'],\n",
              "      dtype=object)"
            ]
          },
          "metadata": {
            "tags": []
          },
          "execution_count": 114
        }
      ]
    },
    {
      "cell_type": "code",
      "metadata": {
        "id": "lVrgEO3bY5pI",
        "outputId": "00182fe8-9cd5-4d14-8295-ce2ca571a9a9"
      },
      "source": [
        "ri.district.value_counts(dropna = False)"
      ],
      "execution_count": null,
      "outputs": [
        {
          "output_type": "execute_result",
          "data": {
            "text/plain": [
              "Zone X4    125670\n",
              "Zone K3    108868\n",
              "Zone K2     97281\n",
              "Zone X3     89431\n",
              "Zone K1     46110\n",
              "Zone X1     13224\n",
              "Name: district, dtype: int64"
            ]
          },
          "metadata": {
            "tags": []
          },
          "execution_count": 115
        }
      ]
    },
    {
      "cell_type": "code",
      "metadata": {
        "id": "z4mCMOjjY5pJ",
        "outputId": "e64b1ed5-7816-4606-de8c-9989d3ce74db"
      },
      "source": [
        "ri.violation.unique()"
      ],
      "execution_count": null,
      "outputs": [
        {
          "output_type": "execute_result",
          "data": {
            "text/plain": [
              "array(['Speeding', 'Equipment', 'Other', 'Moving violation',\n",
              "       'Registration/plates', 'Seat belt'], dtype=object)"
            ]
          },
          "metadata": {
            "tags": []
          },
          "execution_count": 116
        }
      ]
    },
    {
      "cell_type": "code",
      "metadata": {
        "id": "fXmJf5l1Y5pK",
        "outputId": "8e6ae1c3-2527-44c7-d1f7-6aa911bffa82"
      },
      "source": [
        "ri.violation.value_counts(dropna = False)"
      ],
      "execution_count": null,
      "outputs": [
        {
          "output_type": "execute_result",
          "data": {
            "text/plain": [
              "Speeding               268736\n",
              "Moving violation        90228\n",
              "Equipment               61250\n",
              "Other                   24216\n",
              "Registration/plates     19830\n",
              "Seat belt               16324\n",
              "Name: violation, dtype: int64"
            ]
          },
          "metadata": {
            "tags": []
          },
          "execution_count": 117
        }
      ]
    },
    {
      "cell_type": "code",
      "metadata": {
        "id": "GBEZXanZY5pK",
        "outputId": "9ccb1981-dac9-40ae-f07f-0d4dbcc56643"
      },
      "source": [
        "pd.crosstab(ri.district, ri.violation)"
      ],
      "execution_count": null,
      "outputs": [
        {
          "output_type": "execute_result",
          "data": {
            "text/html": [
              "<div>\n",
              "<style scoped>\n",
              "    .dataframe tbody tr th:only-of-type {\n",
              "        vertical-align: middle;\n",
              "    }\n",
              "\n",
              "    .dataframe tbody tr th {\n",
              "        vertical-align: top;\n",
              "    }\n",
              "\n",
              "    .dataframe thead th {\n",
              "        text-align: right;\n",
              "    }\n",
              "</style>\n",
              "<table border=\"1\" class=\"dataframe\">\n",
              "  <thead>\n",
              "    <tr style=\"text-align: right;\">\n",
              "      <th>violation</th>\n",
              "      <th>Equipment</th>\n",
              "      <th>Moving violation</th>\n",
              "      <th>Other</th>\n",
              "      <th>Registration/plates</th>\n",
              "      <th>Seat belt</th>\n",
              "      <th>Speeding</th>\n",
              "    </tr>\n",
              "    <tr>\n",
              "      <th>district</th>\n",
              "      <th></th>\n",
              "      <th></th>\n",
              "      <th></th>\n",
              "      <th></th>\n",
              "      <th></th>\n",
              "      <th></th>\n",
              "    </tr>\n",
              "  </thead>\n",
              "  <tbody>\n",
              "    <tr>\n",
              "      <th>Zone K1</th>\n",
              "      <td>3786</td>\n",
              "      <td>7127</td>\n",
              "      <td>1501</td>\n",
              "      <td>628</td>\n",
              "      <td>1</td>\n",
              "      <td>33067</td>\n",
              "    </tr>\n",
              "    <tr>\n",
              "      <th>Zone K2</th>\n",
              "      <td>11285</td>\n",
              "      <td>16440</td>\n",
              "      <td>5103</td>\n",
              "      <td>4056</td>\n",
              "      <td>2897</td>\n",
              "      <td>57500</td>\n",
              "    </tr>\n",
              "    <tr>\n",
              "      <th>Zone K3</th>\n",
              "      <td>12959</td>\n",
              "      <td>16218</td>\n",
              "      <td>3926</td>\n",
              "      <td>3871</td>\n",
              "      <td>3660</td>\n",
              "      <td>68234</td>\n",
              "    </tr>\n",
              "    <tr>\n",
              "      <th>Zone X1</th>\n",
              "      <td>1725</td>\n",
              "      <td>3711</td>\n",
              "      <td>752</td>\n",
              "      <td>192</td>\n",
              "      <td>451</td>\n",
              "      <td>6393</td>\n",
              "    </tr>\n",
              "    <tr>\n",
              "      <th>Zone X3</th>\n",
              "      <td>11520</td>\n",
              "      <td>17178</td>\n",
              "      <td>4069</td>\n",
              "      <td>3532</td>\n",
              "      <td>4445</td>\n",
              "      <td>48687</td>\n",
              "    </tr>\n",
              "    <tr>\n",
              "      <th>Zone X4</th>\n",
              "      <td>19975</td>\n",
              "      <td>29554</td>\n",
              "      <td>8865</td>\n",
              "      <td>7551</td>\n",
              "      <td>4870</td>\n",
              "      <td>54855</td>\n",
              "    </tr>\n",
              "  </tbody>\n",
              "</table>\n",
              "</div>"
            ],
            "text/plain": [
              "violation  Equipment  Moving violation  Other  Registration/plates  Seat belt  \\\n",
              "district                                                                        \n",
              "Zone K1         3786              7127   1501                  628          1   \n",
              "Zone K2        11285             16440   5103                 4056       2897   \n",
              "Zone K3        12959             16218   3926                 3871       3660   \n",
              "Zone X1         1725              3711    752                  192        451   \n",
              "Zone X3        11520             17178   4069                 3532       4445   \n",
              "Zone X4        19975             29554   8865                 7551       4870   \n",
              "\n",
              "violation  Speeding  \n",
              "district             \n",
              "Zone K1       33067  \n",
              "Zone K2       57500  \n",
              "Zone K3       68234  \n",
              "Zone X1        6393  \n",
              "Zone X3       48687  \n",
              "Zone X4       54855  "
            ]
          },
          "metadata": {
            "tags": []
          },
          "execution_count": 118
        }
      ]
    },
    {
      "cell_type": "code",
      "metadata": {
        "id": "O_l5fcO1Y5pL"
      },
      "source": [
        "all_zones = pd.crosstab(ri.district, ri.violation)"
      ],
      "execution_count": null,
      "outputs": []
    },
    {
      "cell_type": "code",
      "metadata": {
        "id": "0vUBNX9_Y5pL",
        "outputId": "d2d7cd20-8988-46c3-ccee-e5812aba6675"
      },
      "source": [
        "all_zones.loc[\"Zone K1\" : \"Zone K3\"]"
      ],
      "execution_count": null,
      "outputs": [
        {
          "output_type": "execute_result",
          "data": {
            "text/html": [
              "<div>\n",
              "<style scoped>\n",
              "    .dataframe tbody tr th:only-of-type {\n",
              "        vertical-align: middle;\n",
              "    }\n",
              "\n",
              "    .dataframe tbody tr th {\n",
              "        vertical-align: top;\n",
              "    }\n",
              "\n",
              "    .dataframe thead th {\n",
              "        text-align: right;\n",
              "    }\n",
              "</style>\n",
              "<table border=\"1\" class=\"dataframe\">\n",
              "  <thead>\n",
              "    <tr style=\"text-align: right;\">\n",
              "      <th>violation</th>\n",
              "      <th>Equipment</th>\n",
              "      <th>Moving violation</th>\n",
              "      <th>Other</th>\n",
              "      <th>Registration/plates</th>\n",
              "      <th>Seat belt</th>\n",
              "      <th>Speeding</th>\n",
              "    </tr>\n",
              "    <tr>\n",
              "      <th>district</th>\n",
              "      <th></th>\n",
              "      <th></th>\n",
              "      <th></th>\n",
              "      <th></th>\n",
              "      <th></th>\n",
              "      <th></th>\n",
              "    </tr>\n",
              "  </thead>\n",
              "  <tbody>\n",
              "    <tr>\n",
              "      <th>Zone K1</th>\n",
              "      <td>3786</td>\n",
              "      <td>7127</td>\n",
              "      <td>1501</td>\n",
              "      <td>628</td>\n",
              "      <td>1</td>\n",
              "      <td>33067</td>\n",
              "    </tr>\n",
              "    <tr>\n",
              "      <th>Zone K2</th>\n",
              "      <td>11285</td>\n",
              "      <td>16440</td>\n",
              "      <td>5103</td>\n",
              "      <td>4056</td>\n",
              "      <td>2897</td>\n",
              "      <td>57500</td>\n",
              "    </tr>\n",
              "    <tr>\n",
              "      <th>Zone K3</th>\n",
              "      <td>12959</td>\n",
              "      <td>16218</td>\n",
              "      <td>3926</td>\n",
              "      <td>3871</td>\n",
              "      <td>3660</td>\n",
              "      <td>68234</td>\n",
              "    </tr>\n",
              "  </tbody>\n",
              "</table>\n",
              "</div>"
            ],
            "text/plain": [
              "violation  Equipment  Moving violation  Other  Registration/plates  Seat belt  \\\n",
              "district                                                                        \n",
              "Zone K1         3786              7127   1501                  628          1   \n",
              "Zone K2        11285             16440   5103                 4056       2897   \n",
              "Zone K3        12959             16218   3926                 3871       3660   \n",
              "\n",
              "violation  Speeding  \n",
              "district             \n",
              "Zone K1       33067  \n",
              "Zone K2       57500  \n",
              "Zone K3       68234  "
            ]
          },
          "metadata": {
            "tags": []
          },
          "execution_count": 120
        }
      ]
    },
    {
      "cell_type": "code",
      "metadata": {
        "id": "igNGxKDNY5pM"
      },
      "source": [
        "k_zones = all_zones.loc[\"Zone K1\" : \"Zone K3\"]"
      ],
      "execution_count": null,
      "outputs": []
    },
    {
      "cell_type": "code",
      "metadata": {
        "id": "7ofqkPFIY5pN"
      },
      "source": [
        "import pandas as pd\n",
        "import numpy as np\n",
        "import matplotlib.pyplot as plt"
      ],
      "execution_count": null,
      "outputs": []
    },
    {
      "cell_type": "code",
      "metadata": {
        "id": "ze71WnzWY5pN"
      },
      "source": [
        "weather = pd.read_csv(\"weather.csv\")"
      ],
      "execution_count": null,
      "outputs": []
    },
    {
      "cell_type": "code",
      "metadata": {
        "id": "YQ_kDWidY5pN",
        "outputId": "948fce3a-0ca8-45dd-e0aa-dffa9a3dbc49"
      },
      "source": [
        "weather.head()"
      ],
      "execution_count": null,
      "outputs": [
        {
          "output_type": "execute_result",
          "data": {
            "text/html": [
              "<div>\n",
              "<style scoped>\n",
              "    .dataframe tbody tr th:only-of-type {\n",
              "        vertical-align: middle;\n",
              "    }\n",
              "\n",
              "    .dataframe tbody tr th {\n",
              "        vertical-align: top;\n",
              "    }\n",
              "\n",
              "    .dataframe thead th {\n",
              "        text-align: right;\n",
              "    }\n",
              "</style>\n",
              "<table border=\"1\" class=\"dataframe\">\n",
              "  <thead>\n",
              "    <tr style=\"text-align: right;\">\n",
              "      <th></th>\n",
              "      <th>STATION</th>\n",
              "      <th>DATE</th>\n",
              "      <th>AWND</th>\n",
              "      <th>TAVG</th>\n",
              "      <th>TMAX</th>\n",
              "      <th>TMIN</th>\n",
              "      <th>WT01</th>\n",
              "      <th>WT02</th>\n",
              "      <th>WT03</th>\n",
              "      <th>WT04</th>\n",
              "      <th>...</th>\n",
              "      <th>WT11</th>\n",
              "      <th>WT13</th>\n",
              "      <th>WT14</th>\n",
              "      <th>WT15</th>\n",
              "      <th>WT16</th>\n",
              "      <th>WT17</th>\n",
              "      <th>WT18</th>\n",
              "      <th>WT19</th>\n",
              "      <th>WT21</th>\n",
              "      <th>WT22</th>\n",
              "    </tr>\n",
              "  </thead>\n",
              "  <tbody>\n",
              "    <tr>\n",
              "      <th>0</th>\n",
              "      <td>USC00379423</td>\n",
              "      <td>2005-01-01</td>\n",
              "      <td>NaN</td>\n",
              "      <td>NaN</td>\n",
              "      <td>47.0</td>\n",
              "      <td>28.0</td>\n",
              "      <td>NaN</td>\n",
              "      <td>NaN</td>\n",
              "      <td>NaN</td>\n",
              "      <td>NaN</td>\n",
              "      <td>...</td>\n",
              "      <td>NaN</td>\n",
              "      <td>NaN</td>\n",
              "      <td>NaN</td>\n",
              "      <td>NaN</td>\n",
              "      <td>NaN</td>\n",
              "      <td>NaN</td>\n",
              "      <td>NaN</td>\n",
              "      <td>NaN</td>\n",
              "      <td>NaN</td>\n",
              "      <td>NaN</td>\n",
              "    </tr>\n",
              "    <tr>\n",
              "      <th>1</th>\n",
              "      <td>USC00379423</td>\n",
              "      <td>2005-01-02</td>\n",
              "      <td>NaN</td>\n",
              "      <td>NaN</td>\n",
              "      <td>52.0</td>\n",
              "      <td>24.0</td>\n",
              "      <td>NaN</td>\n",
              "      <td>NaN</td>\n",
              "      <td>NaN</td>\n",
              "      <td>NaN</td>\n",
              "      <td>...</td>\n",
              "      <td>NaN</td>\n",
              "      <td>NaN</td>\n",
              "      <td>NaN</td>\n",
              "      <td>NaN</td>\n",
              "      <td>NaN</td>\n",
              "      <td>NaN</td>\n",
              "      <td>NaN</td>\n",
              "      <td>NaN</td>\n",
              "      <td>NaN</td>\n",
              "      <td>NaN</td>\n",
              "    </tr>\n",
              "    <tr>\n",
              "      <th>2</th>\n",
              "      <td>USC00379423</td>\n",
              "      <td>2005-01-03</td>\n",
              "      <td>NaN</td>\n",
              "      <td>NaN</td>\n",
              "      <td>48.0</td>\n",
              "      <td>27.0</td>\n",
              "      <td>NaN</td>\n",
              "      <td>NaN</td>\n",
              "      <td>NaN</td>\n",
              "      <td>NaN</td>\n",
              "      <td>...</td>\n",
              "      <td>NaN</td>\n",
              "      <td>NaN</td>\n",
              "      <td>NaN</td>\n",
              "      <td>NaN</td>\n",
              "      <td>NaN</td>\n",
              "      <td>NaN</td>\n",
              "      <td>NaN</td>\n",
              "      <td>NaN</td>\n",
              "      <td>NaN</td>\n",
              "      <td>NaN</td>\n",
              "    </tr>\n",
              "    <tr>\n",
              "      <th>3</th>\n",
              "      <td>USC00379423</td>\n",
              "      <td>2005-01-04</td>\n",
              "      <td>NaN</td>\n",
              "      <td>NaN</td>\n",
              "      <td>54.0</td>\n",
              "      <td>40.0</td>\n",
              "      <td>NaN</td>\n",
              "      <td>NaN</td>\n",
              "      <td>NaN</td>\n",
              "      <td>NaN</td>\n",
              "      <td>...</td>\n",
              "      <td>NaN</td>\n",
              "      <td>NaN</td>\n",
              "      <td>NaN</td>\n",
              "      <td>NaN</td>\n",
              "      <td>NaN</td>\n",
              "      <td>NaN</td>\n",
              "      <td>NaN</td>\n",
              "      <td>NaN</td>\n",
              "      <td>NaN</td>\n",
              "      <td>NaN</td>\n",
              "    </tr>\n",
              "    <tr>\n",
              "      <th>4</th>\n",
              "      <td>USC00379423</td>\n",
              "      <td>2005-01-05</td>\n",
              "      <td>NaN</td>\n",
              "      <td>NaN</td>\n",
              "      <td>44.0</td>\n",
              "      <td>31.0</td>\n",
              "      <td>NaN</td>\n",
              "      <td>NaN</td>\n",
              "      <td>NaN</td>\n",
              "      <td>NaN</td>\n",
              "      <td>...</td>\n",
              "      <td>NaN</td>\n",
              "      <td>NaN</td>\n",
              "      <td>NaN</td>\n",
              "      <td>NaN</td>\n",
              "      <td>NaN</td>\n",
              "      <td>NaN</td>\n",
              "      <td>NaN</td>\n",
              "      <td>NaN</td>\n",
              "      <td>NaN</td>\n",
              "      <td>NaN</td>\n",
              "    </tr>\n",
              "  </tbody>\n",
              "</table>\n",
              "<p>5 rows × 26 columns</p>\n",
              "</div>"
            ],
            "text/plain": [
              "       STATION        DATE  AWND  TAVG  TMAX  TMIN  WT01  WT02  WT03  WT04  \\\n",
              "0  USC00379423  2005-01-01   NaN   NaN  47.0  28.0   NaN   NaN   NaN   NaN   \n",
              "1  USC00379423  2005-01-02   NaN   NaN  52.0  24.0   NaN   NaN   NaN   NaN   \n",
              "2  USC00379423  2005-01-03   NaN   NaN  48.0  27.0   NaN   NaN   NaN   NaN   \n",
              "3  USC00379423  2005-01-04   NaN   NaN  54.0  40.0   NaN   NaN   NaN   NaN   \n",
              "4  USC00379423  2005-01-05   NaN   NaN  44.0  31.0   NaN   NaN   NaN   NaN   \n",
              "\n",
              "   ...  WT11  WT13  WT14  WT15  WT16  WT17  WT18  WT19  WT21  WT22  \n",
              "0  ...   NaN   NaN   NaN   NaN   NaN   NaN   NaN   NaN   NaN   NaN  \n",
              "1  ...   NaN   NaN   NaN   NaN   NaN   NaN   NaN   NaN   NaN   NaN  \n",
              "2  ...   NaN   NaN   NaN   NaN   NaN   NaN   NaN   NaN   NaN   NaN  \n",
              "3  ...   NaN   NaN   NaN   NaN   NaN   NaN   NaN   NaN   NaN   NaN  \n",
              "4  ...   NaN   NaN   NaN   NaN   NaN   NaN   NaN   NaN   NaN   NaN  \n",
              "\n",
              "[5 rows x 26 columns]"
            ]
          },
          "metadata": {
            "tags": []
          },
          "execution_count": 124
        }
      ]
    },
    {
      "cell_type": "code",
      "metadata": {
        "id": "oJ-18vcnY5pO",
        "outputId": "67c8a027-44e7-438c-8ba2-559a13064dc3"
      },
      "source": [
        "weather.shape"
      ],
      "execution_count": null,
      "outputs": [
        {
          "output_type": "execute_result",
          "data": {
            "text/plain": [
              "(8022, 26)"
            ]
          },
          "metadata": {
            "tags": []
          },
          "execution_count": 125
        }
      ]
    },
    {
      "cell_type": "code",
      "metadata": {
        "id": "YJPMkQDdY5pP",
        "outputId": "00e47041-9839-4842-d105-bb91f135b2ed"
      },
      "source": [
        "weather.info()"
      ],
      "execution_count": null,
      "outputs": [
        {
          "output_type": "stream",
          "text": [
            "<class 'pandas.core.frame.DataFrame'>\n",
            "RangeIndex: 8022 entries, 0 to 8021\n",
            "Data columns (total 26 columns):\n",
            " #   Column   Non-Null Count  Dtype  \n",
            "---  ------   --------------  -----  \n",
            " 0   STATION  8022 non-null   object \n",
            " 1   DATE     8022 non-null   object \n",
            " 2   AWND     4017 non-null   float64\n",
            " 3   TAVG     1217 non-null   float64\n",
            " 4   TMAX     8005 non-null   float64\n",
            " 5   TMIN     7996 non-null   float64\n",
            " 6   WT01     1777 non-null   float64\n",
            " 7   WT02     221 non-null    float64\n",
            " 8   WT03     227 non-null    float64\n",
            " 9   WT04     119 non-null    float64\n",
            " 10  WT05     360 non-null    float64\n",
            " 11  WT06     25 non-null     float64\n",
            " 12  WT07     79 non-null     float64\n",
            " 13  WT08     404 non-null    float64\n",
            " 14  WT09     69 non-null     float64\n",
            " 15  WT10     2 non-null      float64\n",
            " 16  WT11     3 non-null      float64\n",
            " 17  WT13     1175 non-null   float64\n",
            " 18  WT14     575 non-null    float64\n",
            " 19  WT15     6 non-null      float64\n",
            " 20  WT16     1326 non-null   float64\n",
            " 21  WT17     12 non-null     float64\n",
            " 22  WT18     345 non-null    float64\n",
            " 23  WT19     4 non-null      float64\n",
            " 24  WT21     18 non-null     float64\n",
            " 25  WT22     32 non-null     float64\n",
            "dtypes: float64(24), object(2)\n",
            "memory usage: 1.6+ MB\n"
          ],
          "name": "stdout"
        }
      ]
    },
    {
      "cell_type": "code",
      "metadata": {
        "id": "IQfsVvq7Y5pQ",
        "outputId": "e2fa6579-35e9-469d-f1b9-4237114028da"
      },
      "source": [
        "weather[[\"TMIN\", \"TAVG\", \"TMAX\"]].describe()"
      ],
      "execution_count": null,
      "outputs": [
        {
          "output_type": "execute_result",
          "data": {
            "text/html": [
              "<div>\n",
              "<style scoped>\n",
              "    .dataframe tbody tr th:only-of-type {\n",
              "        vertical-align: middle;\n",
              "    }\n",
              "\n",
              "    .dataframe tbody tr th {\n",
              "        vertical-align: top;\n",
              "    }\n",
              "\n",
              "    .dataframe thead th {\n",
              "        text-align: right;\n",
              "    }\n",
              "</style>\n",
              "<table border=\"1\" class=\"dataframe\">\n",
              "  <thead>\n",
              "    <tr style=\"text-align: right;\">\n",
              "      <th></th>\n",
              "      <th>TMIN</th>\n",
              "      <th>TAVG</th>\n",
              "      <th>TMAX</th>\n",
              "    </tr>\n",
              "  </thead>\n",
              "  <tbody>\n",
              "    <tr>\n",
              "      <th>count</th>\n",
              "      <td>7996.000000</td>\n",
              "      <td>1217.000000</td>\n",
              "      <td>8005.000000</td>\n",
              "    </tr>\n",
              "    <tr>\n",
              "      <th>mean</th>\n",
              "      <td>42.099425</td>\n",
              "      <td>52.493016</td>\n",
              "      <td>61.247096</td>\n",
              "    </tr>\n",
              "    <tr>\n",
              "      <th>std</th>\n",
              "      <td>17.386667</td>\n",
              "      <td>17.829792</td>\n",
              "      <td>18.495043</td>\n",
              "    </tr>\n",
              "    <tr>\n",
              "      <th>min</th>\n",
              "      <td>-10.000000</td>\n",
              "      <td>6.000000</td>\n",
              "      <td>13.000000</td>\n",
              "    </tr>\n",
              "    <tr>\n",
              "      <th>25%</th>\n",
              "      <td>29.000000</td>\n",
              "      <td>39.000000</td>\n",
              "      <td>46.000000</td>\n",
              "    </tr>\n",
              "    <tr>\n",
              "      <th>50%</th>\n",
              "      <td>42.000000</td>\n",
              "      <td>54.000000</td>\n",
              "      <td>62.000000</td>\n",
              "    </tr>\n",
              "    <tr>\n",
              "      <th>75%</th>\n",
              "      <td>57.000000</td>\n",
              "      <td>68.000000</td>\n",
              "      <td>77.000000</td>\n",
              "    </tr>\n",
              "    <tr>\n",
              "      <th>max</th>\n",
              "      <td>77.000000</td>\n",
              "      <td>86.000000</td>\n",
              "      <td>102.000000</td>\n",
              "    </tr>\n",
              "  </tbody>\n",
              "</table>\n",
              "</div>"
            ],
            "text/plain": [
              "              TMIN         TAVG         TMAX\n",
              "count  7996.000000  1217.000000  8005.000000\n",
              "mean     42.099425    52.493016    61.247096\n",
              "std      17.386667    17.829792    18.495043\n",
              "min     -10.000000     6.000000    13.000000\n",
              "25%      29.000000    39.000000    46.000000\n",
              "50%      42.000000    54.000000    62.000000\n",
              "75%      57.000000    68.000000    77.000000\n",
              "max      77.000000    86.000000   102.000000"
            ]
          },
          "metadata": {
            "tags": []
          },
          "execution_count": 127
        }
      ]
    },
    {
      "cell_type": "code",
      "metadata": {
        "id": "oQSnhav7Y5pQ",
        "outputId": "4c185cfd-7944-441c-9a24-d362692ca003"
      },
      "source": [
        "weather[[\"TMIN\", \"TAVG\", \"TMAX\"]].plot(kind = \"box\")\n",
        "\n",
        "plt.show()"
      ],
      "execution_count": null,
      "outputs": [
        {
          "output_type": "stream",
          "text": [
            "C:\\Program Files\\anaconda\\lib\\site-packages\\numpy\\core\\_asarray.py:83: VisibleDeprecationWarning: Creating an ndarray from ragged nested sequences (which is a list-or-tuple of lists-or-tuples-or ndarrays with different lengths or shapes) is deprecated. If you meant to do this, you must specify 'dtype=object' when creating the ndarray\n",
            "  return array(a, dtype, copy=False, order=order)\n"
          ],
          "name": "stderr"
        },
        {
          "output_type": "display_data",
          "data": {
            "image/png": "[encoded data removed]",
            "text/plain": [
              "<Figure size 432x288 with 1 Axes>"
            ]
          },
          "metadata": {
            "tags": [],
            "needs_background": "light"
          }
        }
      ]
    },
    {
      "cell_type": "code",
      "metadata": {
        "id": "SDXqe6EdY5pR"
      },
      "source": [
        "weather[\"TDIFF\"] = weather[\"TMAX\"] - weather[\"TMIN\"]"
      ],
      "execution_count": null,
      "outputs": []
    },
    {
      "cell_type": "code",
      "metadata": {
        "id": "ot2rJR_vY5pR",
        "outputId": "5cf35fc2-d166-4d11-e4a3-69e8d8d534f4"
      },
      "source": [
        "weather.TDIFF.plot(kind = \"hist\", bins = 20)\n",
        "\n",
        "plt.show()"
      ],
      "execution_count": null,
      "outputs": [
        {
          "output_type": "display_data",
          "data": {
            "image/png": "[encoded data removed]",
            "text/plain": [
              "<Figure size 432x288 with 1 Axes>"
            ]
          },
          "metadata": {
            "tags": [],
            "needs_background": "light"
          }
        }
      ]
    },
    {
      "cell_type": "code",
      "metadata": {
        "id": "pZuuBbrcY5pS"
      },
      "source": [
        "WT = weather.loc[:, \"WT01\" : \"WT22\"]"
      ],
      "execution_count": null,
      "outputs": []
    },
    {
      "cell_type": "code",
      "metadata": {
        "id": "Bn0RpdrxY5pT",
        "outputId": "fb8e4636-3924-4ee4-8251-97840cf20efd"
      },
      "source": [
        "WT.head()"
      ],
      "execution_count": null,
      "outputs": [
        {
          "output_type": "execute_result",
          "data": {
            "text/html": [
              "<div>\n",
              "<style scoped>\n",
              "    .dataframe tbody tr th:only-of-type {\n",
              "        vertical-align: middle;\n",
              "    }\n",
              "\n",
              "    .dataframe tbody tr th {\n",
              "        vertical-align: top;\n",
              "    }\n",
              "\n",
              "    .dataframe thead th {\n",
              "        text-align: right;\n",
              "    }\n",
              "</style>\n",
              "<table border=\"1\" class=\"dataframe\">\n",
              "  <thead>\n",
              "    <tr style=\"text-align: right;\">\n",
              "      <th></th>\n",
              "      <th>WT01</th>\n",
              "      <th>WT02</th>\n",
              "      <th>WT03</th>\n",
              "      <th>WT04</th>\n",
              "      <th>WT05</th>\n",
              "      <th>WT06</th>\n",
              "      <th>WT07</th>\n",
              "      <th>WT08</th>\n",
              "      <th>WT09</th>\n",
              "      <th>WT10</th>\n",
              "      <th>WT11</th>\n",
              "      <th>WT13</th>\n",
              "      <th>WT14</th>\n",
              "      <th>WT15</th>\n",
              "      <th>WT16</th>\n",
              "      <th>WT17</th>\n",
              "      <th>WT18</th>\n",
              "      <th>WT19</th>\n",
              "      <th>WT21</th>\n",
              "      <th>WT22</th>\n",
              "    </tr>\n",
              "  </thead>\n",
              "  <tbody>\n",
              "    <tr>\n",
              "      <th>0</th>\n",
              "      <td>NaN</td>\n",
              "      <td>NaN</td>\n",
              "      <td>NaN</td>\n",
              "      <td>NaN</td>\n",
              "      <td>NaN</td>\n",
              "      <td>NaN</td>\n",
              "      <td>NaN</td>\n",
              "      <td>NaN</td>\n",
              "      <td>NaN</td>\n",
              "      <td>NaN</td>\n",
              "      <td>NaN</td>\n",
              "      <td>NaN</td>\n",
              "      <td>NaN</td>\n",
              "      <td>NaN</td>\n",
              "      <td>NaN</td>\n",
              "      <td>NaN</td>\n",
              "      <td>NaN</td>\n",
              "      <td>NaN</td>\n",
              "      <td>NaN</td>\n",
              "      <td>NaN</td>\n",
              "    </tr>\n",
              "    <tr>\n",
              "      <th>1</th>\n",
              "      <td>NaN</td>\n",
              "      <td>NaN</td>\n",
              "      <td>NaN</td>\n",
              "      <td>NaN</td>\n",
              "      <td>NaN</td>\n",
              "      <td>NaN</td>\n",
              "      <td>NaN</td>\n",
              "      <td>NaN</td>\n",
              "      <td>NaN</td>\n",
              "      <td>NaN</td>\n",
              "      <td>NaN</td>\n",
              "      <td>NaN</td>\n",
              "      <td>NaN</td>\n",
              "      <td>NaN</td>\n",
              "      <td>NaN</td>\n",
              "      <td>NaN</td>\n",
              "      <td>NaN</td>\n",
              "      <td>NaN</td>\n",
              "      <td>NaN</td>\n",
              "      <td>NaN</td>\n",
              "    </tr>\n",
              "    <tr>\n",
              "      <th>2</th>\n",
              "      <td>NaN</td>\n",
              "      <td>NaN</td>\n",
              "      <td>NaN</td>\n",
              "      <td>NaN</td>\n",
              "      <td>NaN</td>\n",
              "      <td>NaN</td>\n",
              "      <td>NaN</td>\n",
              "      <td>NaN</td>\n",
              "      <td>NaN</td>\n",
              "      <td>NaN</td>\n",
              "      <td>NaN</td>\n",
              "      <td>NaN</td>\n",
              "      <td>NaN</td>\n",
              "      <td>NaN</td>\n",
              "      <td>NaN</td>\n",
              "      <td>NaN</td>\n",
              "      <td>NaN</td>\n",
              "      <td>NaN</td>\n",
              "      <td>NaN</td>\n",
              "      <td>NaN</td>\n",
              "    </tr>\n",
              "    <tr>\n",
              "      <th>3</th>\n",
              "      <td>NaN</td>\n",
              "      <td>NaN</td>\n",
              "      <td>NaN</td>\n",
              "      <td>NaN</td>\n",
              "      <td>NaN</td>\n",
              "      <td>NaN</td>\n",
              "      <td>NaN</td>\n",
              "      <td>NaN</td>\n",
              "      <td>NaN</td>\n",
              "      <td>NaN</td>\n",
              "      <td>NaN</td>\n",
              "      <td>NaN</td>\n",
              "      <td>NaN</td>\n",
              "      <td>NaN</td>\n",
              "      <td>NaN</td>\n",
              "      <td>NaN</td>\n",
              "      <td>NaN</td>\n",
              "      <td>NaN</td>\n",
              "      <td>NaN</td>\n",
              "      <td>NaN</td>\n",
              "    </tr>\n",
              "    <tr>\n",
              "      <th>4</th>\n",
              "      <td>NaN</td>\n",
              "      <td>NaN</td>\n",
              "      <td>NaN</td>\n",
              "      <td>NaN</td>\n",
              "      <td>NaN</td>\n",
              "      <td>NaN</td>\n",
              "      <td>NaN</td>\n",
              "      <td>NaN</td>\n",
              "      <td>NaN</td>\n",
              "      <td>NaN</td>\n",
              "      <td>NaN</td>\n",
              "      <td>NaN</td>\n",
              "      <td>NaN</td>\n",
              "      <td>NaN</td>\n",
              "      <td>NaN</td>\n",
              "      <td>NaN</td>\n",
              "      <td>NaN</td>\n",
              "      <td>NaN</td>\n",
              "      <td>NaN</td>\n",
              "      <td>NaN</td>\n",
              "    </tr>\n",
              "  </tbody>\n",
              "</table>\n",
              "</div>"
            ],
            "text/plain": [
              "   WT01  WT02  WT03  WT04  WT05  WT06  WT07  WT08  WT09  WT10  WT11  WT13  \\\n",
              "0   NaN   NaN   NaN   NaN   NaN   NaN   NaN   NaN   NaN   NaN   NaN   NaN   \n",
              "1   NaN   NaN   NaN   NaN   NaN   NaN   NaN   NaN   NaN   NaN   NaN   NaN   \n",
              "2   NaN   NaN   NaN   NaN   NaN   NaN   NaN   NaN   NaN   NaN   NaN   NaN   \n",
              "3   NaN   NaN   NaN   NaN   NaN   NaN   NaN   NaN   NaN   NaN   NaN   NaN   \n",
              "4   NaN   NaN   NaN   NaN   NaN   NaN   NaN   NaN   NaN   NaN   NaN   NaN   \n",
              "\n",
              "   WT14  WT15  WT16  WT17  WT18  WT19  WT21  WT22  \n",
              "0   NaN   NaN   NaN   NaN   NaN   NaN   NaN   NaN  \n",
              "1   NaN   NaN   NaN   NaN   NaN   NaN   NaN   NaN  \n",
              "2   NaN   NaN   NaN   NaN   NaN   NaN   NaN   NaN  \n",
              "3   NaN   NaN   NaN   NaN   NaN   NaN   NaN   NaN  \n",
              "4   NaN   NaN   NaN   NaN   NaN   NaN   NaN   NaN  "
            ]
          },
          "metadata": {
            "tags": []
          },
          "execution_count": 132
        }
      ]
    },
    {
      "cell_type": "code",
      "metadata": {
        "id": "FvXLoHMDY5pU"
      },
      "source": [
        "weather[\"bad_conditions\"] = WT.sum(axis = \"columns\")"
      ],
      "execution_count": null,
      "outputs": []
    },
    {
      "cell_type": "code",
      "metadata": {
        "id": "6js_LIA5Y5pV",
        "outputId": "09f75330-8f35-45b2-b06b-44eb0184b1f5"
      },
      "source": [
        "weather.bad_conditions.value_counts(dropna = False)"
      ],
      "execution_count": null,
      "outputs": [
        {
          "output_type": "execute_result",
          "data": {
            "text/plain": [
              "0.0    5738\n",
              "1.0     628\n",
              "4.0     476\n",
              "3.0     380\n",
              "2.0     368\n",
              "5.0     282\n",
              "6.0     101\n",
              "7.0      41\n",
              "8.0       4\n",
              "9.0       4\n",
              "Name: bad_conditions, dtype: int64"
            ]
          },
          "metadata": {
            "tags": []
          },
          "execution_count": 134
        }
      ]
    },
    {
      "cell_type": "code",
      "metadata": {
        "id": "hA7kGaCgY5pW"
      },
      "source": [
        "weather[\"bad_conditions\"] = weather.bad_conditions.fillna(0).astype(\"int\")"
      ],
      "execution_count": null,
      "outputs": []
    },
    {
      "cell_type": "code",
      "metadata": {
        "id": "4f3mJFlqY5pX",
        "outputId": "3f3679a0-091b-42b5-d93f-cab91993eb45"
      },
      "source": [
        "weather.bad_conditions.plot(kind = \"hist\")\n",
        "\n",
        "plt.show()"
      ],
      "execution_count": null,
      "outputs": [
        {
          "output_type": "display_data",
          "data": {
            "image/png": "[encoded data removed]",
            "text/plain": [
              "<Figure size 432x288 with 1 Axes>"
            ]
          },
          "metadata": {
            "tags": [],
            "needs_background": "light"
          }
        }
      ]
    },
    {
      "cell_type": "code",
      "metadata": {
        "id": "dUZefcJ2Y5pZ",
        "outputId": "cc285e47-9497-4410-d9d3-e6bbc9659d9b"
      },
      "source": [
        "weather.bad_conditions.value_counts(dropna = False)"
      ],
      "execution_count": null,
      "outputs": [
        {
          "output_type": "execute_result",
          "data": {
            "text/plain": [
              "0    5738\n",
              "1     628\n",
              "4     476\n",
              "3     380\n",
              "2     368\n",
              "5     282\n",
              "6     101\n",
              "7      41\n",
              "9       4\n",
              "8       4\n",
              "Name: bad_conditions, dtype: int64"
            ]
          },
          "metadata": {
            "tags": []
          },
          "execution_count": 137
        }
      ]
    },
    {
      "cell_type": "code",
      "metadata": {
        "id": "LNX3fGOkY5pb",
        "outputId": "efbad889-8223-4cc7-a85f-5ce88959c1a9"
      },
      "source": [
        "weather.bad_conditions.value_counts(dropna = False).sort_index()"
      ],
      "execution_count": null,
      "outputs": [
        {
          "output_type": "execute_result",
          "data": {
            "text/plain": [
              "0    5738\n",
              "1     628\n",
              "2     368\n",
              "3     380\n",
              "4     476\n",
              "5     282\n",
              "6     101\n",
              "7      41\n",
              "8       4\n",
              "9       4\n",
              "Name: bad_conditions, dtype: int64"
            ]
          },
          "metadata": {
            "tags": []
          },
          "execution_count": 138
        }
      ]
    },
    {
      "cell_type": "code",
      "metadata": {
        "id": "IiswMLIsY5pc"
      },
      "source": [
        "mapping = {0:'good', 1:'bad', 2:'bad', 3:'bad', 4:'bad', 5:'worse', 6:'worse', 7:'worse', 8:'worse', 9:'worse'}"
      ],
      "execution_count": null,
      "outputs": []
    },
    {
      "cell_type": "code",
      "metadata": {
        "id": "4QuFa5DYY5pd"
      },
      "source": [
        "weather[\"rating\"] = weather.bad_conditions.map(mapping)"
      ],
      "execution_count": null,
      "outputs": []
    },
    {
      "cell_type": "code",
      "metadata": {
        "id": "4ibo7b74Y5pe",
        "outputId": "00331998-bb50-41a2-e5ad-883e43940903"
      },
      "source": [
        "weather.rating.value_counts(dropna = False)"
      ],
      "execution_count": null,
      "outputs": [
        {
          "output_type": "execute_result",
          "data": {
            "text/plain": [
              "good     5738\n",
              "bad      1852\n",
              "worse     432\n",
              "Name: rating, dtype: int64"
            ]
          },
          "metadata": {
            "tags": []
          },
          "execution_count": 141
        }
      ]
    },
    {
      "cell_type": "code",
      "metadata": {
        "id": "wIdsgQxoY5pf",
        "outputId": "0de43b56-f596-4da1-eae9-c69960b3f8f0"
      },
      "source": [
        "weather.rating[0]"
      ],
      "execution_count": null,
      "outputs": [
        {
          "output_type": "execute_result",
          "data": {
            "text/plain": [
              "'good'"
            ]
          },
          "metadata": {
            "tags": []
          },
          "execution_count": 142
        }
      ]
    },
    {
      "cell_type": "code",
      "metadata": {
        "id": "ktZKtOlsY5pg",
        "outputId": "ebd1fd01-55fb-4a8d-c074-8a782941de5b"
      },
      "source": [
        "type(weather.rating[0])"
      ],
      "execution_count": null,
      "outputs": [
        {
          "output_type": "execute_result",
          "data": {
            "text/plain": [
              "str"
            ]
          },
          "metadata": {
            "tags": []
          },
          "execution_count": 143
        }
      ]
    },
    {
      "cell_type": "code",
      "metadata": {
        "id": "fUr1jAXlY5ph"
      },
      "source": [
        "cats = [\"good\", \"bad\", \"worse\"]"
      ],
      "execution_count": null,
      "outputs": []
    },
    {
      "cell_type": "code",
      "metadata": {
        "id": "D8MpWqmXY5pi"
      },
      "source": [
        "weather[\"rating\"] = pd.Categorical(weather[\"rating\"], ordered = True, categories = cats)"
      ],
      "execution_count": null,
      "outputs": []
    },
    {
      "cell_type": "code",
      "metadata": {
        "id": "PxNmafT2Y5pj",
        "outputId": "c929baef-0447-4eae-b1ef-28fb4b527bcd"
      },
      "source": [
        "weather.rating.tail()"
      ],
      "execution_count": null,
      "outputs": [
        {
          "output_type": "execute_result",
          "data": {
            "text/plain": [
              "8017     bad\n",
              "8018    good\n",
              "8019     bad\n",
              "8020     bad\n",
              "8021     bad\n",
              "Name: rating, dtype: category\n",
              "Categories (3, object): [good < bad < worse]"
            ]
          },
          "metadata": {
            "tags": []
          },
          "execution_count": 146
        }
      ]
    },
    {
      "cell_type": "code",
      "metadata": {
        "id": "gWUt59tqY5pk",
        "outputId": "b6690898-16c6-4c66-a22d-52c659a4dd42"
      },
      "source": [
        "weather.rating.min()"
      ],
      "execution_count": null,
      "outputs": [
        {
          "output_type": "execute_result",
          "data": {
            "text/plain": [
              "'good'"
            ]
          },
          "metadata": {
            "tags": []
          },
          "execution_count": 147
        }
      ]
    },
    {
      "cell_type": "code",
      "metadata": {
        "id": "FMu45EieY5pl",
        "outputId": "e19b883d-9993-4b34-f30e-812c6bce98c7"
      },
      "source": [
        "weather.rating.max()"
      ],
      "execution_count": null,
      "outputs": [
        {
          "output_type": "execute_result",
          "data": {
            "text/plain": [
              "'worse'"
            ]
          },
          "metadata": {
            "tags": []
          },
          "execution_count": 148
        }
      ]
    },
    {
      "cell_type": "code",
      "metadata": {
        "id": "qlmTM0UlY5pm",
        "outputId": "a3d4e540-a24c-452a-ecf7-13ec04ccfd4e"
      },
      "source": [
        "weather.rating.sort_values()"
      ],
      "execution_count": null,
      "outputs": [
        {
          "output_type": "execute_result",
          "data": {
            "text/plain": [
              "0        good\n",
              "3832     good\n",
              "3831     good\n",
              "3830     good\n",
              "3829     good\n",
              "        ...  \n",
              "4853    worse\n",
              "4852    worse\n",
              "4851    worse\n",
              "4871    worse\n",
              "4010    worse\n",
              "Name: rating, Length: 8022, dtype: category\n",
              "Categories (3, object): [good < bad < worse]"
            ]
          },
          "metadata": {
            "tags": []
          },
          "execution_count": 149
        }
      ]
    },
    {
      "cell_type": "code",
      "metadata": {
        "id": "-rzi1Q2CY5pn"
      },
      "source": [
        "weather_rating = weather[[\"DATE\", \"rating\"]]"
      ],
      "execution_count": null,
      "outputs": []
    },
    {
      "cell_type": "code",
      "metadata": {
        "id": "Nom4UsgMY5pr",
        "outputId": "bb2bf14e-8746-4771-bca2-d630074e7394"
      },
      "source": [
        "weather_rating.head()"
      ],
      "execution_count": null,
      "outputs": [
        {
          "output_type": "execute_result",
          "data": {
            "text/html": [
              "<div>\n",
              "<style scoped>\n",
              "    .dataframe tbody tr th:only-of-type {\n",
              "        vertical-align: middle;\n",
              "    }\n",
              "\n",
              "    .dataframe tbody tr th {\n",
              "        vertical-align: top;\n",
              "    }\n",
              "\n",
              "    .dataframe thead th {\n",
              "        text-align: right;\n",
              "    }\n",
              "</style>\n",
              "<table border=\"1\" class=\"dataframe\">\n",
              "  <thead>\n",
              "    <tr style=\"text-align: right;\">\n",
              "      <th></th>\n",
              "      <th>DATE</th>\n",
              "      <th>rating</th>\n",
              "    </tr>\n",
              "  </thead>\n",
              "  <tbody>\n",
              "    <tr>\n",
              "      <th>0</th>\n",
              "      <td>2005-01-01</td>\n",
              "      <td>good</td>\n",
              "    </tr>\n",
              "    <tr>\n",
              "      <th>1</th>\n",
              "      <td>2005-01-02</td>\n",
              "      <td>good</td>\n",
              "    </tr>\n",
              "    <tr>\n",
              "      <th>2</th>\n",
              "      <td>2005-01-03</td>\n",
              "      <td>good</td>\n",
              "    </tr>\n",
              "    <tr>\n",
              "      <th>3</th>\n",
              "      <td>2005-01-04</td>\n",
              "      <td>good</td>\n",
              "    </tr>\n",
              "    <tr>\n",
              "      <th>4</th>\n",
              "      <td>2005-01-05</td>\n",
              "      <td>good</td>\n",
              "    </tr>\n",
              "  </tbody>\n",
              "</table>\n",
              "</div>"
            ],
            "text/plain": [
              "         DATE rating\n",
              "0  2005-01-01   good\n",
              "1  2005-01-02   good\n",
              "2  2005-01-03   good\n",
              "3  2005-01-04   good\n",
              "4  2005-01-05   good"
            ]
          },
          "metadata": {
            "tags": []
          },
          "execution_count": 151
        }
      ]
    },
    {
      "cell_type": "code",
      "metadata": {
        "id": "vN4LfOf4Y5ps",
        "outputId": "bbe92cfb-dfe9-47e5-aace-5bf0c3e20129"
      },
      "source": [
        "weather_rating.shape"
      ],
      "execution_count": null,
      "outputs": [
        {
          "output_type": "execute_result",
          "data": {
            "text/plain": [
              "(8022, 2)"
            ]
          },
          "metadata": {
            "tags": []
          },
          "execution_count": 152
        }
      ]
    },
    {
      "cell_type": "code",
      "metadata": {
        "id": "3yYQWZX2Y5pt",
        "outputId": "c78ef760-e223-460a-a6a4-6f4095713e4c"
      },
      "source": [
        "weather_rating.DATE.nunique()"
      ],
      "execution_count": null,
      "outputs": [
        {
          "output_type": "execute_result",
          "data": {
            "text/plain": [
              "4017"
            ]
          },
          "metadata": {
            "tags": []
          },
          "execution_count": 153
        }
      ]
    },
    {
      "cell_type": "code",
      "metadata": {
        "id": "cMg9kvj0Y5pu"
      },
      "source": [
        "# ri.stop_date()"
      ],
      "execution_count": null,
      "outputs": []
    },
    {
      "cell_type": "code",
      "metadata": {
        "id": "1SenRdQDY5pv",
        "outputId": "6edc7145-cdd7-45c5-dba5-24c10c7e5528"
      },
      "source": [
        "weather_rating.DATE[3]"
      ],
      "execution_count": null,
      "outputs": [
        {
          "output_type": "execute_result",
          "data": {
            "text/plain": [
              "'2005-01-04'"
            ]
          },
          "metadata": {
            "tags": []
          },
          "execution_count": 158
        }
      ]
    },
    {
      "cell_type": "code",
      "metadata": {
        "id": "AAiwgIA2Y5pv",
        "outputId": "b1199f1b-07d7-42c6-9dc9-d48f05288db4"
      },
      "source": [
        "ri.shape"
      ],
      "execution_count": null,
      "outputs": [
        {
          "output_type": "execute_result",
          "data": {
            "text/plain": [
              "(480584, 21)"
            ]
          },
          "metadata": {
            "tags": []
          },
          "execution_count": 159
        }
      ]
    },
    {
      "cell_type": "code",
      "metadata": {
        "id": "yNzoLTmBY5pw"
      },
      "source": [
        "# ri_weather = pd.merge(left = ri, right = weather_rating, left_on = \"stop_date\", right_on = \"DATE\", how = \"left\")"
      ],
      "execution_count": null,
      "outputs": []
    },
    {
      "cell_type": "code",
      "metadata": {
        "id": "6NR9h4NtY5px"
      },
      "source": [
        "# ri_weather.shape"
      ],
      "execution_count": null,
      "outputs": []
    }
  ]
}